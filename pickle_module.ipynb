{
 "cells": [
  {
   "cell_type": "raw",
   "metadata": {},
   "source": [
    "Serialization is a process to convert normal data structures into a seriel form that can be stored or transmitted over a network.\n",
    "\n",
    "In python serialization allows us to convert data structures into a stream of bytes that can be saved or transferred over a network. This process is also called as marshalling.\n",
    "\n",
    "The reverse process (bytes to normal python data structures) is knows as deserialization or unmarshalling.\n",
    "\n",
    "In python we can use 3 modules to serialize.\n",
    "\n",
    "1. marshal\n",
    "\n",
    "2. json\n",
    "\n",
    "3. pickle"
   ]
  },
  {
   "cell_type": "raw",
   "metadata": {},
   "source": [
    "marshal is the oldest out of these 3 not using much now a days.\n",
    "\n",
    "json module is a common and widely used format for serialization and deserialization. it converts to json format (readble for other users).\n",
    "\n",
    "pickle module serialize objects in binary format (result is directly not readable for other users). Its faster than json. more data types work than json."
   ]
  },
  {
   "cell_type": "markdown",
   "metadata": {},
   "source": [
    "### terms pickling and unpickling used to refer to serializing and deserializing with the Python pickle module"
   ]
  },
  {
   "cell_type": "raw",
   "metadata": {},
   "source": [
    "pickle.dump, pickle.dumps methods are available for pickling process and \n",
    "pickle.load, pickle.loads helps for unpickling"
   ]
  },
  {
   "cell_type": "markdown",
   "metadata": {},
   "source": [
    "#### pickle.dumps\n",
    "\n",
    "#### pickle.loads"
   ]
  },
  {
   "cell_type": "code",
   "execution_count": 3,
   "metadata": {},
   "outputs": [
    {
     "name": "stdout",
     "output_type": "stream",
     "text": [
      "b'\\x80\\x04\\x951\\x00\\x00\\x00\\x00\\x00\\x00\\x00]\\x94(K\\x01K\\x02K\\x03\\x8c\\x01a\\x94\\x8c\\x01b\\x94]\\x94(K\\nK\\x14e\\x8c\\x01x\\x94\\x8c\\x01y\\x94\\x86\\x94}\\x94(K\\x01h\\x01K\\x02h\\x02ue.'\n",
      "[1, 2, 3, 'a', 'b', [10, 20], ('x', 'y'), {1: 'a', 2: 'b'}]\n"
     ]
    }
   ],
   "source": [
    "import pickle\n",
    "\n",
    "x = [1, 2, 3, 'a', 'b', [10,20], ('x', 'y'), {1:'a', 2:'b'}]\n",
    "\n",
    "\n",
    "# pickling\n",
    "pic_x = pickle.dumps(x)\n",
    "\n",
    "print(pic_x)\n",
    "\n",
    "\n",
    "#unpickling\n",
    "\n",
    "unpic_x = pickle.loads(pic_x)\n",
    "print(unpic_x)"
   ]
  },
  {
   "cell_type": "markdown",
   "metadata": {},
   "source": [
    "# pickle.dumps results a string\n",
    "# pickle.dump creates a file with result"
   ]
  },
  {
   "cell_type": "markdown",
   "metadata": {},
   "source": [
    "#### pickle.dump"
   ]
  },
  {
   "cell_type": "code",
   "execution_count": 16,
   "metadata": {},
   "outputs": [],
   "source": [
    "x = [1, 2, 3, 'a', 'b', [10,20], ('x', 'y'), {1:'a', 2:'b'}]"
   ]
  },
  {
   "cell_type": "code",
   "execution_count": 20,
   "metadata": {},
   "outputs": [],
   "source": [
    "file = open(r'C:\\Users\\Sreeraj\\Documents\\pickle', 'wb')"
   ]
  },
  {
   "cell_type": "code",
   "execution_count": 21,
   "metadata": {},
   "outputs": [],
   "source": [
    "pickle.dump(x, file)"
   ]
  },
  {
   "cell_type": "code",
   "execution_count": 22,
   "metadata": {},
   "outputs": [],
   "source": [
    "file.close()"
   ]
  },
  {
   "cell_type": "markdown",
   "metadata": {},
   "source": [
    "#### pickle.load"
   ]
  },
  {
   "cell_type": "code",
   "execution_count": 23,
   "metadata": {},
   "outputs": [
    {
     "name": "stdout",
     "output_type": "stream",
     "text": [
      "[1, 2, 3, 'a', 'b', [10, 20], ('x', 'y'), {1: 'a', 2: 'b'}]\n"
     ]
    }
   ],
   "source": [
    "file2 = open(r'C:\\Users\\Sreeraj\\Documents\\pickle', 'rb')\n",
    "\n",
    "data = pickle.load(file2)\n",
    "file2.close()\n",
    "\n",
    "print(data)"
   ]
  },
  {
   "cell_type": "markdown",
   "metadata": {},
   "source": []
  },
  {
   "cell_type": "code",
   "execution_count": null,
   "metadata": {},
   "outputs": [],
   "source": []
  },
  {
   "cell_type": "code",
   "execution_count": null,
   "metadata": {},
   "outputs": [],
   "source": []
  },
  {
   "cell_type": "code",
   "execution_count": 33,
   "metadata": {},
   "outputs": [],
   "source": [
    "dict1 = {'a':1, 'b':2.5, 'c':'x', 'd':[1,2], 'e':(5,10), 'f':{1:100, 2:200}}"
   ]
  },
  {
   "cell_type": "code",
   "execution_count": 34,
   "metadata": {},
   "outputs": [],
   "source": [
    "with open(r'C:\\Users\\Sreeraj\\Documents\\pickle2', 'wb')as f:\n",
    "    pickle.dump(dict1, f)"
   ]
  },
  {
   "cell_type": "code",
   "execution_count": null,
   "metadata": {},
   "outputs": [],
   "source": []
  },
  {
   "cell_type": "code",
   "execution_count": 35,
   "metadata": {},
   "outputs": [],
   "source": [
    "f2 = open(r'C:\\Users\\Sreeraj\\Documents\\pickle2', 'rb')\n",
    "dict2 = pickle.load(f2)\n",
    "f2.close()"
   ]
  },
  {
   "cell_type": "code",
   "execution_count": 36,
   "metadata": {},
   "outputs": [
    {
     "data": {
      "text/plain": [
       "{'a': 1, 'b': 2.5, 'c': 'x', 'd': [1, 2], 'e': (5, 10), 'f': {1: 100, 2: 200}}"
      ]
     },
     "execution_count": 36,
     "metadata": {},
     "output_type": "execute_result"
    }
   ],
   "source": [
    "dict2"
   ]
  },
  {
   "cell_type": "code",
   "execution_count": null,
   "metadata": {},
   "outputs": [],
   "source": []
  }
 ],
 "metadata": {
  "kernelspec": {
   "display_name": "Python 3",
   "language": "python",
   "name": "python3"
  },
  "language_info": {
   "codemirror_mode": {
    "name": "ipython",
    "version": 3
   },
   "file_extension": ".py",
   "mimetype": "text/x-python",
   "name": "python",
   "nbconvert_exporter": "python",
   "pygments_lexer": "ipython3",
   "version": "3.8.3"
  }
 },
 "nbformat": 4,
 "nbformat_minor": 4
}
