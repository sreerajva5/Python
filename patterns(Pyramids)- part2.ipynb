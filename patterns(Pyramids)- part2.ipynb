{
 "cells": [
  {
   "cell_type": "markdown",
   "metadata": {},
   "source": [
    "#### 9. pyramid vertically"
   ]
  },
  {
   "cell_type": "code",
   "execution_count": 2,
   "metadata": {},
   "outputs": [
    {
     "name": "stdout",
     "output_type": "stream",
     "text": [
      "* \n",
      "* * \n",
      "* * * \n",
      "* * * * \n",
      "* * * * * \n",
      "* * * * \n",
      "* * * \n",
      "* * \n",
      "* \n"
     ]
    }
   ],
   "source": [
    "# n represents the count of '*' in middle line\n",
    "\n",
    "def pattern9(n):\n",
    "    for i in range(1,n+1):\n",
    "        print(i*'* ')\n",
    "    for i in range(n-1, 0,-1):\n",
    "        print(i*'* ')\n",
    "        \n",
    "pattern9(5)"
   ]
  },
  {
   "cell_type": "markdown",
   "metadata": {},
   "source": [
    "#### 10. Number pyramid - vertically"
   ]
  },
  {
   "cell_type": "code",
   "execution_count": 32,
   "metadata": {},
   "outputs": [],
   "source": [
    "def patern10(n):\n",
    "    for i in range(1,n+1):\n",
    "        for j in range(1,i+1):\n",
    "            print(j, end=' ')\n",
    "        print()\n",
    "    for i in range(n,0,-1):\n",
    "        for j in range(1,i):\n",
    "            print(j, end=' ')\n",
    "        print('')"
   ]
  },
  {
   "cell_type": "code",
   "execution_count": 33,
   "metadata": {},
   "outputs": [
    {
     "name": "stdout",
     "output_type": "stream",
     "text": [
      "1 \n",
      "1 2 \n",
      "1 2 3 \n",
      "1 2 3 4 \n",
      "1 2 3 4 5 \n",
      "1 2 3 4 \n",
      "1 2 3 \n",
      "1 2 \n",
      "1 \n",
      "\n"
     ]
    }
   ],
   "source": [
    "patern10(5)"
   ]
  },
  {
   "cell_type": "markdown",
   "metadata": {},
   "source": [
    "#### 11. pyramid vertically - reverse order"
   ]
  },
  {
   "cell_type": "code",
   "execution_count": 68,
   "metadata": {},
   "outputs": [],
   "source": [
    "def pattern11(n):\n",
    "    for i in range(1,n+1):\n",
    "        print((n-i)*' ' + i*'*')\n",
    "    for i in range(1,n):\n",
    "        print(i*' '+(n-i)*'*')"
   ]
  },
  {
   "cell_type": "code",
   "execution_count": 69,
   "metadata": {},
   "outputs": [
    {
     "name": "stdout",
     "output_type": "stream",
     "text": [
      "    *\n",
      "   **\n",
      "  ***\n",
      " ****\n",
      "*****\n",
      " ****\n",
      "  ***\n",
      "   **\n",
      "    *\n"
     ]
    }
   ],
   "source": [
    "pattern11(5)"
   ]
  },
  {
   "cell_type": "markdown",
   "metadata": {},
   "source": [
    "#### 12. letter pyramid - vertical"
   ]
  },
  {
   "cell_type": "code",
   "execution_count": 24,
   "metadata": {},
   "outputs": [],
   "source": [
    "def pattern12(n):\n",
    "    x=65\n",
    "    for i in range(1,n+1):\n",
    "        for j in range(i):\n",
    "            print(chr(x)+' ',end='')\n",
    "        x +=1\n",
    "        print('')\n",
    "    x -= 2\n",
    "    for i in range(n-1,0,-1):\n",
    "        for j in range(i):\n",
    "            print(chr(x)+' ',end='')\n",
    "        x -=1\n",
    "        print('')"
   ]
  },
  {
   "cell_type": "code",
   "execution_count": 25,
   "metadata": {},
   "outputs": [
    {
     "name": "stdout",
     "output_type": "stream",
     "text": [
      "A \n",
      "B B \n",
      "C C C \n",
      "D D D D \n",
      "E E E E E \n",
      "D D D D \n",
      "C C C \n",
      "B B \n",
      "A \n"
     ]
    }
   ],
   "source": [
    "pattern12(5)"
   ]
  },
  {
   "cell_type": "markdown",
   "metadata": {},
   "source": [
    "#### 13. letter pyramid - vertical (with 26 plus letters - repeat)"
   ]
  },
  {
   "cell_type": "code",
   "execution_count": 16,
   "metadata": {},
   "outputs": [],
   "source": [
    "def pattern13(n):\n",
    "    x=65\n",
    "    for i in range(1,n+1):\n",
    "        for j in range(i):\n",
    "            print(chr(x)+' ',end='')\n",
    "        x +=1\n",
    "        if x == 91:\n",
    "            x = 65\n",
    "        print('')\n",
    "        \n",
    "    if x==65:\n",
    "        x=x\n",
    "    elif x==66:\n",
    "        x=90\n",
    "    else:\n",
    "        x -= 2\n",
    "    \n",
    "    for i in range(n-1,0,-1):\n",
    "        for j in range(i):\n",
    "            print(chr(x)+' ',end='')\n",
    "        if x == 91:\n",
    "            x = 65\n",
    "        elif x == 65:\n",
    "            x = 90\n",
    "        else:\n",
    "            x -= 1\n",
    "        print('')"
   ]
  },
  {
   "cell_type": "code",
   "execution_count": 24,
   "metadata": {},
   "outputs": [
    {
     "name": "stdout",
     "output_type": "stream",
     "text": [
      "A \n",
      "B B \n",
      "C C C \n",
      "D D D D \n",
      "E E E E E \n",
      "F F F F F F \n",
      "G G G G G G G \n",
      "H H H H H H H H \n",
      "I I I I I I I I I \n",
      "J J J J J J J J J J \n",
      "K K K K K K K K K K K \n",
      "L L L L L L L L L L L L \n",
      "M M M M M M M M M M M M M \n",
      "N N N N N N N N N N N N N N \n",
      "O O O O O O O O O O O O O O O \n",
      "P P P P P P P P P P P P P P P P \n",
      "Q Q Q Q Q Q Q Q Q Q Q Q Q Q Q Q Q \n",
      "R R R R R R R R R R R R R R R R R R \n",
      "S S S S S S S S S S S S S S S S S S S \n",
      "T T T T T T T T T T T T T T T T T T T T \n",
      "U U U U U U U U U U U U U U U U U U U U U \n",
      "V V V V V V V V V V V V V V V V V V V V V V \n",
      "W W W W W W W W W W W W W W W W W W W W W W W \n",
      "X X X X X X X X X X X X X X X X X X X X X X X X \n",
      "Y Y Y Y Y Y Y Y Y Y Y Y Y Y Y Y Y Y Y Y Y Y Y Y Y \n",
      "Z Z Z Z Z Z Z Z Z Z Z Z Z Z Z Z Z Z Z Z Z Z Z Z Z Z \n",
      "A A A A A A A A A A A A A A A A A A A A A A A A A A A \n",
      "B B B B B B B B B B B B B B B B B B B B B B B B B B B B \n",
      "A A A A A A A A A A A A A A A A A A A A A A A A A A A \n",
      "Z Z Z Z Z Z Z Z Z Z Z Z Z Z Z Z Z Z Z Z Z Z Z Z Z Z \n",
      "Y Y Y Y Y Y Y Y Y Y Y Y Y Y Y Y Y Y Y Y Y Y Y Y Y \n",
      "X X X X X X X X X X X X X X X X X X X X X X X X \n",
      "W W W W W W W W W W W W W W W W W W W W W W W \n",
      "V V V V V V V V V V V V V V V V V V V V V V \n",
      "U U U U U U U U U U U U U U U U U U U U U \n",
      "T T T T T T T T T T T T T T T T T T T T \n",
      "S S S S S S S S S S S S S S S S S S S \n",
      "R R R R R R R R R R R R R R R R R R \n",
      "Q Q Q Q Q Q Q Q Q Q Q Q Q Q Q Q Q \n",
      "P P P P P P P P P P P P P P P P \n",
      "O O O O O O O O O O O O O O O \n",
      "N N N N N N N N N N N N N N \n",
      "M M M M M M M M M M M M M \n",
      "L L L L L L L L L L L L \n",
      "K K K K K K K K K K K \n",
      "J J J J J J J J J J \n",
      "I I I I I I I I I \n",
      "H H H H H H H H \n",
      "G G G G G G G \n",
      "F F F F F F \n",
      "E E E E E \n",
      "D D D D \n",
      "C C C \n",
      "B B \n",
      "A \n"
     ]
    }
   ],
   "source": [
    "pattern13(28)"
   ]
  },
  {
   "cell_type": "markdown",
   "metadata": {},
   "source": [
    "##### Pattern 14- even number pyramid"
   ]
  },
  {
   "cell_type": "markdown",
   "metadata": {},
   "source": [
    "####### option-1"
   ]
  },
  {
   "cell_type": "code",
   "execution_count": 15,
   "metadata": {},
   "outputs": [],
   "source": [
    "# n represents number of rows\n",
    "def pattern14_1(n):\n",
    "    x=2\n",
    "    for i in range(1,n+1):\n",
    "        for j in range(i):\n",
    "            print(str(x), end = ' ')\n",
    "        x += 2\n",
    "        print('')"
   ]
  },
  {
   "cell_type": "code",
   "execution_count": 16,
   "metadata": {},
   "outputs": [
    {
     "name": "stdout",
     "output_type": "stream",
     "text": [
      "2 \n",
      "4 4 \n",
      "6 6 6 \n",
      "8 8 8 8 \n"
     ]
    }
   ],
   "source": [
    "pattern14_1(4)"
   ]
  },
  {
   "cell_type": "markdown",
   "metadata": {},
   "source": [
    "####### option-2"
   ]
  },
  {
   "cell_type": "code",
   "execution_count": 17,
   "metadata": {},
   "outputs": [],
   "source": [
    "# n represents number of rows\n",
    "def pattern14_2(n):\n",
    "    x=2\n",
    "    for i in range(1,n+1):\n",
    "        for j in range(i):\n",
    "            print(str(x), end = ' ')\n",
    "            x += 2\n",
    "        print('')"
   ]
  },
  {
   "cell_type": "code",
   "execution_count": 19,
   "metadata": {},
   "outputs": [
    {
     "name": "stdout",
     "output_type": "stream",
     "text": [
      "2 \n",
      "4 6 \n",
      "8 10 12 \n",
      "14 16 18 20 \n",
      "22 24 26 28 30 \n"
     ]
    }
   ],
   "source": [
    "pattern14_2(5)"
   ]
  }
 ],
 "metadata": {
  "kernelspec": {
   "display_name": "Python 3",
   "language": "python",
   "name": "python3"
  },
  "language_info": {
   "codemirror_mode": {
    "name": "ipython",
    "version": 3
   },
   "file_extension": ".py",
   "mimetype": "text/x-python",
   "name": "python",
   "nbconvert_exporter": "python",
   "pygments_lexer": "ipython3",
   "version": "3.8.3"
  }
 },
 "nbformat": 4,
 "nbformat_minor": 4
}
