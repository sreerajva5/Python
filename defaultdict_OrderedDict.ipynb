{
 "cells": [
  {
   "cell_type": "markdown",
   "metadata": {},
   "source": [
    "## defaultdict & OrderedDict"
   ]
  },
  {
   "cell_type": "markdown",
   "metadata": {},
   "source": [
    "#### defaultdict"
   ]
  },
  {
   "cell_type": "code",
   "execution_count": 1,
   "metadata": {},
   "outputs": [],
   "source": [
    "from collections import defaultdict"
   ]
  },
  {
   "cell_type": "markdown",
   "metadata": {},
   "source": [
    "###### Example 1"
   ]
  },
  {
   "cell_type": "code",
   "execution_count": 8,
   "metadata": {},
   "outputs": [],
   "source": [
    "list1 = [('a' , 'apple'), ('b' , 'ball'), ('c' , 'cat'), ('a' , 'amma')]"
   ]
  },
  {
   "cell_type": "code",
   "execution_count": 12,
   "metadata": {},
   "outputs": [
    {
     "name": "stdout",
     "output_type": "stream",
     "text": [
      "{'a': 'amma', 'b': 'ball', 'c': 'cat'}\n"
     ]
    }
   ],
   "source": [
    "# list1 is converting to dictionary\n",
    "dict1 = {}\n",
    "for i,j in list1:\n",
    "    dict1[i] = j\n",
    "print(dict1)"
   ]
  },
  {
   "cell_type": "code",
   "execution_count": 7,
   "metadata": {},
   "outputs": [
    {
     "name": "stdout",
     "output_type": "stream",
     "text": [
      "defaultdict(<class 'list'>, {'a': 'amma', 'b': 'ball', 'c': 'cat'})\n"
     ]
    }
   ],
   "source": [
    "# same thing is trying with defaultdict\n",
    "dict2 = defaultdict(list)\n",
    "\n",
    "for i,j in list1:\n",
    "    dict2[i] = j\n",
    "print(dict2)"
   ]
  },
  {
   "cell_type": "code",
   "execution_count": 13,
   "metadata": {},
   "outputs": [
    {
     "name": "stdout",
     "output_type": "stream",
     "text": [
      "defaultdict(<class 'list'>, {'a': ['apple', 'amma'], 'b': ['ball'], 'c': ['cat']})\n"
     ]
    }
   ],
   "source": [
    "# defaultdict is giving list of values against key with .append\n",
    "dict2 = defaultdict(list)\n",
    "\n",
    "for i,j in list1:\n",
    "    dict2[i].append(j)\n",
    "print(dict2)"
   ]
  },
  {
   "cell_type": "markdown",
   "metadata": {},
   "source": [
    "###### Example2"
   ]
  },
  {
   "cell_type": "code",
   "execution_count": 30,
   "metadata": {},
   "outputs": [],
   "source": [
    "mob = [{'local' : '+91 8892164238'}, {'local' : '+91 7907953156'}, {'global' : '+1-888-271-9562'},\n",
    "       {'invalid' : '123'}, {'global' : '+1-889-288-9999'}, {'invalid' : 'abcd'}]"
   ]
  },
  {
   "cell_type": "code",
   "execution_count": 40,
   "metadata": {},
   "outputs": [
    {
     "name": "stdout",
     "output_type": "stream",
     "text": [
      "defaultdict(<class 'list'>, {'local': ['+91 8892164238', '+91 7907953156'], 'global': ['+1-888-271-9562', '+1-889-288-9999'], 'invalid': ['123', 'abcd']})\n"
     ]
    }
   ],
   "source": [
    "dict3 = defaultdict(list)\n",
    "for i in mob:\n",
    "    for j,k in i.items():\n",
    "        dict3[j].append(k)\n",
    "print(dict3)"
   ]
  },
  {
   "cell_type": "code",
   "execution_count": 39,
   "metadata": {},
   "outputs": [
    {
     "name": "stdout",
     "output_type": "stream",
     "text": [
      "defaultdict(<class 'list'>, {'local': ['+91 8892164238']})\n"
     ]
    }
   ],
   "source": [
    "dict3 = defaultdict(list)\n",
    "for i in mob:\n",
    "    for j,k in i.items():\n",
    "        if k.endswith('8'):\n",
    "            dict3[j].append(k)\n",
    "print(dict3)"
   ]
  },
  {
   "cell_type": "code",
   "execution_count": 41,
   "metadata": {},
   "outputs": [
    {
     "name": "stdout",
     "output_type": "stream",
     "text": [
      "defaultdict(<class 'list'>, {'local': ['+91 8892164238', '+91 7907953156'], 'global': ['+1-888-271-9562', '+1-889-288-9999'], 'invalid': ['123', 'abcd']})\n"
     ]
    }
   ],
   "source": [
    "# dictionary comprehention\n",
    "dict4 = defaultdict(list)\n",
    "{dict4[j].append(k) for i in mob for j,k in i.items()}\n",
    "print(dict4)"
   ]
  },
  {
   "cell_type": "markdown",
   "metadata": {},
   "source": [
    "#### Why to use defaultdict with an example"
   ]
  },
  {
   "cell_type": "code",
   "execution_count": 52,
   "metadata": {},
   "outputs": [],
   "source": [
    "string1 = 'he is a good guy'"
   ]
  },
  {
   "cell_type": "code",
   "execution_count": 53,
   "metadata": {},
   "outputs": [
    {
     "name": "stdout",
     "output_type": "stream",
     "text": [
      "{'h': 1, 'e': 1, ' ': 4, 'i': 1, 's': 1, 'a': 1, 'g': 2, 'o': 2, 'd': 1, 'u': 1, 'y': 1}\n"
     ]
    }
   ],
   "source": [
    "d = {}\n",
    "for i in string1:\n",
    "    if i not in d:\n",
    "        d[i] = 1\n",
    "    else:\n",
    "        d[i] += 1\n",
    "print(d)"
   ]
  },
  {
   "cell_type": "code",
   "execution_count": 54,
   "metadata": {},
   "outputs": [
    {
     "name": "stdout",
     "output_type": "stream",
     "text": [
      "defaultdict(<class 'int'>, {'h': 1, 'e': 1, ' ': 4, 'i': 1, 's': 1, 'a': 1, 'g': 2, 'o': 2, 'd': 1, 'u': 1, 'y': 1})\n"
     ]
    }
   ],
   "source": [
    "# can ignore if else condition in above dictionary creation if we know the default value tobe assigned against each key\n",
    "\n",
    "from collections import defaultdict\n",
    "d2 = defaultdict(int)  #default value will be zero\n",
    "\n",
    "for i in string1:\n",
    "    d2[i] += 1\n",
    "print(d2)"
   ]
  },
  {
   "cell_type": "code",
   "execution_count": 56,
   "metadata": {},
   "outputs": [],
   "source": [
    "# if we need to assign a different default value as 2\n",
    "d3 = defaultdict(lambda:2)"
   ]
  },
  {
   "cell_type": "code",
   "execution_count": 57,
   "metadata": {},
   "outputs": [
    {
     "data": {
      "text/plain": [
       "2"
      ]
     },
     "execution_count": 57,
     "metadata": {},
     "output_type": "execute_result"
    }
   ],
   "source": [
    "d3['z']  #default value assigned as 2"
   ]
  },
  {
   "cell_type": "code",
   "execution_count": 94,
   "metadata": {},
   "outputs": [
    {
     "name": "stdout",
     "output_type": "stream",
     "text": [
      "{'z': 2, 'h': 4, 'e': 4, ' ': 10, 'i': 4, 's': 4, 'a': 4, 'g': 6, 'o': 6, 'd': 4, 'u': 4, 'y': 4}\n"
     ]
    }
   ],
   "source": [
    "# to understand what happenes if default value is as 2\n",
    "for i in string1:\n",
    "    d3[i] += 1\n",
    "print(dict(d3))"
   ]
  },
  {
   "cell_type": "markdown",
   "metadata": {},
   "source": [
    "#### ordereddict"
   ]
  },
  {
   "cell_type": "code",
   "execution_count": 150,
   "metadata": {},
   "outputs": [],
   "source": [
    "#An OrderedDict is a dictionary subclass that remembers the order that keys were first inserted. \n",
    "#The only difference between dict() and OrderedDict() is that:"
   ]
  },
  {
   "cell_type": "code",
   "execution_count": 153,
   "metadata": {},
   "outputs": [],
   "source": [
    "dict1 = {}\n",
    "dict1[1] = 'a'\n",
    "dict1[3] = 'c'\n",
    "dict1[2] = 'b'\n",
    "dict1[6] = 'f'\n",
    "dict1[4] = 'd'\n",
    "dict1[5] = 'e'"
   ]
  },
  {
   "cell_type": "code",
   "execution_count": 158,
   "metadata": {},
   "outputs": [
    {
     "name": "stdout",
     "output_type": "stream",
     "text": [
      "{1: 'a', 3: 'c', 2: 'b', 6: 'f', 4: 'd', 5: 'e'}\n"
     ]
    }
   ],
   "source": [
    "print(dict1)  #its not necesary to get it in order"
   ]
  },
  {
   "cell_type": "code",
   "execution_count": 155,
   "metadata": {},
   "outputs": [],
   "source": [
    "from collections import OrderedDict\n",
    "\n",
    "od = OrderedDict()"
   ]
  },
  {
   "cell_type": "code",
   "execution_count": 156,
   "metadata": {},
   "outputs": [
    {
     "name": "stdout",
     "output_type": "stream",
     "text": [
      "OrderedDict()\n"
     ]
    }
   ],
   "source": [
    "print(od)"
   ]
  },
  {
   "cell_type": "code",
   "execution_count": 157,
   "metadata": {},
   "outputs": [
    {
     "name": "stdout",
     "output_type": "stream",
     "text": [
      "OrderedDict([(1, 'a'), (3, 'c'), (2, 'b'), (6, 'f'), (4, 'd'), (5, 'e')])\n"
     ]
    }
   ],
   "source": [
    "od[1] = 'a'\n",
    "od[3] = 'c'\n",
    "od[2] = 'b'\n",
    "od[6] = 'f'\n",
    "od[4] = 'd'\n",
    "od[5] = 'e'\n",
    "print(od)"
   ]
  },
  {
   "cell_type": "code",
   "execution_count": 159,
   "metadata": {},
   "outputs": [],
   "source": [
    "dict2 = dict(od)"
   ]
  },
  {
   "cell_type": "code",
   "execution_count": 160,
   "metadata": {},
   "outputs": [
    {
     "name": "stdout",
     "output_type": "stream",
     "text": [
      "{1: 'a', 3: 'c', 2: 'b', 6: 'f', 4: 'd', 5: 'e'}\n"
     ]
    }
   ],
   "source": [
    "print(dict2)"
   ]
  },
  {
   "cell_type": "code",
   "execution_count": null,
   "metadata": {},
   "outputs": [],
   "source": []
  }
 ],
 "metadata": {
  "kernelspec": {
   "display_name": "Python 3",
   "language": "python",
   "name": "python3"
  },
  "language_info": {
   "codemirror_mode": {
    "name": "ipython",
    "version": 3
   },
   "file_extension": ".py",
   "mimetype": "text/x-python",
   "name": "python",
   "nbconvert_exporter": "python",
   "pygments_lexer": "ipython3",
   "version": "3.6.5"
  }
 },
 "nbformat": 4,
 "nbformat_minor": 2
}
