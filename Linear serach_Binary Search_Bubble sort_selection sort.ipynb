{
 "cells": [
  {
   "cell_type": "markdown",
   "metadata": {},
   "source": [
    "# Linear serach, Binary Search, Bubble sort & selection sort"
   ]
  },
  {
   "cell_type": "markdown",
   "metadata": {},
   "source": [
    "## Liniar Search"
   ]
  },
  {
   "cell_type": "code",
   "execution_count": 72,
   "metadata": {},
   "outputs": [],
   "source": [
    "list1 = [1,2,3,4,5,6,7,8]"
   ]
  },
  {
   "cell_type": "code",
   "execution_count": 73,
   "metadata": {},
   "outputs": [],
   "source": [
    "pos = -1\n",
    "def search(l,n):\n",
    "    for i in range(len(l)):\n",
    "        if l[i] == n:\n",
    "            globals()['pos'] = i+1\n",
    "            return True\n",
    "    return False"
   ]
  },
  {
   "cell_type": "code",
   "execution_count": 74,
   "metadata": {},
   "outputs": [
    {
     "name": "stdout",
     "output_type": "stream",
     "text": [
      "Found at position 3\n"
     ]
    }
   ],
   "source": [
    "if search(list1, 3):\n",
    "    print(\"Found at position {}\".format(pos))\n",
    "else:\n",
    "    print('not found')"
   ]
  },
  {
   "cell_type": "code",
   "execution_count": 75,
   "metadata": {},
   "outputs": [
    {
     "name": "stdout",
     "output_type": "stream",
     "text": [
      "not found\n"
     ]
    }
   ],
   "source": [
    "if search(list1, 9):\n",
    "    print(\"Found at position {}\".format(pos))\n",
    "else:\n",
    "    print('not found')"
   ]
  },
  {
   "cell_type": "markdown",
   "metadata": {},
   "source": [
    "### Binary Search"
   ]
  },
  {
   "cell_type": "code",
   "execution_count": 78,
   "metadata": {},
   "outputs": [],
   "source": [
    "list2 = [1,4,9,16,25,36,49,64,81]"
   ]
  },
  {
   "cell_type": "code",
   "execution_count": 88,
   "metadata": {},
   "outputs": [],
   "source": [
    "pos = -1\n",
    "def binsearch(l,n):\n",
    "    low=0\n",
    "    up=len(list1)-1\n",
    "    while low <= up:\n",
    "        mid = (low+up)//2\n",
    "        if l[mid]==n:\n",
    "            globals()['pos'] = mid+1\n",
    "            return True\n",
    "        else:\n",
    "            if l[mid] < n:\n",
    "                low = mid+1\n",
    "            else:\n",
    "                up = mid-1\n",
    "    False"
   ]
  },
  {
   "cell_type": "code",
   "execution_count": 89,
   "metadata": {},
   "outputs": [
    {
     "name": "stdout",
     "output_type": "stream",
     "text": [
      "Found at position 7\n"
     ]
    }
   ],
   "source": [
    "if binsearch(list2, 49):\n",
    "    print(\"Found at position {}\".format(pos))\n",
    "else:\n",
    "    print('not found')"
   ]
  },
  {
   "cell_type": "code",
   "execution_count": 90,
   "metadata": {},
   "outputs": [
    {
     "name": "stdout",
     "output_type": "stream",
     "text": [
      "not found\n"
     ]
    }
   ],
   "source": [
    "if binsearch(list2, 100):\n",
    "    print(\"Found at position {}\".format(pos))\n",
    "else:\n",
    "    print('not found')"
   ]
  },
  {
   "cell_type": "markdown",
   "metadata": {},
   "source": [
    "## Bubble sort"
   ]
  },
  {
   "cell_type": "code",
   "execution_count": 100,
   "metadata": {},
   "outputs": [],
   "source": [
    "list3 = [5, 3, 8, 6, 100, 7, 2, 1]"
   ]
  },
  {
   "cell_type": "code",
   "execution_count": 101,
   "metadata": {},
   "outputs": [
    {
     "name": "stdout",
     "output_type": "stream",
     "text": [
      "[1, 2, 3, 5, 6, 7, 8, 100]\n"
     ]
    }
   ],
   "source": [
    "# sorting the list list3\n",
    "for i in range(len(list3)-1):\n",
    "    for j in range(i+1,len(list3)):\n",
    "        if list3[i] > list3[j]:\n",
    "            list3[i],list3[j] = list3[j], list3[i]\n",
    "print(list3)"
   ]
  },
  {
   "cell_type": "code",
   "execution_count": 102,
   "metadata": {},
   "outputs": [],
   "source": [
    "# bubble sort via function\n",
    "def bubsort(l):\n",
    "    for i in range(len(l)-1):\n",
    "        for j in range(i+1,len(l)):\n",
    "            if l[i] > l[j]:\n",
    "                l[i],l[j] = l[j], l[i]\n",
    "    return(list3)"
   ]
  },
  {
   "cell_type": "code",
   "execution_count": 103,
   "metadata": {},
   "outputs": [
    {
     "data": {
      "text/plain": [
       "[1, 2, 3, 5, 6, 7, 8, 100]"
      ]
     },
     "execution_count": 103,
     "metadata": {},
     "output_type": "execute_result"
    }
   ],
   "source": [
    "bubsort(list3)"
   ]
  },
  {
   "cell_type": "markdown",
   "metadata": {},
   "source": [
    "## Selection sort"
   ]
  },
  {
   "cell_type": "code",
   "execution_count": 132,
   "metadata": {},
   "outputs": [],
   "source": [
    "list3 = [5, 3, 8, 6, 100, 7, 2, 1]"
   ]
  },
  {
   "cell_type": "code",
   "execution_count": 135,
   "metadata": {},
   "outputs": [],
   "source": [
    "def selsort(l):\n",
    "    for i in range(len(l)-1):\n",
    "        min = i\n",
    "        for j in range (i,len(l)):\n",
    "            if l[j] < l[min]:\n",
    "                min = j\n",
    "        l[i], l[min] = l[min], l[i]\n",
    "    return(l)"
   ]
  },
  {
   "cell_type": "code",
   "execution_count": 136,
   "metadata": {},
   "outputs": [
    {
     "data": {
      "text/plain": [
       "[1, 2, 3, 5, 6, 7, 8, 100]"
      ]
     },
     "execution_count": 136,
     "metadata": {},
     "output_type": "execute_result"
    }
   ],
   "source": [
    "selsort(list3)"
   ]
  }
 ],
 "metadata": {
  "kernelspec": {
   "display_name": "Python 3",
   "language": "python",
   "name": "python3"
  },
  "language_info": {
   "codemirror_mode": {
    "name": "ipython",
    "version": 3
   },
   "file_extension": ".py",
   "mimetype": "text/x-python",
   "name": "python",
   "nbconvert_exporter": "python",
   "pygments_lexer": "ipython3",
   "version": "3.6.5"
  }
 },
 "nbformat": 4,
 "nbformat_minor": 2
}
