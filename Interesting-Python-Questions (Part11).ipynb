{
 "cells": [
  {
   "cell_type": "markdown",
   "metadata": {},
   "source": [
    "### Question - 303"
   ]
  },
  {
   "cell_type": "code",
   "execution_count": 2,
   "metadata": {},
   "outputs": [
    {
     "data": {
      "text/plain": [
       "[9]"
      ]
     },
     "execution_count": 2,
     "metadata": {},
     "output_type": "execute_result"
    }
   ],
   "source": [
    "x = [i for i in range(10)]\n",
    "r=slice(3,None)\n",
    "x[r][r][r]"
   ]
  },
  {
   "cell_type": "code",
   "execution_count": 5,
   "metadata": {},
   "outputs": [
    {
     "data": {
      "text/plain": [
       "[3, 4, 5, 6, 7, 8, 9]"
      ]
     },
     "execution_count": 5,
     "metadata": {},
     "output_type": "execute_result"
    }
   ],
   "source": [
    "x = [i for i in range(10)]\n",
    "r=slice(3,None)\n",
    "x[r]"
   ]
  },
  {
   "cell_type": "code",
   "execution_count": 6,
   "metadata": {},
   "outputs": [
    {
     "data": {
      "text/plain": [
       "[6, 7, 8, 9]"
      ]
     },
     "execution_count": 6,
     "metadata": {},
     "output_type": "execute_result"
    }
   ],
   "source": [
    "x = [i for i in range(10)]\n",
    "r=slice(3,None)\n",
    "x[r][r]"
   ]
  },
  {
   "cell_type": "code",
   "execution_count": 7,
   "metadata": {},
   "outputs": [
    {
     "data": {
      "text/plain": [
       "[9]"
      ]
     },
     "execution_count": 7,
     "metadata": {},
     "output_type": "execute_result"
    }
   ],
   "source": [
    "x = [i for i in range(10)]\n",
    "r=slice(3,None)\n",
    "x[r][r][r]"
   ]
  },
  {
   "cell_type": "code",
   "execution_count": 8,
   "metadata": {},
   "outputs": [
    {
     "data": {
      "text/plain": [
       "[]"
      ]
     },
     "execution_count": 8,
     "metadata": {},
     "output_type": "execute_result"
    }
   ],
   "source": [
    "x = [i for i in range(10)]\n",
    "r=slice(3,None)\n",
    "x[r][r][r][r]"
   ]
  },
  {
   "cell_type": "markdown",
   "metadata": {},
   "source": [
    "### Question - 304"
   ]
  },
  {
   "cell_type": "code",
   "execution_count": 3,
   "metadata": {},
   "outputs": [
    {
     "ename": "IndexError",
     "evalue": "list index out of range",
     "output_type": "error",
     "traceback": [
      "\u001b[1;31m---------------------------------------------------------------------------\u001b[0m",
      "\u001b[1;31mIndexError\u001b[0m                                Traceback (most recent call last)",
      "\u001b[1;32m<ipython-input-3-d4fd140097d5>\u001b[0m in \u001b[0;36m<module>\u001b[1;34m\u001b[0m\n\u001b[0;32m      1\u001b[0m \u001b[0mx\u001b[0m\u001b[1;33m=\u001b[0m\u001b[1;33m[\u001b[0m\u001b[1;36m1\u001b[0m\u001b[1;33m,\u001b[0m\u001b[1;36m1\u001b[0m\u001b[1;33m,\u001b[0m\u001b[1;36m3\u001b[0m\u001b[1;33m,\u001b[0m\u001b[1;36m4\u001b[0m\u001b[1;33m,\u001b[0m\u001b[1;36m5\u001b[0m\u001b[1;33m]\u001b[0m\u001b[1;33m\u001b[0m\u001b[1;33m\u001b[0m\u001b[0m\n\u001b[1;32m----> 2\u001b[1;33m \u001b[0mx\u001b[0m\u001b[1;33m[\u001b[0m\u001b[1;36m5\u001b[0m\u001b[1;33m:\u001b[0m\u001b[1;36m0\u001b[0m\u001b[1;33m]\u001b[0m\u001b[1;33m[\u001b[0m\u001b[1;36m1\u001b[0m\u001b[1;33m]\u001b[0m\u001b[1;33m\u001b[0m\u001b[1;33m\u001b[0m\u001b[0m\n\u001b[0m",
      "\u001b[1;31mIndexError\u001b[0m: list index out of range"
     ]
    }
   ],
   "source": [
    "x=[1,1,3,4,5]\n",
    "x[5:0][1]"
   ]
  },
  {
   "cell_type": "code",
   "execution_count": 4,
   "metadata": {},
   "outputs": [],
   "source": [
    "#answer is indexerror"
   ]
  },
  {
   "cell_type": "code",
   "execution_count": 9,
   "metadata": {},
   "outputs": [
    {
     "data": {
      "text/plain": [
       "[]"
      ]
     },
     "execution_count": 9,
     "metadata": {},
     "output_type": "execute_result"
    }
   ],
   "source": [
    "x=[1,1,3,4,5]\n",
    "x[5:0]"
   ]
  },
  {
   "cell_type": "code",
   "execution_count": 10,
   "metadata": {},
   "outputs": [
    {
     "ename": "IndexError",
     "evalue": "list index out of range",
     "output_type": "error",
     "traceback": [
      "\u001b[1;31m---------------------------------------------------------------------------\u001b[0m",
      "\u001b[1;31mIndexError\u001b[0m                                Traceback (most recent call last)",
      "\u001b[1;32m<ipython-input-10-376e37283e46>\u001b[0m in \u001b[0;36m<module>\u001b[1;34m\u001b[0m\n\u001b[0;32m      1\u001b[0m \u001b[0ma\u001b[0m \u001b[1;33m=\u001b[0m \u001b[1;33m[\u001b[0m\u001b[1;33m]\u001b[0m\u001b[1;33m\u001b[0m\u001b[1;33m\u001b[0m\u001b[0m\n\u001b[1;32m----> 2\u001b[1;33m \u001b[0ma\u001b[0m\u001b[1;33m[\u001b[0m\u001b[1;36m1\u001b[0m\u001b[1;33m]\u001b[0m\u001b[1;33m\u001b[0m\u001b[1;33m\u001b[0m\u001b[0m\n\u001b[0m",
      "\u001b[1;31mIndexError\u001b[0m: list index out of range"
     ]
    }
   ],
   "source": [
    "a = []\n",
    "a[1]"
   ]
  },
  {
   "cell_type": "markdown",
   "metadata": {},
   "source": [
    "### Question - 305"
   ]
  },
  {
   "cell_type": "code",
   "execution_count": 24,
   "metadata": {},
   "outputs": [
    {
     "name": "stdout",
     "output_type": "stream",
     "text": [
      "initial dataframe\n",
      "-----------------\n",
      "  name  age\n",
      "0    A   10\n",
      "1    B   12\n",
      "2    C   18\n",
      "3    D   21\n",
      "4    E   40\n",
      "dataframe with age group\n",
      "------------------------\n",
      "  name  age age_group\n",
      "0    A   10   (0, 10]\n",
      "1    B   12  (10, 20]\n",
      "2    C   18  (10, 20]\n",
      "3    D   21  (20, 30]\n",
      "4    E   40  (30, 50]\n"
     ]
    }
   ],
   "source": [
    "#pd.cut for grouping\n",
    "\n",
    "import pandas as pd\n",
    "dict1 = {'name':['A', 'B', 'C', 'D', 'E'], 'age':[10,12,18,21,40]}\n",
    "df = pd.DataFrame(dict1)\n",
    "\n",
    "print('initial dataframe')\n",
    "print('-----------------')\n",
    "print(df)\n",
    "\n",
    "#we need to create age group with 0 to 10, 10 to 20, etc\n",
    "\n",
    "df['age_group'] = pd.cut(df['age'], [0,10,20,30,50])\n",
    "\n",
    "print('dataframe with age group')\n",
    "print('------------------------')\n",
    "print(df)"
   ]
  },
  {
   "cell_type": "markdown",
   "metadata": {},
   "source": [
    "### Question - 306"
   ]
  },
  {
   "cell_type": "code",
   "execution_count": 27,
   "metadata": {},
   "outputs": [
    {
     "name": "stdout",
     "output_type": "stream",
     "text": [
      "odd\n"
     ]
    }
   ],
   "source": [
    "e = lambda x: True if x == 0 else o(x-1)\n",
    "o = lambda x: not e(x)\n",
    "\n",
    "print('even' if e(10//2) else 'odd')"
   ]
  },
  {
   "cell_type": "code",
   "execution_count": 28,
   "metadata": {},
   "outputs": [
    {
     "data": {
      "text/plain": [
       "False"
      ]
     },
     "execution_count": 28,
     "metadata": {},
     "output_type": "execute_result"
    }
   ],
   "source": [
    "e(10//2)"
   ]
  },
  {
   "cell_type": "markdown",
   "metadata": {},
   "source": [
    "### Question - 307"
   ]
  },
  {
   "cell_type": "code",
   "execution_count": 40,
   "metadata": {},
   "outputs": [],
   "source": [
    "#difference between return and print in function"
   ]
  },
  {
   "cell_type": "code",
   "execution_count": 39,
   "metadata": {},
   "outputs": [
    {
     "name": "stdout",
     "output_type": "stream",
     "text": [
      "7\n",
      "calling variable assigned to function with return\n",
      "-------------------------------------------------\n",
      "7\n",
      "-------------------------------------------------\n",
      "calling variable assigned to function with print\n",
      "-------------------------------------------------\n",
      "None\n",
      "-------------------------------------------------\n"
     ]
    }
   ],
   "source": [
    "# define add function with return\n",
    "def add(x,y):\n",
    "    return x+y\n",
    "\n",
    "# define add2 function with print\n",
    "def add2(x,y):\n",
    "    print(x+y)\n",
    "    \n",
    "#assign these 2 functions to variables\n",
    "a = add(2,5)\n",
    "b = add2(2,5)\n",
    "\n",
    "# calling functions\n",
    "print(\"calling variable assigned to function with return\")\n",
    "print('-------------------------------------------------')\n",
    "print(a)\n",
    "print('-------------------------------------------------')\n",
    "print(\"calling variable assigned to function with print\")\n",
    "print('-------------------------------------------------')\n",
    "print(b)\n",
    "print('-------------------------------------------------')\n",
    "# with print we cannot assign the function to variable."
   ]
  },
  {
   "cell_type": "markdown",
   "metadata": {},
   "source": [
    "### Question - 308"
   ]
  },
  {
   "cell_type": "code",
   "execution_count": 49,
   "metadata": {},
   "outputs": [
    {
     "name": "stdout",
     "output_type": "stream",
     "text": [
      "False\n"
     ]
    }
   ],
   "source": [
    "x = [0,0,0]\n",
    "y = [1,1,1]\n",
    "b = x and y\n",
    "print(not b)"
   ]
  },
  {
   "cell_type": "markdown",
   "metadata": {},
   "source": [
    "### Question - 309"
   ]
  },
  {
   "cell_type": "code",
   "execution_count": 3,
   "metadata": {},
   "outputs": [
    {
     "name": "stdout",
     "output_type": "stream",
     "text": [
      "9\n"
     ]
    }
   ],
   "source": [
    "class wow:\n",
    "    def __init__(s,x):\n",
    "        s.x = x\n",
    "    def __add__(s,y):\n",
    "        return wow(s.x-y.x)\n",
    "    def __sub__(s,y):\n",
    "        return wow(s.x + y.x)\n",
    "    def __repr__(s):\n",
    "        return str(s.x)\n",
    "\n",
    "a = wow(5)\n",
    "b = wow(7)\n",
    "c = wow(3)\n",
    "print(a-b+c)"
   ]
  },
  {
   "cell_type": "markdown",
   "metadata": {},
   "source": [
    "### Question - 310"
   ]
  },
  {
   "cell_type": "code",
   "execution_count": 15,
   "metadata": {},
   "outputs": [
    {
     "name": "stdout",
     "output_type": "stream",
     "text": [
      "[1, 5]\n"
     ]
    }
   ],
   "source": [
    "y = []\n",
    "\n",
    "def loop(x):\n",
    "    for i in x:\n",
    "        try:\n",
    "            y.append(int(i))\n",
    "        except:\n",
    "            pass\n",
    "    return y\n",
    "\n",
    "print(loop([1.0, '1.0', y, abs(5j+1)]))"
   ]
  },
  {
   "cell_type": "code",
   "execution_count": 16,
   "metadata": {},
   "outputs": [
    {
     "data": {
      "text/plain": [
       "5.0990195135927845"
      ]
     },
     "execution_count": 16,
     "metadata": {},
     "output_type": "execute_result"
    }
   ],
   "source": [
    "abs(5j+1)"
   ]
  },
  {
   "cell_type": "code",
   "execution_count": 17,
   "metadata": {},
   "outputs": [
    {
     "data": {
      "text/plain": [
       "5"
      ]
     },
     "execution_count": 17,
     "metadata": {},
     "output_type": "execute_result"
    }
   ],
   "source": [
    "int(abs(5j+1))"
   ]
  },
  {
   "cell_type": "markdown",
   "metadata": {},
   "source": [
    "### Question - 311"
   ]
  },
  {
   "cell_type": "code",
   "execution_count": 18,
   "metadata": {},
   "outputs": [
    {
     "name": "stdout",
     "output_type": "stream",
     "text": [
      "table\n"
     ]
    }
   ],
   "source": [
    "def updateTable():\n",
    "    table = ['a', 'd']\n",
    "print('table')"
   ]
  },
  {
   "cell_type": "markdown",
   "metadata": {},
   "source": [
    "### Question - 312"
   ]
  },
  {
   "cell_type": "code",
   "execution_count": 23,
   "metadata": {},
   "outputs": [
    {
     "name": "stdout",
     "output_type": "stream",
     "text": [
      "0\n"
     ]
    }
   ],
   "source": [
    "a=2\n",
    "b=0\n",
    "\n",
    "while(a or b):\n",
    "    a -= 1\n",
    "print(a)"
   ]
  },
  {
   "cell_type": "markdown",
   "metadata": {},
   "source": [
    "### Question - 313"
   ]
  },
  {
   "cell_type": "code",
   "execution_count": 27,
   "metadata": {},
   "outputs": [
    {
     "name": "stdout",
     "output_type": "stream",
     "text": [
      "1\n",
      "2\n",
      "3\n",
      "4\n",
      "5\n",
      "6\n",
      "8\n",
      "9\n",
      "10\n"
     ]
    }
   ],
   "source": [
    "#how many numbers will be printed?\n",
    "i=0\n",
    "while i<10:\n",
    "    i = i+1\n",
    "    if i == 7:\n",
    "        continue\n",
    "    print(i)"
   ]
  },
  {
   "cell_type": "code",
   "execution_count": null,
   "metadata": {},
   "outputs": [],
   "source": [
    "#answer is 9"
   ]
  },
  {
   "cell_type": "markdown",
   "metadata": {},
   "source": [
    "### Question - 314"
   ]
  },
  {
   "cell_type": "code",
   "execution_count": 48,
   "metadata": {
    "scrolled": true
   },
   "outputs": [
    {
     "name": "stdout",
     "output_type": "stream",
     "text": [
      "112133"
     ]
    }
   ],
   "source": [
    "x=(1,2,3)\n",
    "xprint(*x, sep='1', end='3')"
   ]
  },
  {
   "cell_type": "code",
   "execution_count": 63,
   "metadata": {},
   "outputs": [],
   "source": [
    "#functions inside functions"
   ]
  },
  {
   "cell_type": "code",
   "execution_count": 54,
   "metadata": {},
   "outputs": [],
   "source": [
    "def hello(name='Jo'):\n",
    "    print('hello function')\n",
    "    \n",
    "    def greet():\n",
    "        return ' inside greet()'\n",
    "    \n",
    "    def welcome():\n",
    "        return '  this is inside welcome()'\n",
    "    \n",
    "    if name == 'Jo':\n",
    "        return greet\n",
    "    else:\n",
    "        return welcome"
   ]
  },
  {
   "cell_type": "code",
   "execution_count": 58,
   "metadata": {},
   "outputs": [
    {
     "name": "stdout",
     "output_type": "stream",
     "text": [
      "hello function\n"
     ]
    }
   ],
   "source": [
    "x = hello()"
   ]
  },
  {
   "cell_type": "code",
   "execution_count": 60,
   "metadata": {},
   "outputs": [
    {
     "name": "stdout",
     "output_type": "stream",
     "text": [
      " inside greet()\n"
     ]
    }
   ],
   "source": [
    "print(x())"
   ]
  },
  {
   "cell_type": "code",
   "execution_count": 61,
   "metadata": {},
   "outputs": [
    {
     "name": "stdout",
     "output_type": "stream",
     "text": [
      "hello function\n"
     ]
    }
   ],
   "source": [
    "y = hello('xyz')"
   ]
  },
  {
   "cell_type": "code",
   "execution_count": 62,
   "metadata": {},
   "outputs": [
    {
     "name": "stdout",
     "output_type": "stream",
     "text": [
      "  this is inside welcome()\n"
     ]
    }
   ],
   "source": [
    "print(y())"
   ]
  },
  {
   "cell_type": "code",
   "execution_count": 65,
   "metadata": {},
   "outputs": [],
   "source": [
    "# function taking as arguement in another function"
   ]
  },
  {
   "cell_type": "code",
   "execution_count": 66,
   "metadata": {},
   "outputs": [],
   "source": [
    "def hello():\n",
    "    return 'Hi'\n",
    "\n",
    "def other(func):\n",
    "    print('other')\n",
    "    \n",
    "    print(func())"
   ]
  },
  {
   "cell_type": "code",
   "execution_count": 68,
   "metadata": {},
   "outputs": [
    {
     "name": "stdout",
     "output_type": "stream",
     "text": [
      "other\n",
      "Hi\n"
     ]
    }
   ],
   "source": [
    "other(hello)"
   ]
  },
  {
   "cell_type": "code",
   "execution_count": 64,
   "metadata": {},
   "outputs": [],
   "source": [
    "#decorators.\n",
    "#helps to add additional features to existing function (operates with help od @ symbol)"
   ]
  },
  {
   "cell_type": "code",
   "execution_count": 71,
   "metadata": {},
   "outputs": [],
   "source": [
    "def new_decorator(func):\n",
    "    \n",
    "    def wrap_func():\n",
    "        print('some code before executing func')\n",
    "        func()\n",
    "        print('some code after executing func()')\n",
    "        \n",
    "    return wrap_func\n",
    "\n",
    "\n",
    "def func_needs_decorator():\n",
    "    print('please decorate')"
   ]
  },
  {
   "cell_type": "code",
   "execution_count": 72,
   "metadata": {},
   "outputs": [],
   "source": [
    "func_needs_decorator = new_decorator(func_needs_decorator)"
   ]
  },
  {
   "cell_type": "code",
   "execution_count": 74,
   "metadata": {},
   "outputs": [
    {
     "name": "stdout",
     "output_type": "stream",
     "text": [
      "some code before executing func\n",
      "please decorate\n",
      "some code after executing func()\n"
     ]
    }
   ],
   "source": [
    "func_needs_decorator()"
   ]
  },
  {
   "cell_type": "code",
   "execution_count": 75,
   "metadata": {},
   "outputs": [],
   "source": [
    "# we can use @ instead of  func_needs_decorator = new_decorator(func_needs_decorator)"
   ]
  },
  {
   "cell_type": "code",
   "execution_count": 76,
   "metadata": {},
   "outputs": [],
   "source": [
    "def new_decorator(func):\n",
    "    \n",
    "    def wrap_func():\n",
    "        print('some code before executing func')\n",
    "        func()\n",
    "        print('some code after executing func()')\n",
    "        \n",
    "    return wrap_func\n",
    "\n",
    "\n",
    "@new_decorator\n",
    "def func_needs_decorator():\n",
    "    print('please decorate')"
   ]
  },
  {
   "cell_type": "code",
   "execution_count": 77,
   "metadata": {},
   "outputs": [
    {
     "name": "stdout",
     "output_type": "stream",
     "text": [
      "some code before executing func\n",
      "please decorate\n",
      "some code after executing func()\n"
     ]
    }
   ],
   "source": [
    "func_needs_decorator()"
   ]
  },
  {
   "cell_type": "markdown",
   "metadata": {},
   "source": [
    "### Question - 315"
   ]
  },
  {
   "cell_type": "code",
   "execution_count": 80,
   "metadata": {},
   "outputs": [
    {
     "ename": "UnboundLocalError",
     "evalue": "local variable 'x' referenced before assignment",
     "output_type": "error",
     "traceback": [
      "\u001b[1;31m---------------------------------------------------------------------------\u001b[0m",
      "\u001b[1;31mUnboundLocalError\u001b[0m                         Traceback (most recent call last)",
      "\u001b[1;32m<ipython-input-80-478f87bececc>\u001b[0m in \u001b[0;36m<module>\u001b[1;34m\u001b[0m\n\u001b[0;32m      5\u001b[0m \u001b[1;33m\u001b[0m\u001b[0m\n\u001b[0;32m      6\u001b[0m \u001b[0mx\u001b[0m \u001b[1;33m=\u001b[0m \u001b[1;36m7\u001b[0m\u001b[1;33m\u001b[0m\u001b[1;33m\u001b[0m\u001b[0m\n\u001b[1;32m----> 7\u001b[1;33m \u001b[0mf\u001b[0m\u001b[1;33m(\u001b[0m\u001b[1;33m)\u001b[0m\u001b[1;33m\u001b[0m\u001b[1;33m\u001b[0m\u001b[0m\n\u001b[0m",
      "\u001b[1;32m<ipython-input-80-478f87bececc>\u001b[0m in \u001b[0;36mf\u001b[1;34m()\u001b[0m\n\u001b[0;32m      1\u001b[0m \u001b[1;32mdef\u001b[0m \u001b[0mf\u001b[0m\u001b[1;33m(\u001b[0m\u001b[1;33m)\u001b[0m\u001b[1;33m:\u001b[0m\u001b[1;33m\u001b[0m\u001b[1;33m\u001b[0m\u001b[0m\n\u001b[1;32m----> 2\u001b[1;33m     \u001b[0my\u001b[0m \u001b[1;33m=\u001b[0m \u001b[0mx\u001b[0m\u001b[1;33m\u001b[0m\u001b[1;33m\u001b[0m\u001b[0m\n\u001b[0m\u001b[0;32m      3\u001b[0m     \u001b[0mprint\u001b[0m\u001b[1;33m(\u001b[0m\u001b[0my\u001b[0m\u001b[1;33m)\u001b[0m\u001b[1;33m\u001b[0m\u001b[1;33m\u001b[0m\u001b[0m\n\u001b[0;32m      4\u001b[0m     \u001b[0mx\u001b[0m \u001b[1;33m=\u001b[0m \u001b[1;36m2\u001b[0m\u001b[1;33m\u001b[0m\u001b[1;33m\u001b[0m\u001b[0m\n\u001b[0;32m      5\u001b[0m \u001b[1;33m\u001b[0m\u001b[0m\n",
      "\u001b[1;31mUnboundLocalError\u001b[0m: local variable 'x' referenced before assignment"
     ]
    }
   ],
   "source": [
    "def f():\n",
    "    y = x\n",
    "    print(y)\n",
    "    x = 2\n",
    "    \n",
    "x = 7\n",
    "f()"
   ]
  },
  {
   "cell_type": "code",
   "execution_count": 82,
   "metadata": {},
   "outputs": [
    {
     "name": "stdout",
     "output_type": "stream",
     "text": [
      "1\n"
     ]
    }
   ],
   "source": [
    "x=1\n",
    "\n",
    "def f():\n",
    "    y = x\n",
    "    print(y)\n",
    "    \n",
    "f()"
   ]
  },
  {
   "cell_type": "code",
   "execution_count": 83,
   "metadata": {},
   "outputs": [
    {
     "ename": "UnboundLocalError",
     "evalue": "local variable 'x' referenced before assignment",
     "output_type": "error",
     "traceback": [
      "\u001b[1;31m---------------------------------------------------------------------------\u001b[0m",
      "\u001b[1;31mUnboundLocalError\u001b[0m                         Traceback (most recent call last)",
      "\u001b[1;32m<ipython-input-83-ae5bc492e702>\u001b[0m in \u001b[0;36m<module>\u001b[1;34m\u001b[0m\n\u001b[0;32m      6\u001b[0m     \u001b[0mx\u001b[0m\u001b[1;33m=\u001b[0m\u001b[1;36m2\u001b[0m\u001b[1;33m\u001b[0m\u001b[1;33m\u001b[0m\u001b[0m\n\u001b[0;32m      7\u001b[0m \u001b[1;33m\u001b[0m\u001b[0m\n\u001b[1;32m----> 8\u001b[1;33m \u001b[0mf\u001b[0m\u001b[1;33m(\u001b[0m\u001b[1;33m)\u001b[0m\u001b[1;33m\u001b[0m\u001b[1;33m\u001b[0m\u001b[0m\n\u001b[0m",
      "\u001b[1;32m<ipython-input-83-ae5bc492e702>\u001b[0m in \u001b[0;36mf\u001b[1;34m()\u001b[0m\n\u001b[0;32m      2\u001b[0m \u001b[1;33m\u001b[0m\u001b[0m\n\u001b[0;32m      3\u001b[0m \u001b[1;32mdef\u001b[0m \u001b[0mf\u001b[0m\u001b[1;33m(\u001b[0m\u001b[1;33m)\u001b[0m\u001b[1;33m:\u001b[0m\u001b[1;33m\u001b[0m\u001b[1;33m\u001b[0m\u001b[0m\n\u001b[1;32m----> 4\u001b[1;33m     \u001b[0my\u001b[0m \u001b[1;33m=\u001b[0m \u001b[0mx\u001b[0m\u001b[1;33m\u001b[0m\u001b[1;33m\u001b[0m\u001b[0m\n\u001b[0m\u001b[0;32m      5\u001b[0m     \u001b[0mprint\u001b[0m\u001b[1;33m(\u001b[0m\u001b[0my\u001b[0m\u001b[1;33m)\u001b[0m\u001b[1;33m\u001b[0m\u001b[1;33m\u001b[0m\u001b[0m\n\u001b[0;32m      6\u001b[0m     \u001b[0mx\u001b[0m\u001b[1;33m=\u001b[0m\u001b[1;36m2\u001b[0m\u001b[1;33m\u001b[0m\u001b[1;33m\u001b[0m\u001b[0m\n",
      "\u001b[1;31mUnboundLocalError\u001b[0m: local variable 'x' referenced before assignment"
     ]
    }
   ],
   "source": [
    "x=1\n",
    "\n",
    "def f():\n",
    "    y = x\n",
    "    print(y)\n",
    "    x=2\n",
    "    \n",
    "f()"
   ]
  },
  {
   "cell_type": "markdown",
   "metadata": {},
   "source": [
    "### Question - 316"
   ]
  },
  {
   "cell_type": "code",
   "execution_count": 84,
   "metadata": {},
   "outputs": [
    {
     "data": {
      "text/plain": [
       "1.5"
      ]
     },
     "execution_count": 84,
     "metadata": {},
     "output_type": "execute_result"
    }
   ],
   "source": [
    "def f(n):\n",
    "    x = y = 1.0\n",
    "    for i in range(1,n):\n",
    "        x,y = y,x+y\n",
    "    return y/x\n",
    "\n",
    "f(3)"
   ]
  },
  {
   "cell_type": "code",
   "execution_count": 85,
   "metadata": {},
   "outputs": [
    {
     "name": "stdout",
     "output_type": "stream",
     "text": [
      "1.0 2.0\n",
      "2.0\n",
      "2.0 3.0\n",
      "1.5\n"
     ]
    }
   ],
   "source": [
    "def f(n):\n",
    "    x = y = 1.0\n",
    "    for i in range(1,n):\n",
    "        x,y = y,x+y\n",
    "        print(x,y)\n",
    "        print(y/x)\n",
    "        \n",
    "f(3)"
   ]
  },
  {
   "cell_type": "markdown",
   "metadata": {},
   "source": [
    "### Question - 317"
   ]
  },
  {
   "cell_type": "code",
   "execution_count": 86,
   "metadata": {},
   "outputs": [
    {
     "data": {
      "text/plain": [
       "1"
      ]
     },
     "execution_count": 86,
     "metadata": {},
     "output_type": "execute_result"
    }
   ],
   "source": [
    "class A:\n",
    "    def __init__(self, value):\n",
    "        self.a = 1\n",
    "\n",
    "class B(A):\n",
    "    def __init__(self, value=2):\n",
    "        super().__init__(value)\n",
    "        \n",
    "        \n",
    "ab = B(8)\n",
    "ab.a"
   ]
  },
  {
   "cell_type": "markdown",
   "metadata": {},
   "source": [
    "### Question - 318"
   ]
  },
  {
   "cell_type": "code",
   "execution_count": 88,
   "metadata": {},
   "outputs": [
    {
     "name": "stdout",
     "output_type": "stream",
     "text": [
      "dataframe\n",
      "---------\n",
      "   A   B   C\n",
      "0  1  10   8\n",
      "1  2  15  10\n",
      "2  3  20  12\n",
      "3  4  25  14\n",
      "post converted to list of tuples\n",
      "--------------------------------\n",
      "[(1, 10, 8), (2, 15, 10), (3, 20, 12), (4, 25, 14)]\n"
     ]
    }
   ],
   "source": [
    "# to convert dataframe to list of tuples\n",
    "\n",
    "import pandas as pd\n",
    "dict1 = {'A':[1,2,3,4], 'B':[10,15,20,25], 'C':[8,10,12,14]}\n",
    "df = pd.DataFrame(dict1)\n",
    "print('dataframe')\n",
    "print('---------')\n",
    "print(df)\n",
    "\n",
    "tp = [tuple(x) for x in df.to_numpy()]\n",
    "print('post converted to list of tuples')\n",
    "print('--------------------------------')\n",
    "print(tp)"
   ]
  },
  {
   "cell_type": "markdown",
   "metadata": {},
   "source": [
    "### Question - 319"
   ]
  },
  {
   "cell_type": "code",
   "execution_count": 3,
   "metadata": {},
   "outputs": [
    {
     "name": "stdout",
     "output_type": "stream",
     "text": [
      "vstack\n",
      "-------\n",
      "[[1 2 3]\n",
      " [4 5 6]]\n",
      "-------\n",
      "hstack\n",
      "-------\n",
      "[1 2 3 4 5 6]\n",
      "-------\n"
     ]
    }
   ],
   "source": [
    "import numpy as np\n",
    "a = np.array([1,2,3])\n",
    "b = np.array([4,5,6])\n",
    "\n",
    "print(f'actual arrays a = {a} and b = {b}')\n",
    "\n",
    "#vstack (vertical stack)\n",
    "print('vstack')\n",
    "print('-------')\n",
    "print(np.vstack((a,b)))\n",
    "print('-------')\n",
    "\n",
    "#hstack (horizontal stack)\n",
    "print('hstack')\n",
    "print('-------')\n",
    "print(np.hstack((a,b)))\n",
    "print('-------')"
   ]
  },
  {
   "cell_type": "markdown",
   "metadata": {},
   "source": [
    "### Question - 320"
   ]
  },
  {
   "cell_type": "code",
   "execution_count": 2,
   "metadata": {
    "scrolled": true
   },
   "outputs": [
    {
     "data": {
      "text/plain": [
       "1.0"
      ]
     },
     "execution_count": 2,
     "metadata": {},
     "output_type": "execute_result"
    }
   ],
   "source": [
    "True**False/True"
   ]
  },
  {
   "cell_type": "markdown",
   "metadata": {},
   "source": [
    "### Question - 321"
   ]
  },
  {
   "cell_type": "code",
   "execution_count": 6,
   "metadata": {},
   "outputs": [
    {
     "name": "stdout",
     "output_type": "stream",
     "text": [
      "initial dataframe\n",
      "-----------------\n",
      "   A  B\n",
      "0  1  5\n",
      "1  2  6\n",
      "2  3  7\n",
      "3  4  8\n",
      "df converted to list of lists\n",
      "[[1, 5], [2, 6], [3, 7], [4, 8]]\n"
     ]
    }
   ],
   "source": [
    "# to convert a data frame to lists of lists\n",
    "\n",
    "import pandas as pd\n",
    "dict1 = {'A':[1,2,3,4], 'B':[5,6,7,8]}\n",
    "df = pd. DataFrame(dict1)\n",
    "\n",
    "print('initial dataframe')\n",
    "print('-----------------')\n",
    "print(df)\n",
    "\n",
    "#to convert df to list of lists\n",
    "print('df converted to list of lists')\n",
    "print(df.values.tolist())"
   ]
  },
  {
   "cell_type": "markdown",
   "metadata": {},
   "source": [
    "### Question - 322"
   ]
  },
  {
   "cell_type": "code",
   "execution_count": 7,
   "metadata": {},
   "outputs": [
    {
     "name": "stdout",
     "output_type": "stream",
     "text": [
      "2\n"
     ]
    }
   ],
   "source": [
    "class A:\n",
    "    x = 0\n",
    "def func(obj):\n",
    "    obj.x = 2\n",
    "    return obj\n",
    "\n",
    "a = A()\n",
    "a.x = 1\n",
    "b = func(a)\n",
    "print(a.x)"
   ]
  },
  {
   "cell_type": "markdown",
   "metadata": {},
   "source": [
    "### Question - 323"
   ]
  },
  {
   "cell_type": "code",
   "execution_count": 11,
   "metadata": {},
   "outputs": [
    {
     "name": "stdout",
     "output_type": "stream",
     "text": [
      "n a\n"
     ]
    }
   ],
   "source": [
    "def letter(l):\n",
    "    c = ord(l) - ord('a')\n",
    "    c = (c+1) % 26\n",
    "    return chr(c + ord('a'))\n",
    "\n",
    "print(letter('m'), letter('z'))"
   ]
  },
  {
   "cell_type": "markdown",
   "metadata": {},
   "source": [
    "### Question - 324"
   ]
  },
  {
   "cell_type": "code",
   "execution_count": 15,
   "metadata": {},
   "outputs": [
    {
     "name": "stdout",
     "output_type": "stream",
     "text": [
      "7\n"
     ]
    }
   ],
   "source": [
    "def f(values, arr=[]):\n",
    "    for i in values:\n",
    "        if i%2 == 0:\n",
    "            arr.append(i)\n",
    "    return len(arr)\n",
    "\n",
    "\n",
    "print(f(range(4)) + f(range(5)))"
   ]
  },
  {
   "cell_type": "code",
   "execution_count": 1,
   "metadata": {},
   "outputs": [],
   "source": [
    "def f(values, arr=[]):\n",
    "    for i in values:\n",
    "        if i%2 == 0:\n",
    "            arr.append(i)\n",
    "    return arr"
   ]
  },
  {
   "cell_type": "code",
   "execution_count": 2,
   "metadata": {},
   "outputs": [
    {
     "data": {
      "text/plain": [
       "[0, 2]"
      ]
     },
     "execution_count": 2,
     "metadata": {},
     "output_type": "execute_result"
    }
   ],
   "source": [
    "f(range(4))"
   ]
  },
  {
   "cell_type": "code",
   "execution_count": 3,
   "metadata": {},
   "outputs": [
    {
     "data": {
      "text/plain": [
       "[0, 2, 0, 2, 4]"
      ]
     },
     "execution_count": 3,
     "metadata": {},
     "output_type": "execute_result"
    }
   ],
   "source": [
    "f(range(5))"
   ]
  },
  {
   "cell_type": "markdown",
   "metadata": {},
   "source": [
    "### Question - 325"
   ]
  },
  {
   "cell_type": "code",
   "execution_count": 4,
   "metadata": {},
   "outputs": [
    {
     "data": {
      "text/plain": [
       "True"
      ]
     },
     "execution_count": 4,
     "metadata": {},
     "output_type": "execute_result"
    }
   ],
   "source": [
    "0 < 10 != 1 < 5"
   ]
  },
  {
   "cell_type": "code",
   "execution_count": 5,
   "metadata": {},
   "outputs": [
    {
     "data": {
      "text/plain": [
       "True"
      ]
     },
     "execution_count": 5,
     "metadata": {},
     "output_type": "execute_result"
    }
   ],
   "source": [
    "0 < True < 5"
   ]
  },
  {
   "cell_type": "code",
   "execution_count": 6,
   "metadata": {},
   "outputs": [
    {
     "data": {
      "text/plain": [
       "False"
      ]
     },
     "execution_count": 6,
     "metadata": {},
     "output_type": "execute_result"
    }
   ],
   "source": [
    "0 < 10 == 1 < 5"
   ]
  },
  {
   "cell_type": "code",
   "execution_count": 7,
   "metadata": {},
   "outputs": [
    {
     "data": {
      "text/plain": [
       "True"
      ]
     },
     "execution_count": 7,
     "metadata": {},
     "output_type": "execute_result"
    }
   ],
   "source": [
    "0 < 10 and 10 != 1 and 1 < 5"
   ]
  },
  {
   "cell_type": "code",
   "execution_count": 10,
   "metadata": {},
   "outputs": [
    {
     "data": {
      "text/plain": [
       "(10, 1)"
      ]
     },
     "execution_count": 10,
     "metadata": {},
     "output_type": "execute_result"
    }
   ],
   "source": [
    "# p1\n",
    "10 and 10, 1 and 1"
   ]
  },
  {
   "cell_type": "code",
   "execution_count": 12,
   "metadata": {},
   "outputs": [
    {
     "data": {
      "text/plain": [
       "True"
      ]
     },
     "execution_count": 12,
     "metadata": {},
     "output_type": "execute_result"
    }
   ],
   "source": [
    "# after p1\n",
    "0 < 10 != 1 < 5\n",
    "\n",
    "#means\n",
    "0 < True < 5"
   ]
  },
  {
   "cell_type": "code",
   "execution_count": 13,
   "metadata": {},
   "outputs": [
    {
     "data": {
      "text/plain": [
       "True"
      ]
     },
     "execution_count": 13,
     "metadata": {},
     "output_type": "execute_result"
    }
   ],
   "source": [
    "0 == 0 in [False]\n",
    "\n",
    "#to findout why (possibly executing till 0==0 and returns result)"
   ]
  },
  {
   "cell_type": "code",
   "execution_count": 20,
   "metadata": {},
   "outputs": [
    {
     "data": {
      "text/plain": [
       "list"
      ]
     },
     "execution_count": 20,
     "metadata": {},
     "output_type": "execute_result"
    }
   ],
   "source": [
    "type([False])"
   ]
  },
  {
   "cell_type": "markdown",
   "metadata": {},
   "source": [
    "### Question - 326"
   ]
  },
  {
   "cell_type": "code",
   "execution_count": null,
   "metadata": {},
   "outputs": [],
   "source": [
    "#to download a zipfile from a url with python\n",
    "\n",
    "import requests, zipfile, io\n",
    "r = requests.get(zip_file_url)\n",
    "z = zipfile.ZipFile(io.BytesIO(r.content))\n",
    "z.extractall(\"fordel_with_path\")"
   ]
  },
  {
   "cell_type": "markdown",
   "metadata": {},
   "source": [
    "### Question - 327"
   ]
  },
  {
   "cell_type": "code",
   "execution_count": 29,
   "metadata": {},
   "outputs": [
    {
     "name": "stdout",
     "output_type": "stream",
     "text": [
      "initial dataframe\n",
      "-----------------\n",
      "   col1  col2\n",
      "0     1     5\n",
      "1     2     6\n",
      "2     3     7\n",
      "3     4     8\n",
      "-----------------\n",
      "|   col1 |   col2 |\n",
      "|-------:|-------:|\n",
      "|      1 |      5 |\n",
      "|      2 |      6 |\n",
      "|      3 |      7 |\n",
      "|      4 |      8 |\n"
     ]
    }
   ],
   "source": [
    "# tabulate to make dataframe as table\n",
    "\n",
    "import pandas as pd\n",
    "from tabulate import tabulate\n",
    "\n",
    "dict1 = {'col1':[1,2,3,4], 'col2':[5,6,7,8]}\n",
    "df = pd.DataFrame(dict1)\n",
    "\n",
    "print('initial dataframe')\n",
    "print('-----------------')\n",
    "print(df)\n",
    "print('-----------------')\n",
    "\n",
    "#converting dataframe to table\n",
    "print(tabulate(df, tablefmt=\"pipe\", headers=\"keys\", showindex=None))\n",
    "\n",
    "#its useful to send emails with smaller size dataframe within mail body"
   ]
  },
  {
   "cell_type": "markdown",
   "metadata": {},
   "source": [
    "### Question - 328"
   ]
  },
  {
   "cell_type": "code",
   "execution_count": 41,
   "metadata": {},
   "outputs": [
    {
     "name": "stdout",
     "output_type": "stream",
     "text": [
      "initial dataframe\n",
      "-----------------\n",
      "   col1  col2\n",
      "0     1     5\n",
      "1     2     6\n",
      "2     3     7\n",
      "3     4     8\n",
      "-----------------\n",
      "+------+------+\n",
      "| col1 | col2 |\n",
      "+------+------+\n",
      "|  1   |  5   |\n",
      "+------+------+\n",
      "|  2   |  6   |\n",
      "+------+------+\n",
      "|  3   |  7   |\n",
      "+------+------+\n",
      "|  4   |  8   |\n",
      "+------+------+\n"
     ]
    }
   ],
   "source": [
    "# beautifultable to make dataframe as table\n",
    "\n",
    "import pandas as pd\n",
    "from beautifultable import BeautifulTable\n",
    "\n",
    "dict1 = {'col1':[1,2,3,4], 'col2':[5,6,7,8]}\n",
    "df = pd.DataFrame(dict1)\n",
    "\n",
    "print('initial dataframe')\n",
    "print('-----------------')\n",
    "print(df)\n",
    "print('-----------------')\n",
    "\n",
    "#converting dataframe to table with beautiful\n",
    "list1 = df.values.tolist()\n",
    "\n",
    "from beautifultable import BeautifulTable\n",
    "table = BeautifulTable()\n",
    "\n",
    "table.columns.header = ['col1', 'col2']\n",
    "\n",
    "for i in list1:\n",
    "    table.rows.append(i)\n",
    "    \n",
    "print(table)"
   ]
  },
  {
   "cell_type": "markdown",
   "metadata": {},
   "source": [
    "### Question - 329"
   ]
  },
  {
   "cell_type": "code",
   "execution_count": 51,
   "metadata": {},
   "outputs": [
    {
     "name": "stdout",
     "output_type": "stream",
     "text": [
      "enter the  ages10\n",
      "enter the  ages20\n",
      "enter the  ages24\n",
      "Too young!\n"
     ]
    }
   ],
   "source": [
    "# 3 person age to be taken as input, if any one or more of then are less than 16 print 'Too young!' else 'Get ready!'\n",
    "\n",
    "l = []\n",
    "for i in range(3):\n",
    "    l.append(int(input('enter the  ages')))\n",
    "    \n",
    "for j in l:\n",
    "    if j < 16:\n",
    "        print('Too young!')\n",
    "        break\n",
    "else:\n",
    "    print('Get ready!')"
   ]
  },
  {
   "cell_type": "markdown",
   "metadata": {},
   "source": [
    "### Question - 330"
   ]
  },
  {
   "cell_type": "code",
   "execution_count": 55,
   "metadata": {},
   "outputs": [
    {
     "name": "stdout",
     "output_type": "stream",
     "text": [
      "1ab\n",
      "Enter only digits\n"
     ]
    }
   ],
   "source": [
    "# get id. if id contains string print 'Enter only digits', else 'Order accepted'\n",
    "\n",
    "l = [str(i) for i in range(10)]\n",
    "s = input()\n",
    "for i in str(s):\n",
    "    if i not in l:\n",
    "        print('Enter only digits')\n",
    "        break\n",
    "else:\n",
    "    print('Order accepted')\n",
    "    print('Bon appetit')"
   ]
  },
  {
   "cell_type": "markdown",
   "metadata": {},
   "source": [
    "### Question - 331"
   ]
  },
  {
   "cell_type": "code",
   "execution_count": 57,
   "metadata": {},
   "outputs": [
    {
     "name": "stdout",
     "output_type": "stream",
     "text": [
      "initial dataframe\n",
      "-----------------\n",
      "   col1  col2\n",
      "0   1.0   NaN\n",
      "1   NaN   6.0\n",
      "2   3.0   7.0\n",
      "3   4.0   NaN\n",
      "-----------------\n",
      "after conveting NaN to blanks\n",
      "-----------------\n",
      "  col1 col2\n",
      "0    1     \n",
      "1         6\n",
      "2    3    7\n",
      "3    4     \n",
      "-----------------\n"
     ]
    }
   ],
   "source": [
    "# to change all NaN values in a dataframe to blank\n",
    "\n",
    "import numpy as np\n",
    "import pandas as pd\n",
    "\n",
    "dict1 = {'col1':[1,np.NaN,3,4], 'col2':[np.NaN,6,7,np.NaN]}\n",
    "df = pd.DataFrame(dict1)\n",
    "\n",
    "print('initial dataframe')\n",
    "print('-----------------')\n",
    "print(df)\n",
    "print('-----------------')\n",
    "\n",
    "\n",
    "#convering NaN to blanks\n",
    "df = df.replace(np.nan, '', regex=True)\n",
    "print('after conveting NaN to blanks')\n",
    "print('-----------------')\n",
    "print(df)\n",
    "print('-----------------')"
   ]
  },
  {
   "cell_type": "markdown",
   "metadata": {},
   "source": [
    "### Question - 332"
   ]
  },
  {
   "cell_type": "code",
   "execution_count": 63,
   "metadata": {},
   "outputs": [
    {
     "name": "stdout",
     "output_type": "stream",
     "text": [
      "Hi! Enter the numbers one by one\n",
      "1\n",
      "2\n",
      "3\n",
      "4\n",
      "5\n",
      "1\n",
      "2\n",
      "3\n",
      "end\n",
      "Counter({1: 2, 2: 2, 3: 2, 4: 1, 5: 1})\n"
     ]
    }
   ],
   "source": [
    "# get a list of numbers and return count of each numbers entered\n",
    "\n",
    "print('Hi! Enter the numbers one by one')\n",
    "l = []\n",
    "\n",
    "try:\n",
    "    while True:\n",
    "        i = input()\n",
    "        if i.lower().strip() == 'end':\n",
    "            break\n",
    "        else:\n",
    "            l.append(int(i))\n",
    "except:\n",
    "    print('Entered value is not a valid number. Showing count of entered values till now')\n",
    "    \n",
    "from collections import Counter\n",
    "count_dict = Counter(l)\n",
    "print(count_dict)"
   ]
  },
  {
   "cell_type": "markdown",
   "metadata": {},
   "source": [
    "### Question - 333"
   ]
  },
  {
   "cell_type": "code",
   "execution_count": 64,
   "metadata": {},
   "outputs": [
    {
     "name": "stdout",
     "output_type": "stream",
     "text": [
      "x\n"
     ]
    }
   ],
   "source": [
    "import re\n",
    "\n",
    "first = re.match(\"(car)?\", 'racecar')\n",
    "second = 0**0\n",
    "\n",
    "if second and first:\n",
    "    print('x')\n",
    "elif second or first:\n",
    "    print('y')"
   ]
  },
  {
   "cell_type": "markdown",
   "metadata": {},
   "source": [
    "### Question - 334"
   ]
  },
  {
   "cell_type": "code",
   "execution_count": 85,
   "metadata": {},
   "outputs": [
    {
     "name": "stdout",
     "output_type": "stream",
     "text": [
      "this is an awsome text\n",
      "awsome\n"
     ]
    }
   ],
   "source": [
    "#get a sentence as input and print longest word out of it\n",
    "s = input().split()\n",
    "s = sorted(s, key=len)\n",
    "print(s[-1])"
   ]
  },
  {
   "cell_type": "code",
   "execution_count": 84,
   "metadata": {},
   "outputs": [
    {
     "name": "stdout",
     "output_type": "stream",
     "text": [
      "this is an awsome text\n",
      "['this', 'is', 'an', 'awsome', 'text'] [4, 2, 2, 6, 4]\n"
     ]
    }
   ],
   "source": [
    "s = input().split()\n",
    "l = [len(i) for i in s]\n",
    "print(s, l)"
   ]
  },
  {
   "cell_type": "markdown",
   "metadata": {},
   "source": [
    "### Question - 335"
   ]
  },
  {
   "cell_type": "code",
   "execution_count": 28,
   "metadata": {},
   "outputs": [
    {
     "name": "stdout",
     "output_type": "stream",
     "text": [
      "87654321\n",
      "Valid\n"
     ]
    }
   ],
   "source": [
    "#check if phone number is valid (must start with 1 or 8 or 9, must be 8 digit long)\n",
    "\n",
    "n = input()\n",
    "\n",
    "if re.search(r'^(1|8|9)\\d+', n) and len(n) == 8:\n",
    "    print('Valid')\n",
    "else:\n",
    "    print('Invalid')"
   ]
  },
  {
   "cell_type": "markdown",
   "metadata": {},
   "source": [
    "### Question - 336"
   ]
  },
  {
   "cell_type": "code",
   "execution_count": 22,
   "metadata": {},
   "outputs": [],
   "source": [
    "def word_join(*args):\n",
    "    return '-'.join(list(args))"
   ]
  },
  {
   "cell_type": "code",
   "execution_count": 23,
   "metadata": {},
   "outputs": [
    {
     "data": {
      "text/plain": [
       "'a-b-c'"
      ]
     },
     "execution_count": 23,
     "metadata": {},
     "output_type": "execute_result"
    }
   ],
   "source": [
    "word_join('a', 'b', 'c')"
   ]
  },
  {
   "cell_type": "markdown",
   "metadata": {},
   "source": [
    "### Question - 337"
   ]
  },
  {
   "cell_type": "code",
   "execution_count": 34,
   "metadata": {},
   "outputs": [
    {
     "name": "stdout",
     "output_type": "stream",
     "text": [
      "#hi hello how are you #friend\n",
      "#hi\n",
      "#friend\n"
     ]
    }
   ],
   "source": [
    "#find words startswith # in input\n",
    "l = input().split()\n",
    "for i in l:\n",
    "    if i.startswith('#'):\n",
    "        print(i)"
   ]
  },
  {
   "cell_type": "code",
   "execution_count": 36,
   "metadata": {},
   "outputs": [
    {
     "name": "stdout",
     "output_type": "stream",
     "text": [
      "#hi hello how are you #friend\n",
      "#hi\n",
      "#friend\n"
     ]
    }
   ],
   "source": [
    "# using re\n",
    "\n",
    "import re\n",
    "l = input().split()\n",
    "for i in l:\n",
    "    if re.search(r'^#\\w+', i):\n",
    "        print(i)"
   ]
  },
  {
   "cell_type": "markdown",
   "metadata": {},
   "source": [
    "### Question - 338"
   ]
  },
  {
   "cell_type": "code",
   "execution_count": 41,
   "metadata": {},
   "outputs": [
    {
     "name": "stdout",
     "output_type": "stream",
     "text": [
      "Abc12\n",
      "Password created\n"
     ]
    }
   ],
   "source": [
    "#password check\n",
    "\n",
    "p = input()\n",
    "if re.search(r'[A-Z]', p) and re.search(r'\\d', p):\n",
    "    print('Password created')\n",
    "else:\n",
    "    print('Wrong format')"
   ]
  },
  {
   "cell_type": "markdown",
   "metadata": {},
   "source": [
    "### Question - 339"
   ]
  },
  {
   "cell_type": "code",
   "execution_count": 46,
   "metadata": {},
   "outputs": [
    {
     "name": "stdout",
     "output_type": "stream",
     "text": [
      "LG17\n",
      "Searching\n"
     ]
    }
   ],
   "source": [
    "# print Searching if 2 upper case + 2 digits\n",
    "\n",
    "p = input()\n",
    "if re.search(r'[A-Z][A-Z]\\d{2}', p) and len(p) == 4:\n",
    "    print('Searching')\n",
    "else:\n",
    "    print('Wrong format')"
   ]
  },
  {
   "cell_type": "markdown",
   "metadata": {},
   "source": [
    "### Question - 340"
   ]
  },
  {
   "cell_type": "code",
   "execution_count": 55,
   "metadata": {},
   "outputs": [
    {
     "data": {
      "text/plain": [
       "3"
      ]
     },
     "execution_count": 55,
     "metadata": {},
     "output_type": "execute_result"
    }
   ],
   "source": [
    "L = []\n",
    "for i in range(1,5,2):\n",
    "    if i**2 >= 9:\n",
    "        L.append(i)\n",
    "L[-1]"
   ]
  },
  {
   "cell_type": "code",
   "execution_count": 56,
   "metadata": {},
   "outputs": [
    {
     "data": {
      "text/plain": [
       "[3]"
      ]
     },
     "execution_count": 56,
     "metadata": {},
     "output_type": "execute_result"
    }
   ],
   "source": [
    "L = []\n",
    "for i in range(1,5,2):\n",
    "    if i**2 >= 9:\n",
    "        L.append(i)\n",
    "L"
   ]
  },
  {
   "cell_type": "code",
   "execution_count": 57,
   "metadata": {},
   "outputs": [
    {
     "name": "stdout",
     "output_type": "stream",
     "text": [
      "1 1\n",
      "3 9\n"
     ]
    }
   ],
   "source": [
    "for i in range(1,5,2):\n",
    "    print(i, i**2)"
   ]
  },
  {
   "cell_type": "markdown",
   "metadata": {},
   "source": [
    "### Question - 341"
   ]
  },
  {
   "cell_type": "code",
   "execution_count": 61,
   "metadata": {},
   "outputs": [
    {
     "name": "stdout",
     "output_type": "stream",
     "text": [
      "abc\n",
      "No match\n"
     ]
    }
   ],
   "source": [
    "n = input()\n",
    "if re.search(r'^00\\d+', n):\n",
    "    print('+' + n[2:])\n",
    "else:\n",
    "    print(n)"
   ]
  },
  {
   "cell_type": "markdown",
   "metadata": {},
   "source": [
    "### Question - 342"
   ]
  },
  {
   "cell_type": "code",
   "execution_count": 81,
   "metadata": {},
   "outputs": [
    {
     "name": "stdout",
     "output_type": "stream",
     "text": [
      "20\n",
      "17\n",
      "14\n",
      "11\n",
      "8\n",
      "5\n",
      "2\n"
     ]
    }
   ],
   "source": [
    "from itertools import *\n",
    "for i in count(20,-3):\n",
    "    print(i)\n",
    "    if i < 5:\n",
    "        break"
   ]
  },
  {
   "cell_type": "markdown",
   "metadata": {},
   "source": [
    "### Question - 343"
   ]
  },
  {
   "cell_type": "code",
   "execution_count": 82,
   "metadata": {},
   "outputs": [
    {
     "name": "stdout",
     "output_type": "stream",
     "text": [
      "100 1\n"
     ]
    }
   ],
   "source": [
    "x = 1\n",
    "def func1():\n",
    "    return x\n",
    "\n",
    "def func2(y):\n",
    "    def func3():\n",
    "        return y\n",
    "    return func3\n",
    "\n",
    "func4 = func2(x)\n",
    "\n",
    "x = 100\n",
    "\n",
    "print(func1(), func4())"
   ]
  },
  {
   "cell_type": "code",
   "execution_count": 83,
   "metadata": {},
   "outputs": [],
   "source": [
    "# func4 assigned to func2(x) before x=100"
   ]
  },
  {
   "cell_type": "markdown",
   "metadata": {},
   "source": [
    "### Question - 344"
   ]
  },
  {
   "cell_type": "code",
   "execution_count": 84,
   "metadata": {},
   "outputs": [
    {
     "name": "stdout",
     "output_type": "stream",
     "text": [
      "nohtyp\n"
     ]
    }
   ],
   "source": [
    "def func(x):\n",
    "    if len(x) < 2:\n",
    "        return x\n",
    "    else:\n",
    "        return x[-1] + func(x[:-1])\n",
    "    \n",
    "print(func('python'))"
   ]
  },
  {
   "cell_type": "markdown",
   "metadata": {},
   "source": [
    "### Question - 345"
   ]
  },
  {
   "cell_type": "code",
   "execution_count": 88,
   "metadata": {},
   "outputs": [
    {
     "data": {
      "text/plain": [
       "[1, 2, 3, 4]"
      ]
     },
     "execution_count": 88,
     "metadata": {},
     "output_type": "execute_result"
    }
   ],
   "source": [
    "def guess(list1):\n",
    "    list2 = list1\n",
    "    list2.append(4)\n",
    "    list1 = [5,6,7]\n",
    "    \n",
    "list1 = [1,2,3]\n",
    "guess(list1)\n",
    "list1"
   ]
  }
 ],
 "metadata": {
  "kernelspec": {
   "display_name": "Python 3",
   "language": "python",
   "name": "python3"
  },
  "language_info": {
   "codemirror_mode": {
    "name": "ipython",
    "version": 3
   },
   "file_extension": ".py",
   "mimetype": "text/x-python",
   "name": "python",
   "nbconvert_exporter": "python",
   "pygments_lexer": "ipython3",
   "version": "3.8.3"
  }
 },
 "nbformat": 4,
 "nbformat_minor": 4
}
