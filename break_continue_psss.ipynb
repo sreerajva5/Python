{
 "cells": [
  {
   "cell_type": "markdown",
   "metadata": {},
   "source": [
    "# Break, Continue & Pass"
   ]
  },
  {
   "cell_type": "markdown",
   "metadata": {},
   "source": [
    "### Break"
   ]
  },
  {
   "cell_type": "code",
   "execution_count": 2,
   "metadata": {},
   "outputs": [
    {
     "name": "stdout",
     "output_type": "stream",
     "text": [
      "How many candies you want?\n",
      "5\n",
      "candy\n",
      "candy\n",
      "candy\n",
      "candy\n",
      "candy\n"
     ]
    }
   ],
   "source": [
    "# scinario1 : need to give the number of candies. input number should take from user\n",
    "x = int(input(\"How many candies you want?\\n\"))\n",
    "i=1\n",
    "while i <=x:\n",
    "    print('candy')\n",
    "    i=i+1"
   ]
  },
  {
   "cell_type": "code",
   "execution_count": 4,
   "metadata": {},
   "outputs": [
    {
     "name": "stdout",
     "output_type": "stream",
     "text": [
      "How many candies you want?\n",
      "3\n",
      "candy\n",
      "candy\n",
      "out of stock\n",
      "Bye\n"
     ]
    }
   ],
   "source": [
    "# scinario2 : the entered number of candies is not available\n",
    "\n",
    "av = 2 # available candies defined\n",
    "x = int(input(\"How many candies you want?\\n\"))\n",
    "i=1\n",
    "while i <=x:\n",
    "    if i>av:\n",
    "        print('out of stock')\n",
    "        break   # if available candy is over its breaking out of the loop\n",
    "    print('candy')\n",
    "    i=i+1\n",
    "\n",
    "print('Bye')"
   ]
  },
  {
   "cell_type": "markdown",
   "metadata": {},
   "source": [
    "### Continue"
   ]
  },
  {
   "cell_type": "code",
   "execution_count": 13,
   "metadata": {},
   "outputs": [
    {
     "name": "stdout",
     "output_type": "stream",
     "text": [
      "1\n",
      "2\n",
      "4\n",
      "5\n",
      "7\n",
      "8\n",
      "10\n"
     ]
    }
   ],
   "source": [
    "#Scinario : need to print numbers from 1 to 10 except divisible by  3\n",
    "i=1\n",
    "while i <=10:\n",
    "    if i%3 != 0:\n",
    "        print(i)\n",
    "    i +=1"
   ]
  },
  {
   "cell_type": "code",
   "execution_count": 18,
   "metadata": {},
   "outputs": [
    {
     "name": "stdout",
     "output_type": "stream",
     "text": [
      "1\n",
      "2\n",
      "4\n",
      "5\n",
      "7\n",
      "8\n",
      "10\n"
     ]
    }
   ],
   "source": [
    "#same to do with for loop\n",
    "for i in range(1,11):\n",
    "    if i%3 != 0:\n",
    "        print(i)"
   ]
  },
  {
   "cell_type": "code",
   "execution_count": 16,
   "metadata": {},
   "outputs": [
    {
     "name": "stdout",
     "output_type": "stream",
     "text": [
      "1\n",
      "2\n",
      "4\n",
      "5\n",
      "7\n",
      "8\n",
      "10\n"
     ]
    }
   ],
   "source": [
    "# use of continue\n",
    "for i in range(1,11):\n",
    "    if i%3 == 0:\n",
    "        continue  #continue pointing it back to the loop\n",
    "    print(i)"
   ]
  },
  {
   "cell_type": "code",
   "execution_count": 19,
   "metadata": {},
   "outputs": [
    {
     "name": "stdout",
     "output_type": "stream",
     "text": [
      "1\n",
      "2\n",
      "4\n",
      "7\n",
      "8\n"
     ]
    }
   ],
   "source": [
    "#Scinario : need to print numbers from 1 to 10 except divisible by  3 or 5\n",
    "for i in range(1,11):\n",
    "    if i%3 == 0 or i%5 == 0:\n",
    "        continue\n",
    "    print(i)"
   ]
  },
  {
   "cell_type": "markdown",
   "metadata": {},
   "source": [
    "### Pass"
   ]
  },
  {
   "cell_type": "code",
   "execution_count": 25,
   "metadata": {},
   "outputs": [
    {
     "name": "stdout",
     "output_type": "stream",
     "text": [
      "1\n",
      "2\n",
      "4\n",
      "7\n",
      "8\n"
     ]
    }
   ],
   "source": [
    "#Scinario : need to print numbers from 1 to 10 except divisible by  3 or 5\n",
    "for i in range(1,11):\n",
    "    if i%3 == 0 or i%5 == 0:\n",
    "        pass    # pass can use with if else\n",
    "    else:\n",
    "        print(i)"
   ]
  },
  {
   "cell_type": "code",
   "execution_count": null,
   "metadata": {},
   "outputs": [],
   "source": []
  }
 ],
 "metadata": {
  "kernelspec": {
   "display_name": "Python 3",
   "language": "python",
   "name": "python3"
  },
  "language_info": {
   "codemirror_mode": {
    "name": "ipython",
    "version": 3
   },
   "file_extension": ".py",
   "mimetype": "text/x-python",
   "name": "python",
   "nbconvert_exporter": "python",
   "pygments_lexer": "ipython3",
   "version": "3.6.5"
  }
 },
 "nbformat": 4,
 "nbformat_minor": 2
}
