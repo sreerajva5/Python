{
 "cells": [
  {
   "cell_type": "code",
   "execution_count": null,
   "metadata": {},
   "outputs": [],
   "source": []
  },
  {
   "cell_type": "markdown",
   "metadata": {},
   "source": [
    "### 1. Reverse of a list or a string"
   ]
  },
  {
   "cell_type": "markdown",
   "metadata": {},
   "source": [
    "#####  List reverse - Method 1"
   ]
  },
  {
   "cell_type": "code",
   "execution_count": 1,
   "metadata": {},
   "outputs": [
    {
     "name": "stdout",
     "output_type": "stream",
     "text": [
      "[5, 4, 3, 2, 1]\n"
     ]
    }
   ],
   "source": [
    "l = [1,2,3,4,5]\n",
    "print(l[::-1])"
   ]
  },
  {
   "cell_type": "markdown",
   "metadata": {},
   "source": [
    "#####  List reverse - Method 2"
   ]
  },
  {
   "cell_type": "code",
   "execution_count": 13,
   "metadata": {},
   "outputs": [
    {
     "name": "stdout",
     "output_type": "stream",
     "text": [
      "[5, 4, 3, 2, 1]\n"
     ]
    }
   ],
   "source": [
    "l.reverse() #this just reverses the original list\n",
    "print(l)"
   ]
  },
  {
   "cell_type": "markdown",
   "metadata": {},
   "source": [
    "#####  List reverse - Method 3"
   ]
  },
  {
   "cell_type": "code",
   "execution_count": 18,
   "metadata": {},
   "outputs": [
    {
     "name": "stdout",
     "output_type": "stream",
     "text": [
      "[1, 2, 3, 4, 5]\n"
     ]
    }
   ],
   "source": [
    "new_list = []\n",
    "for i in range(len(l)-1,-1,-1):\n",
    "    new_list.append(l[i])\n",
    "print(new_list)"
   ]
  },
  {
   "cell_type": "markdown",
   "metadata": {},
   "source": [
    "#####  String reverse"
   ]
  },
  {
   "cell_type": "code",
   "execution_count": 2,
   "metadata": {},
   "outputs": [
    {
     "name": "stdout",
     "output_type": "stream",
     "text": [
      "edcba\n"
     ]
    }
   ],
   "source": [
    "s = 'abcde'\n",
    "print(s[::-1])"
   ]
  },
  {
   "cell_type": "markdown",
   "metadata": {},
   "source": [
    "### 2. Rotation of a list or a string"
   ]
  },
  {
   "cell_type": "markdown",
   "metadata": {},
   "source": [
    "##### Rotation of a list"
   ]
  },
  {
   "cell_type": "code",
   "execution_count": 23,
   "metadata": {},
   "outputs": [],
   "source": [
    "l = [1,2,3,4,5]"
   ]
  },
  {
   "cell_type": "code",
   "execution_count": 28,
   "metadata": {},
   "outputs": [
    {
     "name": "stdout",
     "output_type": "stream",
     "text": [
      "[1, 2, 3, 4, 5]\n",
      "[5, 1, 2, 3, 4]\n",
      "[4, 5, 1, 2, 3]\n",
      "[3, 4, 5, 1, 2]\n",
      "[2, 3, 4, 5, 1]\n"
     ]
    }
   ],
   "source": [
    "for i in range(len(l)):\n",
    "    print(l[-i:]+l[:-i])"
   ]
  },
  {
   "cell_type": "markdown",
   "metadata": {},
   "source": [
    "##### Rotation of a string"
   ]
  },
  {
   "cell_type": "code",
   "execution_count": 29,
   "metadata": {},
   "outputs": [],
   "source": [
    "s = 'abcde'"
   ]
  },
  {
   "cell_type": "code",
   "execution_count": 31,
   "metadata": {
    "scrolled": true
   },
   "outputs": [
    {
     "name": "stdout",
     "output_type": "stream",
     "text": [
      "abcde\n",
      "eabcd\n",
      "deabc\n",
      "cdeab\n",
      "bcdea\n"
     ]
    }
   ],
   "source": [
    "for i in range(len(s)):\n",
    "    print(s[-i:]+s[:-i])"
   ]
  },
  {
   "cell_type": "markdown",
   "metadata": {},
   "source": [
    "### 3. To identify numbers from an article"
   ]
  },
  {
   "cell_type": "code",
   "execution_count": 36,
   "metadata": {},
   "outputs": [],
   "source": [
    "a = '''He had 10 goats.\n",
    "he sold 2 goat\n",
    "now he has 8 goats'''"
   ]
  },
  {
   "cell_type": "code",
   "execution_count": 40,
   "metadata": {},
   "outputs": [
    {
     "data": {
      "text/plain": [
       "['10', '2', '8']"
      ]
     },
     "execution_count": 40,
     "metadata": {},
     "output_type": "execute_result"
    }
   ],
   "source": [
    "import re  # import regular expression module\n",
    "re.findall(r'\\d+', a)"
   ]
  },
  {
   "cell_type": "code",
   "execution_count": 56,
   "metadata": {},
   "outputs": [
    {
     "data": {
      "text/plain": [
       "['10', '2', '8']"
      ]
     },
     "execution_count": 56,
     "metadata": {},
     "output_type": "execute_result"
    }
   ],
   "source": [
    "re.findall(r'[0-9]+', a)"
   ]
  },
  {
   "cell_type": "markdown",
   "metadata": {},
   "source": [
    "### 4. Difference between print and pprint"
   ]
  },
  {
   "cell_type": "code",
   "execution_count": 70,
   "metadata": {},
   "outputs": [],
   "source": [
    "#pprint means pretty print\n",
    "#print displays the data as is\n",
    "#The pprint module provides a capability to “pretty-print” arbitrary Python data structures in a well-formatted and-\n",
    "#more readable way!"
   ]
  },
  {
   "cell_type": "markdown",
   "metadata": {},
   "source": [
    "##### Example for difference between print and pprint"
   ]
  },
  {
   "cell_type": "code",
   "execution_count": 67,
   "metadata": {},
   "outputs": [],
   "source": [
    "d = {'status': 'OK', 'results': [{'address_components': [{'long_name': 'Rajpath', 'types': ['route'], \n",
    "'short_name': 'Rajpath'}, {'long_name': 'India Gate', 'types': ['political', 'sublocality', \n",
    "'sublocality_level_1'], 'short_name': 'India Gate'}, {'long_name': 'New Delhi', 'types': \n",
    "['locality', 'political'], 'short_name': 'New Delhi'}, {'long_name': 'New Delhi', \n",
    "'types': ['administrative_area_level_2', 'political'], 'short_name': 'New Delhi'}, {'long_name': \n",
    "'Delhi', 'types': ['administrative_area_level_1', 'political'], 'short_name': 'DL'}, {'long_name': \n",
    "'India', 'types': ['country', 'political'], 'short_name': 'IN'}, {'long_name': '110001', 'types': \n",
    "['postal_code'], 'short_name': '110001'}], 'geometry': {'location': {'lng': 77.2295097, 'lat': 28.612912}, \n",
    "'viewport': {'northeast': {'lng': 77.2308586802915, 'lat': 28.6142609802915}, 'southwest': {'lng': \n",
    "77.22816071970848, 'lat': 28.6115630197085}}, 'location_type': 'APPROXIMATE'}, 'types': \n",
    "['establishment', 'point_of_interest'], 'formatted_address': 'Rajpath, India Gate, New Delhi, Delhi 110001, India', 'place_id': 'ChIJC03rqdriDDkRXT6SJRGXFwc'}]}"
   ]
  },
  {
   "cell_type": "code",
   "execution_count": 68,
   "metadata": {},
   "outputs": [
    {
     "name": "stdout",
     "output_type": "stream",
     "text": [
      "{'status': 'OK', 'results': [{'address_components': [{'long_name': 'Rajpath', 'types': ['route'], 'short_name': 'Rajpath'}, {'long_name': 'India Gate', 'types': ['political', 'sublocality', 'sublocality_level_1'], 'short_name': 'India Gate'}, {'long_name': 'New Delhi', 'types': ['locality', 'political'], 'short_name': 'New Delhi'}, {'long_name': 'New Delhi', 'types': ['administrative_area_level_2', 'political'], 'short_name': 'New Delhi'}, {'long_name': 'Delhi', 'types': ['administrative_area_level_1', 'political'], 'short_name': 'DL'}, {'long_name': 'India', 'types': ['country', 'political'], 'short_name': 'IN'}, {'long_name': '110001', 'types': ['postal_code'], 'short_name': '110001'}], 'geometry': {'location': {'lng': 77.2295097, 'lat': 28.612912}, 'viewport': {'northeast': {'lng': 77.2308586802915, 'lat': 28.6142609802915}, 'southwest': {'lng': 77.22816071970848, 'lat': 28.6115630197085}}, 'location_type': 'APPROXIMATE'}, 'types': ['establishment', 'point_of_interest'], 'formatted_address': 'Rajpath, India Gate, New Delhi, Delhi 110001, India', 'place_id': 'ChIJC03rqdriDDkRXT6SJRGXFwc'}]}\n"
     ]
    }
   ],
   "source": [
    "print(d)"
   ]
  },
  {
   "cell_type": "code",
   "execution_count": 69,
   "metadata": {},
   "outputs": [
    {
     "name": "stdout",
     "output_type": "stream",
     "text": [
      "{'results': [{'address_components': [{'long_name': 'Rajpath',\n",
      "                                      'short_name': 'Rajpath',\n",
      "                                      'types': ['route']},\n",
      "                                     {'long_name': 'India Gate',\n",
      "                                      'short_name': 'India Gate',\n",
      "                                      'types': ['political',\n",
      "                                                'sublocality',\n",
      "                                                'sublocality_level_1']},\n",
      "                                     {'long_name': 'New Delhi',\n",
      "                                      'short_name': 'New Delhi',\n",
      "                                      'types': ['locality', 'political']},\n",
      "                                     {'long_name': 'New Delhi',\n",
      "                                      'short_name': 'New Delhi',\n",
      "                                      'types': ['administrative_area_level_2',\n",
      "                                                'political']},\n",
      "                                     {'long_name': 'Delhi',\n",
      "                                      'short_name': 'DL',\n",
      "                                      'types': ['administrative_area_level_1',\n",
      "                                                'political']},\n",
      "                                     {'long_name': 'India',\n",
      "                                      'short_name': 'IN',\n",
      "                                      'types': ['country', 'political']},\n",
      "                                     {'long_name': '110001',\n",
      "                                      'short_name': '110001',\n",
      "                                      'types': ['postal_code']}],\n",
      "              'formatted_address': 'Rajpath, India Gate, New Delhi, Delhi '\n",
      "                                   '110001, India',\n",
      "              'geometry': {'location': {'lat': 28.612912, 'lng': 77.2295097},\n",
      "                           'location_type': 'APPROXIMATE',\n",
      "                           'viewport': {'northeast': {'lat': 28.6142609802915,\n",
      "                                                      'lng': 77.2308586802915},\n",
      "                                        'southwest': {'lat': 28.6115630197085,\n",
      "                                                      'lng': 77.22816071970848}}},\n",
      "              'place_id': 'ChIJC03rqdriDDkRXT6SJRGXFwc',\n",
      "              'types': ['establishment', 'point_of_interest']}],\n",
      " 'status': 'OK'}\n"
     ]
    }
   ],
   "source": [
    "import pprint\n",
    "pprint.pprint(d)"
   ]
  },
  {
   "cell_type": "markdown",
   "metadata": {},
   "source": [
    "### 5. eval()"
   ]
  },
  {
   "cell_type": "code",
   "execution_count": 71,
   "metadata": {},
   "outputs": [],
   "source": [
    "#eval converts datas into a more accurate datatype"
   ]
  },
  {
   "cell_type": "markdown",
   "metadata": {},
   "source": [
    "#### Example1 for eval"
   ]
  },
  {
   "cell_type": "code",
   "execution_count": 72,
   "metadata": {},
   "outputs": [
    {
     "name": "stdout",
     "output_type": "stream",
     "text": [
      "Enter a number: \n",
      "1\n"
     ]
    }
   ],
   "source": [
    "a = input(\"Enter a number: \\n\")"
   ]
  },
  {
   "cell_type": "code",
   "execution_count": 73,
   "metadata": {},
   "outputs": [
    {
     "name": "stdout",
     "output_type": "stream",
     "text": [
      "1\n",
      "<class 'str'>\n"
     ]
    }
   ],
   "source": [
    "print(a)\n",
    "print(type(a))   # here a is a string as its taken as a user input"
   ]
  },
  {
   "cell_type": "code",
   "execution_count": 74,
   "metadata": {},
   "outputs": [
    {
     "name": "stdout",
     "output_type": "stream",
     "text": [
      "Enter a number: \n",
      "1\n"
     ]
    }
   ],
   "source": [
    "b = eval(input(\"Enter a number: \\n\"))"
   ]
  },
  {
   "cell_type": "code",
   "execution_count": 76,
   "metadata": {},
   "outputs": [
    {
     "name": "stdout",
     "output_type": "stream",
     "text": [
      "1\n",
      "<class 'int'>\n"
     ]
    }
   ],
   "source": [
    "print(b)\n",
    "print(type(b))  #here b is a integer as eval is applied and took it"
   ]
  },
  {
   "cell_type": "markdown",
   "metadata": {},
   "source": [
    "#### Example2 for eval"
   ]
  },
  {
   "cell_type": "code",
   "execution_count": 90,
   "metadata": {},
   "outputs": [],
   "source": [
    "output = '''{ \"errorcode\": 0, \"message\": \"Done\", \"severity\": \"NONE\", \"sessionid\": \"##DBD70FB06CF371CE19AE712FAE8BF8521F76B6FF1AC729345B6EBDFBD5F68ED877613474A4571349853909716DAD888BCC76A2F1A80E7478C6CC9A1A711B6EF08F7BEAE288996F22037FEDD4AC1BB245531E8C45DB3E729D7A462462BD57B5AD42EE808082F1562908A4AEC8A1E861880267D2F01F1D576C1BF0D2A7655C\" }'''"
   ]
  },
  {
   "cell_type": "code",
   "execution_count": 91,
   "metadata": {},
   "outputs": [
    {
     "name": "stdout",
     "output_type": "stream",
     "text": [
      "<class 'str'>\n"
     ]
    }
   ],
   "source": [
    "print(type(output))"
   ]
  },
  {
   "cell_type": "code",
   "execution_count": 92,
   "metadata": {},
   "outputs": [],
   "source": [
    "output1 = eval(output)"
   ]
  },
  {
   "cell_type": "code",
   "execution_count": 93,
   "metadata": {},
   "outputs": [
    {
     "name": "stdout",
     "output_type": "stream",
     "text": [
      "{'errorcode': 0, 'message': 'Done', 'severity': 'NONE', 'sessionid': '##DBD70FB06CF371CE19AE712FAE8BF8521F76B6FF1AC729345B6EBDFBD5F68ED877613474A4571349853909716DAD888BCC76A2F1A80E7478C6CC9A1A711B6EF08F7BEAE288996F22037FEDD4AC1BB245531E8C45DB3E729D7A462462BD57B5AD42EE808082F1562908A4AEC8A1E861880267D2F01F1D576C1BF0D2A7655C'}\n"
     ]
    }
   ],
   "source": [
    "print(output1)"
   ]
  },
  {
   "cell_type": "code",
   "execution_count": 95,
   "metadata": {},
   "outputs": [
    {
     "data": {
      "text/plain": [
       "dict"
      ]
     },
     "execution_count": 95,
     "metadata": {},
     "output_type": "execute_result"
    }
   ],
   "source": [
    "type(output1)\n",
    "#eval converted the string data output to a dict. this is useful as output is a autogenerated output getting as string"
   ]
  },
  {
   "cell_type": "markdown",
   "metadata": {},
   "source": [
    "### 6. To ptint largest number in a list"
   ]
  },
  {
   "cell_type": "code",
   "execution_count": 132,
   "metadata": {},
   "outputs": [],
   "source": [
    "l = [10, 5, 8, 20, 30, 29, 1]"
   ]
  },
  {
   "cell_type": "markdown",
   "metadata": {},
   "source": [
    "#### Method 1"
   ]
  },
  {
   "cell_type": "code",
   "execution_count": 134,
   "metadata": {},
   "outputs": [
    {
     "name": "stdout",
     "output_type": "stream",
     "text": [
      "30\n"
     ]
    }
   ],
   "source": [
    "print(max(l))"
   ]
  },
  {
   "cell_type": "markdown",
   "metadata": {},
   "source": [
    "#### Method 2"
   ]
  },
  {
   "cell_type": "code",
   "execution_count": 135,
   "metadata": {},
   "outputs": [
    {
     "name": "stdout",
     "output_type": "stream",
     "text": [
      "30\n"
     ]
    }
   ],
   "source": [
    "for i in range(len(l)-1):\n",
    "    for j in range(i+1, len(l)):\n",
    "        if l[i] < l[j]:\n",
    "            l[i], l[j] = l[j], l[i]\n",
    "print(l[0])\n",
    "#Note:- This is bubble sort method. using this method if we need second largest number get l[1]"
   ]
  },
  {
   "cell_type": "markdown",
   "metadata": {},
   "source": [
    "### 7. Bubble sort (Ascending)"
   ]
  },
  {
   "cell_type": "code",
   "execution_count": 136,
   "metadata": {},
   "outputs": [],
   "source": [
    "l = [20, 22, 18, 50, 1, 30, 13]"
   ]
  },
  {
   "cell_type": "code",
   "execution_count": 137,
   "metadata": {},
   "outputs": [
    {
     "name": "stdout",
     "output_type": "stream",
     "text": [
      "[1, 13, 18, 20, 22, 30, 50]\n"
     ]
    }
   ],
   "source": [
    "for i in range(len(l)-1):\n",
    "    for j in range(i+1, len(l)):\n",
    "        if l[i] > l[j]:\n",
    "            l[i], l[j] = l[j], l[i]\n",
    "print(l)"
   ]
  },
  {
   "cell_type": "markdown",
   "metadata": {},
   "source": [
    "#### 8. Take a number as user input. then enter numbers -1 or 0 or1 that much times. then calculate % of times of -1,0,1"
   ]
  },
  {
   "cell_type": "code",
   "execution_count": 20,
   "metadata": {},
   "outputs": [
    {
     "name": "stdout",
     "output_type": "stream",
     "text": [
      "Enter a number :\n",
      "5\n",
      "enter a value from -1, 1, 0: \n",
      "1\n",
      "enter a value from -1, 1, 0: \n",
      "1\n",
      "enter a value from -1, 1, 0: \n",
      "-1\n",
      "enter a value from -1, 1, 0: \n",
      "-1\n",
      "enter a value from -1, 1, 0: \n",
      "0\n",
      "1 : 40.0%\n",
      "-1 : 40.0%\n",
      "0 : 20.0%\n"
     ]
    }
   ],
   "source": [
    "from collections import Counter\n",
    "\n",
    "n = int(input(\"Enter a number :\\n\"))\n",
    "l1 = [-1, 1, 0]\n",
    "l2 = []\n",
    "if n < 1:\n",
    "    print('entered value is not a valid number')\n",
    "elif n >= 1:\n",
    "    for i in range(n):\n",
    "        x = int(input(\"enter a value from -1, 1, 0: \\n\"))\n",
    "        if x in l1:\n",
    "            l2.append(x)\n",
    "        else:\n",
    "            print(\"Invalid entry!\")\n",
    "    t = len(l2)\n",
    "    count = Counter(l2)\n",
    "    for i,j in count.items():\n",
    "        print(\"{} : {}%\".format(i, j/t*100))"
   ]
  },
  {
   "cell_type": "code",
   "execution_count": null,
   "metadata": {},
   "outputs": [],
   "source": []
  }
 ],
 "metadata": {
  "kernelspec": {
   "display_name": "Python 3",
   "language": "python",
   "name": "python3"
  },
  "language_info": {
   "codemirror_mode": {
    "name": "ipython",
    "version": 3
   },
   "file_extension": ".py",
   "mimetype": "text/x-python",
   "name": "python",
   "nbconvert_exporter": "python",
   "pygments_lexer": "ipython3",
   "version": "3.6.5"
  }
 },
 "nbformat": 4,
 "nbformat_minor": 2
}
