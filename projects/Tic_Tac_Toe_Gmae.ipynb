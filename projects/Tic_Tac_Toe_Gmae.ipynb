{
 "cells": [
  {
   "cell_type": "markdown",
   "metadata": {},
   "source": [
    "# TIC TAC TOE Game"
   ]
  },
  {
   "cell_type": "code",
   "execution_count": 1,
   "metadata": {},
   "outputs": [],
   "source": [
    "#Defining board with 9 spaces\n",
    "\n",
    "board = [' ' for i in range(9)]"
   ]
  },
  {
   "cell_type": "code",
   "execution_count": 2,
   "metadata": {},
   "outputs": [],
   "source": [
    "# defining print board function to print tic tac toe format\n",
    "\n",
    "def print_board():\n",
    "    print()\n",
    "    print('|'+board[0]+'|'+board[1]+'|'+board[2]+'|')\n",
    "    print('|'+board[3]+'|'+board[4]+'|'+board[5]+'|')\n",
    "    print('|'+board[6]+'|'+board[7]+'|'+board[8]+'|')"
   ]
  },
  {
   "cell_type": "code",
   "execution_count": 3,
   "metadata": {},
   "outputs": [],
   "source": [
    "# defining move with selecting column number 1 to 9 and fulling it with \n",
    "\n",
    "def play(icon):\n",
    "    if icon == 'X':\n",
    "        number = 1\n",
    "    elif icon == 'O':\n",
    "        number = 2\n",
    "    \n",
    "    print('Your turn player {}'.format(number))\n",
    "    a = int(input('Enter the column number from 1-9: '))\n",
    "    if board[a-1] == ' ':\n",
    "        board[a-1] = icon\n",
    "        print_board()\n",
    "    else:\n",
    "        print('that space is taken')"
   ]
  },
  {
   "cell_type": "code",
   "execution_count": 4,
   "metadata": {},
   "outputs": [],
   "source": [
    "# defining win condition\n",
    "\n",
    "def win(icon):\n",
    "    if ((board[0] == board[1] == board[2] == icon) or (board[3] == board[4] == board[5] == icon) or (board[6] == board[7] == board[8] == icon) or\n",
    "    (board[0] == board[3] == board[6] == icon) or (board[1] == board[4] == board[7] == icon) or (board[2] == board[5] == board[8] == icon) or \n",
    "    (board[0] == board[4] == board[8] == icon) or (board[2] == board[4] == board[6] == icon)):\n",
    "        return True\n",
    "    else:\n",
    "        return False"
   ]
  },
  {
   "cell_type": "code",
   "execution_count": 5,
   "metadata": {},
   "outputs": [],
   "source": [
    "# defining draw condition\n",
    "\n",
    "def draw():\n",
    "    if ' ' not in board:\n",
    "        return True\n",
    "    else:\n",
    "        return False"
   ]
  },
  {
   "cell_type": "code",
   "execution_count": 6,
   "metadata": {},
   "outputs": [
    {
     "name": "stdout",
     "output_type": "stream",
     "text": [
      "Your turn player 1\n",
      "Enter the column number from 1-9: 1\n",
      "\n",
      "|X| | |\n",
      "| | | |\n",
      "| | | |\n",
      "Your turn player 2\n",
      "Enter the column number from 1-9: 2\n",
      "\n",
      "|X|O| |\n",
      "| | | |\n",
      "| | | |\n",
      "Your turn player 1\n",
      "Enter the column number from 1-9: 4\n",
      "\n",
      "|X|O| |\n",
      "|X| | |\n",
      "| | | |\n",
      "Your turn player 2\n",
      "Enter the column number from 1-9: 3\n",
      "\n",
      "|X|O|O|\n",
      "|X| | |\n",
      "| | | |\n",
      "Your turn player 1\n",
      "Enter the column number from 1-9: 7\n",
      "\n",
      "|X|O|O|\n",
      "|X| | |\n",
      "|X| | |\n",
      "\n",
      "|X|O|O|\n",
      "|X| | |\n",
      "|X| | |\n",
      "Congrats! Player-1 (X) wins.\n"
     ]
    }
   ],
   "source": [
    "#game sequence- player 1 plays, check win, check draw, player 2 plays, check win, check draw, break on win or draw\n",
    "\n",
    "while True:\n",
    "    play('X')\n",
    "    if win('X'):\n",
    "        print_board()\n",
    "        print('Congrats! Player-1 (X) wins.')\n",
    "        break\n",
    "    if draw():\n",
    "        print('Ohh! Its a draw')\n",
    "        break\n",
    "    play('O')\n",
    "    if win('O'):\n",
    "        print_board()\n",
    "        print('Congrats! Player-2 (O) wins.')\n",
    "        break\n",
    "    if draw():\n",
    "        print('Ohh! Its a draw')\n",
    "        break\n"
   ]
  },
  {
   "cell_type": "code",
   "execution_count": null,
   "metadata": {},
   "outputs": [],
   "source": []
  }
 ],
 "metadata": {
  "kernelspec": {
   "display_name": "Python 3",
   "language": "python",
   "name": "python3"
  },
  "language_info": {
   "codemirror_mode": {
    "name": "ipython",
    "version": 3
   },
   "file_extension": ".py",
   "mimetype": "text/x-python",
   "name": "python",
   "nbconvert_exporter": "python",
   "pygments_lexer": "ipython3",
   "version": "3.6.9"
  }
 },
 "nbformat": 4,
 "nbformat_minor": 2
}
