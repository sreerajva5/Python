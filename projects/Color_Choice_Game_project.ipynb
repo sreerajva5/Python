{
 "cells": [
  {
   "cell_type": "raw",
   "metadata": {},
   "source": [
    "Winning Rules of the Colors choices Game as follows:\n",
    "Enter a number from one two five and match computer choice to Win the computer.\n",
    "\n",
    "red = 1, yellow = 2, orange = 3, green = 4, blue = 5"
   ]
  },
  {
   "cell_type": "code",
   "execution_count": 14,
   "metadata": {},
   "outputs": [
    {
     "name": "stdout",
     "output_type": "stream",
     "text": [
      "1. red\n",
      "2. yellow\n",
      "3. orange\n",
      "4. green\n",
      "5. blue\n",
      "Enter a number from 1 to 5 to select your color:\n",
      "1\n",
      "You selected the color red and compter selected the color blue\n",
      "Do you want to continue this game? Enter Y for Yes or N for No.\n",
      "\n",
      "y\n",
      "1. red\n",
      "2. yellow\n",
      "3. orange\n",
      "4. green\n",
      "5. blue\n",
      "Enter a number from 1 to 5 to select your color:\n",
      "1\n",
      "You selected the color red and compter selected the color green\n",
      "Do you want to continue this game? Enter Y for Yes or N for No.\n",
      "\n",
      "y\n",
      "1. red\n",
      "2. yellow\n",
      "3. orange\n",
      "4. green\n",
      "5. blue\n",
      "Enter a number from 1 to 5 to select your color:\n",
      "1\n",
      "You selected the color red and compter selected the color orange\n",
      "Do you want to continue this game? Enter Y for Yes or N for No.\n",
      "\n",
      "n\n",
      "Game end!\n",
      "Your score is 0 and computer score is 3.\n",
      "Computer won.\n"
     ]
    }
   ],
   "source": [
    "import random\n",
    "color_dict = {1:'red', 2:'yellow', 3:'orange', 4:'green', 5:'blue'}\n",
    "user_score = 0\n",
    "computer_score = 0\n",
    "\n",
    "while True:\n",
    "    for i,j in color_dict.items():\n",
    "        print(str(i) + '. ' + j)\n",
    "    user_input = int(input('Enter a number from 1 to 5 to select your color:\\n'))\n",
    "    if user_input not in color_dict.keys():\n",
    "        continue\n",
    "    else:\n",
    "        user_color = color_dict[user_input]\n",
    "        computer_color = random.choice(list(color_dict.values()))\n",
    "        print(f'You selected the color {user_color} and compter selected the color {computer_color}')\n",
    "        if user_color == computer_color:\n",
    "            user_score += 1\n",
    "        else:\n",
    "            computer_score += 1\n",
    "        print('Do you want to continue this game? Enter Y for Yes or N for No.\\n')\n",
    "        game_choice = input().strip().lower()\n",
    "        if game_choice == 'y':\n",
    "            continue\n",
    "        else:\n",
    "            print('Game end!')\n",
    "            if user_score == computer_score:\n",
    "                print(f'Your score is {user_score} and computer score is {computer_score}.')\n",
    "                print('Its a tie.')\n",
    "                break\n",
    "            elif user_score > computer_score:\n",
    "                print(f'Your score is {user_score} and computer score is {computer_score}.')\n",
    "                print('Congrats. You won.')\n",
    "                break\n",
    "            elif user_score < computer_score:\n",
    "                print(f'Your score is {user_score} and computer score is {computer_score}.')\n",
    "                print('Computer won.')\n",
    "                break"
   ]
  },
  {
   "cell_type": "code",
   "execution_count": null,
   "metadata": {},
   "outputs": [],
   "source": []
  }
 ],
 "metadata": {
  "kernelspec": {
   "display_name": "Python 3",
   "language": "python",
   "name": "python3"
  },
  "language_info": {
   "codemirror_mode": {
    "name": "ipython",
    "version": 3
   },
   "file_extension": ".py",
   "mimetype": "text/x-python",
   "name": "python",
   "nbconvert_exporter": "python",
   "pygments_lexer": "ipython3",
   "version": "3.8.5"
  }
 },
 "nbformat": 4,
 "nbformat_minor": 4
}
