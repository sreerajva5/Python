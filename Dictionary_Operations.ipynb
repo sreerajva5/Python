{
 "cells": [
  {
   "cell_type": "markdown",
   "metadata": {},
   "source": [
    "# Dictionary Operations"
   ]
  },
  {
   "cell_type": "markdown",
   "metadata": {},
   "source": [
    "#### Create a dictionary"
   ]
  },
  {
   "cell_type": "code",
   "execution_count": 13,
   "metadata": {},
   "outputs": [],
   "source": [
    "dict1 = {1:'a', 2:'b', 3:'c'}\n",
    "#dictionaries keeps data as 'keys : values'"
   ]
  },
  {
   "cell_type": "markdown",
   "metadata": {},
   "source": [
    "#### Create dictionary from list of keys and values- method1"
   ]
  },
  {
   "cell_type": "code",
   "execution_count": 14,
   "metadata": {},
   "outputs": [],
   "source": [
    "keys = ['a','b', 'c']\n",
    "values = ['apple', 'ball', 'cat']"
   ]
  },
  {
   "cell_type": "code",
   "execution_count": 15,
   "metadata": {},
   "outputs": [
    {
     "name": "stdout",
     "output_type": "stream",
     "text": [
      "{'a': 'apple', 'b': 'ball', 'c': 'cat'}\n"
     ]
    }
   ],
   "source": [
    "dict2 = {}\n",
    "for i,j in zip(keys,values):\n",
    "    dict2[i] = j\n",
    "print(dict2)"
   ]
  },
  {
   "cell_type": "markdown",
   "metadata": {},
   "source": [
    "#### Create dictionary from list of keys and values- method2"
   ]
  },
  {
   "cell_type": "code",
   "execution_count": 16,
   "metadata": {},
   "outputs": [
    {
     "data": {
      "text/plain": [
       "{'a': 'apple', 'b': 'ball', 'c': 'cat'}"
      ]
     },
     "execution_count": 16,
     "metadata": {},
     "output_type": "execute_result"
    }
   ],
   "source": [
    "dict(zip(keys,values))"
   ]
  },
  {
   "cell_type": "markdown",
   "metadata": {},
   "source": [
    "#### To get value against a particular key"
   ]
  },
  {
   "cell_type": "code",
   "execution_count": 17,
   "metadata": {},
   "outputs": [
    {
     "data": {
      "text/plain": [
       "'c'"
      ]
     },
     "execution_count": 17,
     "metadata": {},
     "output_type": "execute_result"
    }
   ],
   "source": [
    "dict1[3]"
   ]
  },
  {
   "cell_type": "code",
   "execution_count": 18,
   "metadata": {},
   "outputs": [
    {
     "data": {
      "text/plain": [
       "'a'"
      ]
     },
     "execution_count": 18,
     "metadata": {},
     "output_type": "execute_result"
    }
   ],
   "source": [
    "dict1.get(1) #can also use get method"
   ]
  },
  {
   "cell_type": "markdown",
   "metadata": {},
   "source": [
    "#### to update a value against a key in dictionary"
   ]
  },
  {
   "cell_type": "code",
   "execution_count": 19,
   "metadata": {},
   "outputs": [
    {
     "name": "stdout",
     "output_type": "stream",
     "text": [
      "{1: 'a', 2: 'b', 3: 'd'}\n"
     ]
    }
   ],
   "source": [
    "dict1[3] = 'd'\n",
    "print(dict1)"
   ]
  },
  {
   "cell_type": "markdown",
   "metadata": {},
   "source": [
    "#### to insert a key value pair into a dictionary"
   ]
  },
  {
   "cell_type": "code",
   "execution_count": 20,
   "metadata": {},
   "outputs": [
    {
     "name": "stdout",
     "output_type": "stream",
     "text": [
      "{1: 'a', 2: 'b', 3: 'd', 4: 'e'}\n"
     ]
    }
   ],
   "source": [
    "dict1[4] = 'e'\n",
    "print(dict1)"
   ]
  },
  {
   "cell_type": "markdown",
   "metadata": {},
   "source": [
    "#### to get the keys from a dictionary"
   ]
  },
  {
   "cell_type": "code",
   "execution_count": 21,
   "metadata": {},
   "outputs": [
    {
     "name": "stdout",
     "output_type": "stream",
     "text": [
      "dict_keys([1, 2, 3, 4])\n"
     ]
    }
   ],
   "source": [
    "print(dict1.keys())"
   ]
  },
  {
   "cell_type": "markdown",
   "metadata": {},
   "source": [
    "#### to get the values from a dictionary"
   ]
  },
  {
   "cell_type": "code",
   "execution_count": 22,
   "metadata": {},
   "outputs": [
    {
     "name": "stdout",
     "output_type": "stream",
     "text": [
      "dict_values(['a', 'b', 'd', 'e'])\n"
     ]
    }
   ],
   "source": [
    "print(dict1.values())"
   ]
  },
  {
   "cell_type": "markdown",
   "metadata": {},
   "source": [
    "#### to get both keys and values from a dictionary"
   ]
  },
  {
   "cell_type": "code",
   "execution_count": 23,
   "metadata": {},
   "outputs": [
    {
     "name": "stdout",
     "output_type": "stream",
     "text": [
      "dict_items([(1, 'a'), (2, 'b'), (3, 'd'), (4, 'e')])\n"
     ]
    }
   ],
   "source": [
    "print(dict1.items())"
   ]
  },
  {
   "cell_type": "markdown",
   "metadata": {},
   "source": [
    "#### to know length of a dictionary"
   ]
  },
  {
   "cell_type": "code",
   "execution_count": 24,
   "metadata": {},
   "outputs": [
    {
     "data": {
      "text/plain": [
       "4"
      ]
     },
     "execution_count": 24,
     "metadata": {},
     "output_type": "execute_result"
    }
   ],
   "source": [
    "len(dict1)"
   ]
  },
  {
   "cell_type": "markdown",
   "metadata": {},
   "source": [
    "### dictionary creation using fromkeys() method"
   ]
  },
  {
   "cell_type": "code",
   "execution_count": 25,
   "metadata": {},
   "outputs": [],
   "source": [
    "list1 = [1, 2, 3, 4]"
   ]
  },
  {
   "cell_type": "code",
   "execution_count": 26,
   "metadata": {},
   "outputs": [
    {
     "name": "stdout",
     "output_type": "stream",
     "text": [
      "{1: None, 2: None, 3: None, 4: None}\n"
     ]
    }
   ],
   "source": [
    "my_dict = dict.fromkeys(list1)  # keys will be from list1, values None as not given any\n",
    "print(my_dict)"
   ]
  },
  {
   "cell_type": "code",
   "execution_count": 27,
   "metadata": {},
   "outputs": [
    {
     "name": "stdout",
     "output_type": "stream",
     "text": [
      "{1: None, 2: None, 3: None, 4: None}\n"
     ]
    }
   ],
   "source": [
    "my_dict2 = {}.fromkeys(list1)  # can use {} instead of dict\n",
    "print(my_dict2)"
   ]
  },
  {
   "cell_type": "code",
   "execution_count": 28,
   "metadata": {},
   "outputs": [
    {
     "name": "stdout",
     "output_type": "stream",
     "text": [
      "{1: 'a', 2: 'a', 3: 'a', 4: 'a'}\n"
     ]
    }
   ],
   "source": [
    "my_dict3 = dict.fromkeys(list1, 'a')\n",
    "print(my_dict3)"
   ]
  },
  {
   "cell_type": "markdown",
   "metadata": {},
   "source": [
    "#### adding keys & values using setdefault() method"
   ]
  },
  {
   "cell_type": "code",
   "execution_count": 29,
   "metadata": {},
   "outputs": [
    {
     "name": "stdout",
     "output_type": "stream",
     "text": [
      "{1: 'a', 2: 'b', 3: 'd', 4: 'e'}\n"
     ]
    }
   ],
   "source": [
    "print(dict1)"
   ]
  },
  {
   "cell_type": "code",
   "execution_count": 30,
   "metadata": {},
   "outputs": [
    {
     "data": {
      "text/plain": [
       "'a'"
      ]
     },
     "execution_count": 30,
     "metadata": {},
     "output_type": "execute_result"
    }
   ],
   "source": [
    "dict1.setdefault(1, 'default_value') #if key exists it return value against the key"
   ]
  },
  {
   "cell_type": "code",
   "execution_count": 31,
   "metadata": {},
   "outputs": [
    {
     "name": "stdout",
     "output_type": "stream",
     "text": [
      "{1: 'a', 2: 'b', 3: 'd', 4: 'e', 5: 'default_value'}\n"
     ]
    }
   ],
   "source": [
    "dict1.setdefault(5, 'default_value') # if value does not exist it will add the key, value pair to the dictionary\n",
    "print(dict1)"
   ]
  },
  {
   "cell_type": "markdown",
   "metadata": {},
   "source": [
    "#### Merge Two dictionaries"
   ]
  },
  {
   "cell_type": "code",
   "execution_count": 84,
   "metadata": {},
   "outputs": [],
   "source": [
    "x = {'a': 1, 'b': 2}\n",
    "y = {'c': 3, 'd': 4}"
   ]
  },
  {
   "cell_type": "markdown",
   "metadata": {},
   "source": [
    "##### Merge Two dictionaries- Method1"
   ]
  },
  {
   "cell_type": "code",
   "execution_count": 85,
   "metadata": {},
   "outputs": [],
   "source": [
    "x.update(y)  #x and y will merge into x"
   ]
  },
  {
   "cell_type": "code",
   "execution_count": 86,
   "metadata": {},
   "outputs": [
    {
     "name": "stdout",
     "output_type": "stream",
     "text": [
      "{'a': 1, 'b': 2, 'c': 3, 'd': 4}\n"
     ]
    }
   ],
   "source": [
    "print(x)"
   ]
  },
  {
   "cell_type": "markdown",
   "metadata": {},
   "source": [
    "##### Merge Two dictionaries- Method2"
   ]
  },
  {
   "cell_type": "code",
   "execution_count": 35,
   "metadata": {},
   "outputs": [
    {
     "data": {
      "text/plain": [
       "{'a': 1, 'b': 2, 'c': 3, 'd': 4}"
      ]
     },
     "execution_count": 35,
     "metadata": {},
     "output_type": "execute_result"
    }
   ],
   "source": [
    "x = {'a': 1, 'b': 2}\n",
    "y = {'c': 3, 'd': 4}\n",
    "z = {**x, **y}\n",
    "z"
   ]
  },
  {
   "cell_type": "markdown",
   "metadata": {},
   "source": [
    "##### Merge Two dictionaries- Method3"
   ]
  },
  {
   "cell_type": "code",
   "execution_count": 36,
   "metadata": {},
   "outputs": [
    {
     "data": {
      "text/plain": [
       "{'a': 1, 'b': 2, 'c': 3, 'd': 4}"
      ]
     },
     "execution_count": 36,
     "metadata": {},
     "output_type": "execute_result"
    }
   ],
   "source": [
    "def merge_dicts(*dict_args):\n",
    "    \"\"\"\n",
    "    Given any number of dicts, shallow copy and merge into a new dict,\n",
    "    precedence goes to key value pairs in latter dicts.\n",
    "    \"\"\"\n",
    "    result = {}\n",
    "    for dictionary in dict_args:\n",
    "        result.update(dictionary)\n",
    "    return result\n",
    "mer = merge_dicts(x,y) \n",
    "mer"
   ]
  },
  {
   "cell_type": "markdown",
   "metadata": {},
   "source": [
    "##### Merge Two dictionaries- Method4"
   ]
  },
  {
   "cell_type": "code",
   "execution_count": 37,
   "metadata": {},
   "outputs": [
    {
     "data": {
      "text/plain": [
       "{'a': 1, 'd': 4, 'c': 3, 'b': 2}"
      ]
     },
     "execution_count": 37,
     "metadata": {},
     "output_type": "execute_result"
    }
   ],
   "source": [
    "c = dict(x.items() | y.items())\n",
    "c"
   ]
  },
  {
   "cell_type": "markdown",
   "metadata": {},
   "source": [
    "##### Merge a dictionary and a list"
   ]
  },
  {
   "cell_type": "code",
   "execution_count": 38,
   "metadata": {},
   "outputs": [],
   "source": [
    "my_dict3 = {1:'a', 2:'b'}\n",
    "list1 = [3, 'c']"
   ]
  },
  {
   "cell_type": "code",
   "execution_count": 39,
   "metadata": {},
   "outputs": [],
   "source": [
    "my_dict3.update([list1]) # only list with length 2 can be merged"
   ]
  },
  {
   "cell_type": "code",
   "execution_count": 40,
   "metadata": {},
   "outputs": [
    {
     "name": "stdout",
     "output_type": "stream",
     "text": [
      "{1: 'a', 2: 'b', 3: 'c'}\n"
     ]
    }
   ],
   "source": [
    "print(my_dict3)"
   ]
  },
  {
   "cell_type": "markdown",
   "metadata": {},
   "source": [
    "##### Update dictionary with keys and values with update method"
   ]
  },
  {
   "cell_type": "code",
   "execution_count": 41,
   "metadata": {},
   "outputs": [
    {
     "name": "stdout",
     "output_type": "stream",
     "text": [
      "{1: 'a', 2: 'b', 3: 'c'}\n"
     ]
    }
   ],
   "source": [
    "print(my_dict3)"
   ]
  },
  {
   "cell_type": "code",
   "execution_count": 42,
   "metadata": {
    "scrolled": true
   },
   "outputs": [
    {
     "data": {
      "text/plain": [
       "{1: 'a', 2: 'b', 3: 'c', 'd': 4}"
      ]
     },
     "execution_count": 42,
     "metadata": {},
     "output_type": "execute_result"
    }
   ],
   "source": [
    "my_dict3.update(d=4)\n",
    "my_dict3"
   ]
  },
  {
   "cell_type": "markdown",
   "metadata": {},
   "source": [
    "### Delete from dictionary"
   ]
  },
  {
   "cell_type": "code",
   "execution_count": 43,
   "metadata": {},
   "outputs": [],
   "source": [
    "dict5 = {1:'a', 2:'b', 3:'c', 4:'d', 5:'e'}"
   ]
  },
  {
   "cell_type": "markdown",
   "metadata": {},
   "source": [
    "##### Delete a key, value pair from a dictionary- method1 (del method)"
   ]
  },
  {
   "cell_type": "code",
   "execution_count": 44,
   "metadata": {},
   "outputs": [
    {
     "name": "stdout",
     "output_type": "stream",
     "text": [
      "{1: 'a', 2: 'b', 3: 'c', 4: 'd'}\n"
     ]
    }
   ],
   "source": [
    "del dict5[5]   # deleted key, value pair against key-5  ##returns nothing\n",
    "print(dict5)"
   ]
  },
  {
   "cell_type": "markdown",
   "metadata": {},
   "source": [
    "##### Delete a key, value pair from a dictionary- method2 (pop method)"
   ]
  },
  {
   "cell_type": "code",
   "execution_count": 45,
   "metadata": {},
   "outputs": [
    {
     "name": "stdout",
     "output_type": "stream",
     "text": [
      "{1: 'a', 2: 'b', 3: 'c', 4: 'd'}\n"
     ]
    }
   ],
   "source": [
    "print(dict5)"
   ]
  },
  {
   "cell_type": "code",
   "execution_count": 46,
   "metadata": {},
   "outputs": [
    {
     "data": {
      "text/plain": [
       "'a'"
      ]
     },
     "execution_count": 46,
     "metadata": {},
     "output_type": "execute_result"
    }
   ],
   "source": [
    "dict5.pop(1)  # deleted key, value pair against key-1  ## returns deleted value"
   ]
  },
  {
   "cell_type": "code",
   "execution_count": 47,
   "metadata": {},
   "outputs": [
    {
     "name": "stdout",
     "output_type": "stream",
     "text": [
      "{2: 'b', 3: 'c', 4: 'd'}\n"
     ]
    }
   ],
   "source": [
    "print(dict5)"
   ]
  },
  {
   "cell_type": "markdown",
   "metadata": {},
   "source": [
    "#### To remove all members of a dictionary (clear method)"
   ]
  },
  {
   "cell_type": "code",
   "execution_count": 48,
   "metadata": {},
   "outputs": [
    {
     "name": "stdout",
     "output_type": "stream",
     "text": [
      "{2: 'b', 3: 'c', 4: 'd'}\n"
     ]
    }
   ],
   "source": [
    "print(dict5)"
   ]
  },
  {
   "cell_type": "code",
   "execution_count": 49,
   "metadata": {},
   "outputs": [],
   "source": [
    "dict5.clear()  # will remove all contents.  will not return anything"
   ]
  },
  {
   "cell_type": "code",
   "execution_count": 50,
   "metadata": {},
   "outputs": [
    {
     "name": "stdout",
     "output_type": "stream",
     "text": [
      "{}\n"
     ]
    }
   ],
   "source": [
    "print(dict5)"
   ]
  },
  {
   "cell_type": "markdown",
   "metadata": {},
   "source": [
    "#### To delete whole dictionary"
   ]
  },
  {
   "cell_type": "code",
   "execution_count": 51,
   "metadata": {},
   "outputs": [],
   "source": [
    "dict6 = {'a' : 'apple', 'b' : 'ball', 'c' : 'cat'}"
   ]
  },
  {
   "cell_type": "code",
   "execution_count": 52,
   "metadata": {},
   "outputs": [
    {
     "name": "stdout",
     "output_type": "stream",
     "text": [
      "{'a': 'apple', 'b': 'ball', 'c': 'cat'}\n"
     ]
    }
   ],
   "source": [
    "print(dict6)"
   ]
  },
  {
   "cell_type": "code",
   "execution_count": 53,
   "metadata": {},
   "outputs": [],
   "source": [
    "del dict6  # deletes entire dictionary.. returns nothing"
   ]
  },
  {
   "cell_type": "code",
   "execution_count": 54,
   "metadata": {},
   "outputs": [
    {
     "ename": "NameError",
     "evalue": "name 'dict6' is not defined",
     "output_type": "error",
     "traceback": [
      "\u001b[1;31m---------------------------------------------------------------------------\u001b[0m",
      "\u001b[1;31mNameError\u001b[0m                                 Traceback (most recent call last)",
      "\u001b[1;32m<ipython-input-54-e632d654db64>\u001b[0m in \u001b[0;36m<module>\u001b[1;34m()\u001b[0m\n\u001b[1;32m----> 1\u001b[1;33m \u001b[0mprint\u001b[0m\u001b[1;33m(\u001b[0m\u001b[0mdict6\u001b[0m\u001b[1;33m)\u001b[0m\u001b[1;33m\u001b[0m\u001b[0m\n\u001b[0m",
      "\u001b[1;31mNameError\u001b[0m: name 'dict6' is not defined"
     ]
    }
   ],
   "source": [
    "print(dict6)"
   ]
  },
  {
   "cell_type": "markdown",
   "metadata": {},
   "source": [
    "### To get the count of members in an iterable (output as dictionary)"
   ]
  },
  {
   "cell_type": "markdown",
   "metadata": {},
   "source": [
    "##### Count of members in a list"
   ]
  },
  {
   "cell_type": "code",
   "execution_count": 87,
   "metadata": {},
   "outputs": [],
   "source": [
    "list1 = [1, 2, 5, 'a', 5, 2, 'b', 1, 'a', 'b', 1]"
   ]
  },
  {
   "cell_type": "code",
   "execution_count": 88,
   "metadata": {},
   "outputs": [
    {
     "name": "stdout",
     "output_type": "stream",
     "text": [
      "Counter({1: 3, 2: 2, 5: 2, 'a': 2, 'b': 2})\n"
     ]
    }
   ],
   "source": [
    "from collections import Counter\n",
    "count = Counter(list1)\n",
    "print(count)"
   ]
  },
  {
   "cell_type": "markdown",
   "metadata": {},
   "source": [
    "##### Count of letters in a string"
   ]
  },
  {
   "cell_type": "code",
   "execution_count": 89,
   "metadata": {},
   "outputs": [],
   "source": [
    "string1 = 'he is a gentle man.'"
   ]
  },
  {
   "cell_type": "code",
   "execution_count": 90,
   "metadata": {},
   "outputs": [
    {
     "name": "stdout",
     "output_type": "stream",
     "text": [
      "Counter({' ': 4, 'e': 3, 'a': 2, 'n': 2, 'h': 1, 'i': 1, 's': 1, 'g': 1, 't': 1, 'l': 1, 'm': 1, '.': 1})\n"
     ]
    }
   ],
   "source": [
    "from collections import Counter\n",
    "count2 = Counter(string1)\n",
    "print(count2)"
   ]
  },
  {
   "cell_type": "markdown",
   "metadata": {},
   "source": [
    "##### Count of words in a string"
   ]
  },
  {
   "cell_type": "code",
   "execution_count": 91,
   "metadata": {},
   "outputs": [],
   "source": [
    "string2 = '''Thank you, Mr. Secretary-General, your excellencies, ladies and gentleman, and distinguished guests. \n",
    "I’m honored to be here today, I stand before you not as an expert but as a concerned citizen, one of the 400,000 people\n",
    "who marched in the streets of New York on Sunday, and the billions of others around the world who want to solve our \n",
    "climate crisis.\n",
    "\n",
    "As an actor I pretend for a living. I play fictitious characters often solving fictitious problems.\n",
    "\n",
    "I believe mankind has looked at climate change in that same way: as if it were a fiction, as if pretending \n",
    "that climate change wasn’t real would somehow make it go away.\n",
    "\n",
    "But I think we know better than that. Every week , we’re seeing new and undeniable climate events, evidence \n",
    "that accelerated climate change is here right now. Droughts are intensifying, our oceans are acidifying, with methane plumes rising up from the ocean floor. We are seeing extreme weather events, and the West Antarctic and Greenland ice-sheets melting at unprecedented rates, decades ahead of scientific projections.\n",
    "\n",
    "None of this is rhetoric, and none of it is hysteria. It is fact. The scientific community knows it, industry\n",
    "knows it, governments know it, even the United States military knows it. The Chief of the U.S. Navy’s\n",
    "Pacific Command, Admiral Samuel Locklear, recently said that climate change is our single greatest security threat.\n",
    "\n",
    "My Friends, this body – perhaps more than any other gathering in human history – now faces this difficult, but achievable task. You can make history… or be vilified by it.\n",
    "\n",
    "To be clear, this is not about telling people to change their light bulbs or buy a hybrid car. \n",
    "This disaster has grown BEYOND the choices that individuals make. This is now about our industries,\n",
    "and governments around the world taking decisive, large-scale action.\n",
    "\n",
    "Now must be our moment for action.\n",
    "\n",
    "We need to put a pricetag on carbon emissions, and eliminate government subsidies for oil, coal and gas companies.\n",
    "We need to end the free ride that industrial polluters have been given in the name of a free-market economy, they do\n",
    "not deserve our tax dollars, they deserve our scrutiny. For the economy itself will die if our eco-systems collapse.\n",
    "\n",
    "The good news is that renewable energy is not only achievable but good economic policy.\n",
    "\n",
    "This is not a partisan debate; it is a human one. Clean air and a livable climate are inalienable human rights. \n",
    "And solving this crisis is not a question of politics, it is a question of our own survival.\n",
    "\n",
    "This is the most urgent of times, and the most urgent of messages.\n",
    "\n",
    "Honored delegates, leaders of the world, I pretend for a living. But you do not.\n",
    "\n",
    "The people made their voices heard on Sunday around the world and the momentum will not stop. But now it is YOUR turn,\n",
    "the time to answer humankind’s greatest challenge is now.\n",
    "\n",
    "We beg of you to face it with courage. And honesty. Thank you.'''"
   ]
  },
  {
   "cell_type": "code",
   "execution_count": 92,
   "metadata": {},
   "outputs": [],
   "source": [
    "new_string= ''\n",
    "punct = ['.', ',', '!', '-', '_', \"'\", '\"', ';', '…', '–', '’']"
   ]
  },
  {
   "cell_type": "code",
   "execution_count": 93,
   "metadata": {},
   "outputs": [
    {
     "name": "stdout",
     "output_type": "stream",
     "text": [
      "Thank you Mr SecretaryGeneral your excellencies ladies and gentleman and distinguished guests \n",
      "Im honored to be here today I stand before you not as an expert but as a concerned citizen one of the 400000 people\n",
      "who marched in the streets of New York on Sunday and the billions of others around the world who want to solve our \n",
      "climate crisis\n",
      "\n",
      "As an actor I pretend for a living I play fictitious characters often solving fictitious problems\n",
      "\n",
      "I believe mankind has looked at climate change in that same way: as if it were a fiction as if pretending \n",
      "that climate change wasnt real would somehow make it go away\n",
      "\n",
      "But I think we know better than that Every week  were seeing new and undeniable climate events evidence \n",
      "that accelerated climate change is here right now Droughts are intensifying our oceans are acidifying with methane plumes rising up from the ocean floor We are seeing extreme weather events and the West Antarctic and Greenland icesheets melting at unprecedented rates decades ahead of scientific projections\n",
      "\n",
      "None of this is rhetoric and none of it is hysteria It is fact The scientific community knows it industry\n",
      "knows it governments know it even the United States military knows it The Chief of the US Navys\n",
      "Pacific Command Admiral Samuel Locklear recently said that climate change is our single greatest security threat\n",
      "\n",
      "My Friends this body  perhaps more than any other gathering in human history  now faces this difficult but achievable task You can make history or be vilified by it\n",
      "\n",
      "To be clear this is not about telling people to change their light bulbs or buy a hybrid car \n",
      "This disaster has grown BEYOND the choices that individuals make This is now about our industries\n",
      "and governments around the world taking decisive largescale action\n",
      "\n",
      "Now must be our moment for action\n",
      "\n",
      "We need to put a pricetag on carbon emissions and eliminate government subsidies for oil coal and gas companies\n",
      "We need to end the free ride that industrial polluters have been given in the name of a freemarket economy they do\n",
      "not deserve our tax dollars they deserve our scrutiny For the economy itself will die if our ecosystems collapse\n",
      "\n",
      "The good news is that renewable energy is not only achievable but good economic policy\n",
      "\n",
      "This is not a partisan debate it is a human one Clean air and a livable climate are inalienable human rights \n",
      "And solving this crisis is not a question of politics it is a question of our own survival\n",
      "\n",
      "This is the most urgent of times and the most urgent of messages\n",
      "\n",
      "Honored delegates leaders of the world I pretend for a living But you do not\n",
      "\n",
      "The people made their voices heard on Sunday around the world and the momentum will not stop But now it is YOUR turn\n",
      "the time to answer humankinds greatest challenge is now\n",
      "\n",
      "We beg of you to face it with courage And honesty Thank you\n"
     ]
    }
   ],
   "source": [
    "for w in string2:\n",
    "    if w not in punct:\n",
    "        new_string += w\n",
    "print(new_string)"
   ]
  },
  {
   "cell_type": "code",
   "execution_count": 94,
   "metadata": {},
   "outputs": [],
   "source": [
    "list2 = new_string.split()"
   ]
  },
  {
   "cell_type": "code",
   "execution_count": 95,
   "metadata": {},
   "outputs": [],
   "source": [
    "from collections import Counter\n",
    "count = Counter(list2)"
   ]
  },
  {
   "cell_type": "code",
   "execution_count": 96,
   "metadata": {},
   "outputs": [
    {
     "data": {
      "text/plain": [
       "['the']"
      ]
     },
     "execution_count": 96,
     "metadata": {},
     "output_type": "execute_result"
    }
   ],
   "source": [
    "most_freq_word_new = [key for key,valu in count.items() if valu == max(count.values())]\n",
    "most_freq_word_new"
   ]
  },
  {
   "cell_type": "code",
   "execution_count": 97,
   "metadata": {},
   "outputs": [
    {
     "data": {
      "text/plain": [
       "('the', 19)"
      ]
     },
     "execution_count": 97,
     "metadata": {},
     "output_type": "execute_result"
    }
   ],
   "source": [
    "sorted_x = sorted(count.items(), key=lambda kv: kv[1],reverse=True)[0]\n",
    "sorted_x"
   ]
  },
  {
   "cell_type": "code",
   "execution_count": 98,
   "metadata": {},
   "outputs": [],
   "source": [
    "most = count.most_common(5)"
   ]
  },
  {
   "cell_type": "code",
   "execution_count": 99,
   "metadata": {},
   "outputs": [
    {
     "data": {
      "text/plain": [
       "[('the', 19), ('is', 16), ('of', 14), ('and', 13), ('a', 12)]"
      ]
     },
     "execution_count": 99,
     "metadata": {},
     "output_type": "execute_result"
    }
   ],
   "source": [
    "most"
   ]
  },
  {
   "cell_type": "code",
   "execution_count": 100,
   "metadata": {},
   "outputs": [
    {
     "data": {
      "text/plain": [
       "'the'"
      ]
     },
     "execution_count": 100,
     "metadata": {},
     "output_type": "execute_result"
    }
   ],
   "source": [
    "most[0][0]"
   ]
  },
  {
   "cell_type": "code",
   "execution_count": 101,
   "metadata": {},
   "outputs": [
    {
     "data": {
      "text/plain": [
       "{0: 'Thank',\n",
       " 1: 'you',\n",
       " 2: 'Mr',\n",
       " 3: 'SecretaryGeneral',\n",
       " 4: 'your',\n",
       " 5: 'excellencies',\n",
       " 6: 'ladies',\n",
       " 7: 'and',\n",
       " 8: 'gentleman',\n",
       " 9: 'and',\n",
       " 10: 'distinguished',\n",
       " 11: 'guests',\n",
       " 12: 'Im',\n",
       " 13: 'honored',\n",
       " 14: 'to',\n",
       " 15: 'be',\n",
       " 16: 'here',\n",
       " 17: 'today',\n",
       " 18: 'I',\n",
       " 19: 'stand',\n",
       " 20: 'before',\n",
       " 21: 'you',\n",
       " 22: 'not',\n",
       " 23: 'as',\n",
       " 24: 'an',\n",
       " 25: 'expert',\n",
       " 26: 'but',\n",
       " 27: 'as',\n",
       " 28: 'a',\n",
       " 29: 'concerned',\n",
       " 30: 'citizen',\n",
       " 31: 'one',\n",
       " 32: 'of',\n",
       " 33: 'the',\n",
       " 34: '400000',\n",
       " 35: 'people',\n",
       " 36: 'who',\n",
       " 37: 'marched',\n",
       " 38: 'in',\n",
       " 39: 'the',\n",
       " 40: 'streets',\n",
       " 41: 'of',\n",
       " 42: 'New',\n",
       " 43: 'York',\n",
       " 44: 'on',\n",
       " 45: 'Sunday',\n",
       " 46: 'and',\n",
       " 47: 'the',\n",
       " 48: 'billions',\n",
       " 49: 'of',\n",
       " 50: 'others',\n",
       " 51: 'around',\n",
       " 52: 'the',\n",
       " 53: 'world',\n",
       " 54: 'who',\n",
       " 55: 'want',\n",
       " 56: 'to',\n",
       " 57: 'solve',\n",
       " 58: 'our',\n",
       " 59: 'climate',\n",
       " 60: 'crisis',\n",
       " 61: 'As',\n",
       " 62: 'an',\n",
       " 63: 'actor',\n",
       " 64: 'I',\n",
       " 65: 'pretend',\n",
       " 66: 'for',\n",
       " 67: 'a',\n",
       " 68: 'living',\n",
       " 69: 'I',\n",
       " 70: 'play',\n",
       " 71: 'fictitious',\n",
       " 72: 'characters',\n",
       " 73: 'often',\n",
       " 74: 'solving',\n",
       " 75: 'fictitious',\n",
       " 76: 'problems',\n",
       " 77: 'I',\n",
       " 78: 'believe',\n",
       " 79: 'mankind',\n",
       " 80: 'has',\n",
       " 81: 'looked',\n",
       " 82: 'at',\n",
       " 83: 'climate',\n",
       " 84: 'change',\n",
       " 85: 'in',\n",
       " 86: 'that',\n",
       " 87: 'same',\n",
       " 88: 'way:',\n",
       " 89: 'as',\n",
       " 90: 'if',\n",
       " 91: 'it',\n",
       " 92: 'were',\n",
       " 93: 'a',\n",
       " 94: 'fiction',\n",
       " 95: 'as',\n",
       " 96: 'if',\n",
       " 97: 'pretending',\n",
       " 98: 'that',\n",
       " 99: 'climate',\n",
       " 100: 'change',\n",
       " 101: 'wasnt',\n",
       " 102: 'real',\n",
       " 103: 'would',\n",
       " 104: 'somehow',\n",
       " 105: 'make',\n",
       " 106: 'it',\n",
       " 107: 'go',\n",
       " 108: 'away',\n",
       " 109: 'But',\n",
       " 110: 'I',\n",
       " 111: 'think',\n",
       " 112: 'we',\n",
       " 113: 'know',\n",
       " 114: 'better',\n",
       " 115: 'than',\n",
       " 116: 'that',\n",
       " 117: 'Every',\n",
       " 118: 'week',\n",
       " 119: 'were',\n",
       " 120: 'seeing',\n",
       " 121: 'new',\n",
       " 122: 'and',\n",
       " 123: 'undeniable',\n",
       " 124: 'climate',\n",
       " 125: 'events',\n",
       " 126: 'evidence',\n",
       " 127: 'that',\n",
       " 128: 'accelerated',\n",
       " 129: 'climate',\n",
       " 130: 'change',\n",
       " 131: 'is',\n",
       " 132: 'here',\n",
       " 133: 'right',\n",
       " 134: 'now',\n",
       " 135: 'Droughts',\n",
       " 136: 'are',\n",
       " 137: 'intensifying',\n",
       " 138: 'our',\n",
       " 139: 'oceans',\n",
       " 140: 'are',\n",
       " 141: 'acidifying',\n",
       " 142: 'with',\n",
       " 143: 'methane',\n",
       " 144: 'plumes',\n",
       " 145: 'rising',\n",
       " 146: 'up',\n",
       " 147: 'from',\n",
       " 148: 'the',\n",
       " 149: 'ocean',\n",
       " 150: 'floor',\n",
       " 151: 'We',\n",
       " 152: 'are',\n",
       " 153: 'seeing',\n",
       " 154: 'extreme',\n",
       " 155: 'weather',\n",
       " 156: 'events',\n",
       " 157: 'and',\n",
       " 158: 'the',\n",
       " 159: 'West',\n",
       " 160: 'Antarctic',\n",
       " 161: 'and',\n",
       " 162: 'Greenland',\n",
       " 163: 'icesheets',\n",
       " 164: 'melting',\n",
       " 165: 'at',\n",
       " 166: 'unprecedented',\n",
       " 167: 'rates',\n",
       " 168: 'decades',\n",
       " 169: 'ahead',\n",
       " 170: 'of',\n",
       " 171: 'scientific',\n",
       " 172: 'projections',\n",
       " 173: 'None',\n",
       " 174: 'of',\n",
       " 175: 'this',\n",
       " 176: 'is',\n",
       " 177: 'rhetoric',\n",
       " 178: 'and',\n",
       " 179: 'none',\n",
       " 180: 'of',\n",
       " 181: 'it',\n",
       " 182: 'is',\n",
       " 183: 'hysteria',\n",
       " 184: 'It',\n",
       " 185: 'is',\n",
       " 186: 'fact',\n",
       " 187: 'The',\n",
       " 188: 'scientific',\n",
       " 189: 'community',\n",
       " 190: 'knows',\n",
       " 191: 'it',\n",
       " 192: 'industry',\n",
       " 193: 'knows',\n",
       " 194: 'it',\n",
       " 195: 'governments',\n",
       " 196: 'know',\n",
       " 197: 'it',\n",
       " 198: 'even',\n",
       " 199: 'the',\n",
       " 200: 'United',\n",
       " 201: 'States',\n",
       " 202: 'military',\n",
       " 203: 'knows',\n",
       " 204: 'it',\n",
       " 205: 'The',\n",
       " 206: 'Chief',\n",
       " 207: 'of',\n",
       " 208: 'the',\n",
       " 209: 'US',\n",
       " 210: 'Navys',\n",
       " 211: 'Pacific',\n",
       " 212: 'Command',\n",
       " 213: 'Admiral',\n",
       " 214: 'Samuel',\n",
       " 215: 'Locklear',\n",
       " 216: 'recently',\n",
       " 217: 'said',\n",
       " 218: 'that',\n",
       " 219: 'climate',\n",
       " 220: 'change',\n",
       " 221: 'is',\n",
       " 222: 'our',\n",
       " 223: 'single',\n",
       " 224: 'greatest',\n",
       " 225: 'security',\n",
       " 226: 'threat',\n",
       " 227: 'My',\n",
       " 228: 'Friends',\n",
       " 229: 'this',\n",
       " 230: 'body',\n",
       " 231: 'perhaps',\n",
       " 232: 'more',\n",
       " 233: 'than',\n",
       " 234: 'any',\n",
       " 235: 'other',\n",
       " 236: 'gathering',\n",
       " 237: 'in',\n",
       " 238: 'human',\n",
       " 239: 'history',\n",
       " 240: 'now',\n",
       " 241: 'faces',\n",
       " 242: 'this',\n",
       " 243: 'difficult',\n",
       " 244: 'but',\n",
       " 245: 'achievable',\n",
       " 246: 'task',\n",
       " 247: 'You',\n",
       " 248: 'can',\n",
       " 249: 'make',\n",
       " 250: 'history',\n",
       " 251: 'or',\n",
       " 252: 'be',\n",
       " 253: 'vilified',\n",
       " 254: 'by',\n",
       " 255: 'it',\n",
       " 256: 'To',\n",
       " 257: 'be',\n",
       " 258: 'clear',\n",
       " 259: 'this',\n",
       " 260: 'is',\n",
       " 261: 'not',\n",
       " 262: 'about',\n",
       " 263: 'telling',\n",
       " 264: 'people',\n",
       " 265: 'to',\n",
       " 266: 'change',\n",
       " 267: 'their',\n",
       " 268: 'light',\n",
       " 269: 'bulbs',\n",
       " 270: 'or',\n",
       " 271: 'buy',\n",
       " 272: 'a',\n",
       " 273: 'hybrid',\n",
       " 274: 'car',\n",
       " 275: 'This',\n",
       " 276: 'disaster',\n",
       " 277: 'has',\n",
       " 278: 'grown',\n",
       " 279: 'BEYOND',\n",
       " 280: 'the',\n",
       " 281: 'choices',\n",
       " 282: 'that',\n",
       " 283: 'individuals',\n",
       " 284: 'make',\n",
       " 285: 'This',\n",
       " 286: 'is',\n",
       " 287: 'now',\n",
       " 288: 'about',\n",
       " 289: 'our',\n",
       " 290: 'industries',\n",
       " 291: 'and',\n",
       " 292: 'governments',\n",
       " 293: 'around',\n",
       " 294: 'the',\n",
       " 295: 'world',\n",
       " 296: 'taking',\n",
       " 297: 'decisive',\n",
       " 298: 'largescale',\n",
       " 299: 'action',\n",
       " 300: 'Now',\n",
       " 301: 'must',\n",
       " 302: 'be',\n",
       " 303: 'our',\n",
       " 304: 'moment',\n",
       " 305: 'for',\n",
       " 306: 'action',\n",
       " 307: 'We',\n",
       " 308: 'need',\n",
       " 309: 'to',\n",
       " 310: 'put',\n",
       " 311: 'a',\n",
       " 312: 'pricetag',\n",
       " 313: 'on',\n",
       " 314: 'carbon',\n",
       " 315: 'emissions',\n",
       " 316: 'and',\n",
       " 317: 'eliminate',\n",
       " 318: 'government',\n",
       " 319: 'subsidies',\n",
       " 320: 'for',\n",
       " 321: 'oil',\n",
       " 322: 'coal',\n",
       " 323: 'and',\n",
       " 324: 'gas',\n",
       " 325: 'companies',\n",
       " 326: 'We',\n",
       " 327: 'need',\n",
       " 328: 'to',\n",
       " 329: 'end',\n",
       " 330: 'the',\n",
       " 331: 'free',\n",
       " 332: 'ride',\n",
       " 333: 'that',\n",
       " 334: 'industrial',\n",
       " 335: 'polluters',\n",
       " 336: 'have',\n",
       " 337: 'been',\n",
       " 338: 'given',\n",
       " 339: 'in',\n",
       " 340: 'the',\n",
       " 341: 'name',\n",
       " 342: 'of',\n",
       " 343: 'a',\n",
       " 344: 'freemarket',\n",
       " 345: 'economy',\n",
       " 346: 'they',\n",
       " 347: 'do',\n",
       " 348: 'not',\n",
       " 349: 'deserve',\n",
       " 350: 'our',\n",
       " 351: 'tax',\n",
       " 352: 'dollars',\n",
       " 353: 'they',\n",
       " 354: 'deserve',\n",
       " 355: 'our',\n",
       " 356: 'scrutiny',\n",
       " 357: 'For',\n",
       " 358: 'the',\n",
       " 359: 'economy',\n",
       " 360: 'itself',\n",
       " 361: 'will',\n",
       " 362: 'die',\n",
       " 363: 'if',\n",
       " 364: 'our',\n",
       " 365: 'ecosystems',\n",
       " 366: 'collapse',\n",
       " 367: 'The',\n",
       " 368: 'good',\n",
       " 369: 'news',\n",
       " 370: 'is',\n",
       " 371: 'that',\n",
       " 372: 'renewable',\n",
       " 373: 'energy',\n",
       " 374: 'is',\n",
       " 375: 'not',\n",
       " 376: 'only',\n",
       " 377: 'achievable',\n",
       " 378: 'but',\n",
       " 379: 'good',\n",
       " 380: 'economic',\n",
       " 381: 'policy',\n",
       " 382: 'This',\n",
       " 383: 'is',\n",
       " 384: 'not',\n",
       " 385: 'a',\n",
       " 386: 'partisan',\n",
       " 387: 'debate',\n",
       " 388: 'it',\n",
       " 389: 'is',\n",
       " 390: 'a',\n",
       " 391: 'human',\n",
       " 392: 'one',\n",
       " 393: 'Clean',\n",
       " 394: 'air',\n",
       " 395: 'and',\n",
       " 396: 'a',\n",
       " 397: 'livable',\n",
       " 398: 'climate',\n",
       " 399: 'are',\n",
       " 400: 'inalienable',\n",
       " 401: 'human',\n",
       " 402: 'rights',\n",
       " 403: 'And',\n",
       " 404: 'solving',\n",
       " 405: 'this',\n",
       " 406: 'crisis',\n",
       " 407: 'is',\n",
       " 408: 'not',\n",
       " 409: 'a',\n",
       " 410: 'question',\n",
       " 411: 'of',\n",
       " 412: 'politics',\n",
       " 413: 'it',\n",
       " 414: 'is',\n",
       " 415: 'a',\n",
       " 416: 'question',\n",
       " 417: 'of',\n",
       " 418: 'our',\n",
       " 419: 'own',\n",
       " 420: 'survival',\n",
       " 421: 'This',\n",
       " 422: 'is',\n",
       " 423: 'the',\n",
       " 424: 'most',\n",
       " 425: 'urgent',\n",
       " 426: 'of',\n",
       " 427: 'times',\n",
       " 428: 'and',\n",
       " 429: 'the',\n",
       " 430: 'most',\n",
       " 431: 'urgent',\n",
       " 432: 'of',\n",
       " 433: 'messages',\n",
       " 434: 'Honored',\n",
       " 435: 'delegates',\n",
       " 436: 'leaders',\n",
       " 437: 'of',\n",
       " 438: 'the',\n",
       " 439: 'world',\n",
       " 440: 'I',\n",
       " 441: 'pretend',\n",
       " 442: 'for',\n",
       " 443: 'a',\n",
       " 444: 'living',\n",
       " 445: 'But',\n",
       " 446: 'you',\n",
       " 447: 'do',\n",
       " 448: 'not',\n",
       " 449: 'The',\n",
       " 450: 'people',\n",
       " 451: 'made',\n",
       " 452: 'their',\n",
       " 453: 'voices',\n",
       " 454: 'heard',\n",
       " 455: 'on',\n",
       " 456: 'Sunday',\n",
       " 457: 'around',\n",
       " 458: 'the',\n",
       " 459: 'world',\n",
       " 460: 'and',\n",
       " 461: 'the',\n",
       " 462: 'momentum',\n",
       " 463: 'will',\n",
       " 464: 'not',\n",
       " 465: 'stop',\n",
       " 466: 'But',\n",
       " 467: 'now',\n",
       " 468: 'it',\n",
       " 469: 'is',\n",
       " 470: 'YOUR',\n",
       " 471: 'turn',\n",
       " 472: 'the',\n",
       " 473: 'time',\n",
       " 474: 'to',\n",
       " 475: 'answer',\n",
       " 476: 'humankinds',\n",
       " 477: 'greatest',\n",
       " 478: 'challenge',\n",
       " 479: 'is',\n",
       " 480: 'now',\n",
       " 481: 'We',\n",
       " 482: 'beg',\n",
       " 483: 'of',\n",
       " 484: 'you',\n",
       " 485: 'to',\n",
       " 486: 'face',\n",
       " 487: 'it',\n",
       " 488: 'with',\n",
       " 489: 'courage',\n",
       " 490: 'And',\n",
       " 491: 'honesty',\n",
       " 492: 'Thank',\n",
       " 493: 'you'}"
      ]
     },
     "execution_count": 101,
     "metadata": {},
     "output_type": "execute_result"
    }
   ],
   "source": [
    "d2 = {}\n",
    "for i,j in enumerate(list2):\n",
    "    d2[i] = j\n",
    "d2"
   ]
  },
  {
   "cell_type": "code",
   "execution_count": 102,
   "metadata": {},
   "outputs": [
    {
     "name": "stdout",
     "output_type": "stream",
     "text": [
      "prefix of most common: of , suffix of most common: 400000\n",
      "prefix of most common: in , suffix of most common: streets\n",
      "prefix of most common: and , suffix of most common: billions\n",
      "prefix of most common: around , suffix of most common: world\n",
      "prefix of most common: from , suffix of most common: ocean\n",
      "prefix of most common: and , suffix of most common: West\n",
      "prefix of most common: even , suffix of most common: United\n",
      "prefix of most common: of , suffix of most common: US\n",
      "prefix of most common: BEYOND , suffix of most common: choices\n",
      "prefix of most common: around , suffix of most common: world\n",
      "prefix of most common: end , suffix of most common: free\n",
      "prefix of most common: in , suffix of most common: name\n",
      "prefix of most common: For , suffix of most common: economy\n",
      "prefix of most common: is , suffix of most common: most\n",
      "prefix of most common: and , suffix of most common: most\n",
      "prefix of most common: of , suffix of most common: world\n",
      "prefix of most common: around , suffix of most common: world\n",
      "prefix of most common: and , suffix of most common: momentum\n",
      "prefix of most common: turn , suffix of most common: time\n"
     ]
    }
   ],
   "source": [
    "for i,j in d2.items():\n",
    "    if d2[i] == most[0][0]:\n",
    "        print('prefix of most common: {} , suffix of most common: {}'.format(d2[i-1], d2[i+1]))"
   ]
  },
  {
   "cell_type": "code",
   "execution_count": 105,
   "metadata": {},
   "outputs": [],
   "source": [
    "from collections import defaultdict\n",
    "mydict = defaultdict(list)"
   ]
  },
  {
   "cell_type": "code",
   "execution_count": 107,
   "metadata": {},
   "outputs": [
    {
     "name": "stdout",
     "output_type": "stream",
     "text": [
      "defaultdict(<class 'list'>, {'prefix': ['of', 'in', 'and', 'around', 'from', 'and', 'even', 'of', 'BEYOND', 'around', 'end', 'in', 'For', 'is', 'and', 'of', 'around', 'and', 'turn', 'of', 'in', 'and', 'around', 'from', 'and', 'even', 'of', 'BEYOND', 'around', 'end', 'in', 'For', 'is', 'and', 'of', 'around', 'and', 'turn'], 'suffix': ['400000', 'streets', 'billions', 'world', 'ocean', 'West', 'United', 'US', 'choices', 'world', 'free', 'name', 'economy', 'most', 'most', 'world', 'world', 'momentum', 'time']})\n"
     ]
    }
   ],
   "source": [
    "for i,j in d2.items():\n",
    "    if d2[i] == most[0][0]:\n",
    "        mydict['prefix'].append(d2[i-1])\n",
    "        mydict['suffix'].append(d2[i+1])\n",
    "print(mydict)"
   ]
  },
  {
   "cell_type": "code",
   "execution_count": 108,
   "metadata": {},
   "outputs": [
    {
     "name": "stdout",
     "output_type": "stream",
     "text": [
      "{'prefix': ['of', 'in', 'and', 'around', 'from', 'and', 'even', 'of', 'BEYOND', 'around', 'end', 'in', 'For', 'is', 'and', 'of', 'around', 'and', 'turn', 'of', 'in', 'and', 'around', 'from', 'and', 'even', 'of', 'BEYOND', 'around', 'end', 'in', 'For', 'is', 'and', 'of', 'around', 'and', 'turn'], 'suffix': ['400000', 'streets', 'billions', 'world', 'ocean', 'West', 'United', 'US', 'choices', 'world', 'free', 'name', 'economy', 'most', 'most', 'world', 'world', 'momentum', 'time']}\n"
     ]
    }
   ],
   "source": [
    "suffix_prefix = dict(mydict)\n",
    "print(suffix_prefix)"
   ]
  },
  {
   "cell_type": "markdown",
   "metadata": {},
   "source": [
    "#### To find the keys having max and min values in a dictionary"
   ]
  },
  {
   "cell_type": "code",
   "execution_count": 69,
   "metadata": {},
   "outputs": [
    {
     "name": "stdout",
     "output_type": "stream",
     "text": [
      "{'a': 1, 'b': 2, 'c': 3, 'd': 4, 'e': 5, 'f': 6, 'g': 7, 'h': 8, 'i': 9, 'j': 10}\n"
     ]
    }
   ],
   "source": [
    "list1 = [1,2,3,4,5,6,7,8,9,10]\n",
    "list2 = ['a', 'b', 'c', 'd', 'e', 'f', 'g', 'h', 'i', 'j']\n",
    "dict6 = dict(zip(list2,list1))\n",
    "print(dict6)\n",
    "#need to find the keys holding maximum and minimum values of dict6"
   ]
  },
  {
   "cell_type": "markdown",
   "metadata": {},
   "source": [
    "###### Method 1 to find keys with max and min values"
   ]
  },
  {
   "cell_type": "code",
   "execution_count": 4,
   "metadata": {},
   "outputs": [
    {
     "name": "stdout",
     "output_type": "stream",
     "text": [
      "key with min of values: a\n",
      "key with max of values: j\n"
     ]
    }
   ],
   "source": [
    "for i,j in dict6.items():\n",
    "    if j == max(dict6.values()):\n",
    "        print('key with max of values: {}'.format(i))\n",
    "    if j == min(dict6.values()):\n",
    "        print('key with min of values: {}'.format(i))"
   ]
  },
  {
   "cell_type": "markdown",
   "metadata": {},
   "source": [
    "###### Method 2 to find keys with max and min values"
   ]
  },
  {
   "cell_type": "code",
   "execution_count": 6,
   "metadata": {},
   "outputs": [
    {
     "name": "stdout",
     "output_type": "stream",
     "text": [
      "key with max value: j\n",
      "key with min value: a\n"
     ]
    }
   ],
   "source": [
    "print('key with max value: {}'.format(max(dict6, key=dict6.get)))\n",
    "print('key with min value: {}'.format(min(dict6, key=dict6.get)))"
   ]
  }
 ],
 "metadata": {
  "kernelspec": {
   "display_name": "Python 3",
   "language": "python",
   "name": "python3"
  },
  "language_info": {
   "codemirror_mode": {
    "name": "ipython",
    "version": 3
   },
   "file_extension": ".py",
   "mimetype": "text/x-python",
   "name": "python",
   "nbconvert_exporter": "python",
   "pygments_lexer": "ipython3",
   "version": "3.6.5"
  }
 },
 "nbformat": 4,
 "nbformat_minor": 2
}
