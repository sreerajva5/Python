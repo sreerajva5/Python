{
 "cells": [
  {
   "cell_type": "code",
   "execution_count": 1,
   "metadata": {},
   "outputs": [],
   "source": [
    "#problem statements\n",
    "# 1. date and time from a log file\n",
    "# 2. get valid e-mail ids from a list of e-mail ids\n",
    "# 3. get valid phone numbers from a list phone numbers with country\n",
    "# 4. replace a value with another value in a bunch of data\n",
    "\n",
    "#note:  regex is compactable with other languages also (like c, java, etc)"
   ]
  },
  {
   "cell_type": "code",
   "execution_count": 79,
   "metadata": {},
   "outputs": [],
   "source": [
    "import re"
   ]
  },
  {
   "cell_type": "code",
   "execution_count": 7,
   "metadata": {},
   "outputs": [],
   "source": [
    "Nameage = '''\n",
    "Janice is 22 and Theon is 33 \n",
    "Gabriel is 44 and Joey is 31\n",
    "'''"
   ]
  },
  {
   "cell_type": "code",
   "execution_count": 8,
   "metadata": {},
   "outputs": [],
   "source": [
    "ages = re.findall(r'\\d{1,3}', Nameage)\n",
    "names = re.findall(r'[A-Z][a-z]*', Nameage)"
   ]
  },
  {
   "cell_type": "code",
   "execution_count": 9,
   "metadata": {},
   "outputs": [],
   "source": [
    "agedict = {}\n",
    "x = 0"
   ]
  },
  {
   "cell_type": "code",
   "execution_count": 10,
   "metadata": {},
   "outputs": [
    {
     "name": "stdout",
     "output_type": "stream",
     "text": [
      "{'Janice': '22', 'Theon': '33', 'Gabriel': '44', 'Joey': '31'}\n"
     ]
    }
   ],
   "source": [
    "for name in names:\n",
    "    agedict[name] = ages[x]\n",
    "    x = x+1\n",
    "    \n",
    "print(agedict)"
   ]
  },
  {
   "cell_type": "markdown",
   "metadata": {},
   "source": [
    "# Find a word in a centance"
   ]
  },
  {
   "cell_type": "code",
   "execution_count": 11,
   "metadata": {},
   "outputs": [],
   "source": [
    "string1 = \"we need to inform him with the latest information\"\n",
    "# find 'inform'"
   ]
  },
  {
   "cell_type": "code",
   "execution_count": 12,
   "metadata": {},
   "outputs": [
    {
     "name": "stdout",
     "output_type": "stream",
     "text": [
      "There is inform in bthe mentioned string\n"
     ]
    }
   ],
   "source": [
    "if re.search('inform', string1):\n",
    "    print(\"There is inform in bthe mentioned string\")\n",
    "else:\n",
    "    print(\"No word inform in the provided string\")"
   ]
  },
  {
   "cell_type": "code",
   "execution_count": 14,
   "metadata": {},
   "outputs": [
    {
     "name": "stdout",
     "output_type": "stream",
     "text": [
      "inform\n",
      "inform\n"
     ]
    }
   ],
   "source": [
    "# to find all matching words\n",
    "allinform = re.findall(\"inform\", string1)\n",
    "\n",
    "for i in allinform:\n",
    "    print(i)"
   ]
  },
  {
   "cell_type": "markdown",
   "metadata": {},
   "source": [
    "# To generate an iterator"
   ]
  },
  {
   "cell_type": "code",
   "execution_count": 15,
   "metadata": {},
   "outputs": [],
   "source": [
    "string2 = \"we need to inform him with the latest information\""
   ]
  },
  {
   "cell_type": "code",
   "execution_count": 16,
   "metadata": {},
   "outputs": [
    {
     "name": "stdout",
     "output_type": "stream",
     "text": [
      "(11, 17)\n",
      "(38, 44)\n"
     ]
    }
   ],
   "source": [
    "for i in re.finditer(\"inform\", string2):\n",
    "    tuple1 = i.span()\n",
    "    print(tuple1)\n",
    "#print the starting and ending positions of the word finding"
   ]
  },
  {
   "cell_type": "markdown",
   "metadata": {},
   "source": [
    "# To match one of several letters"
   ]
  },
  {
   "cell_type": "code",
   "execution_count": 20,
   "metadata": {},
   "outputs": [],
   "source": [
    "string3 = 'Sat, hat, mat, pat, word, love'\n",
    "#need to match anything ends with 'at'"
   ]
  },
  {
   "cell_type": "code",
   "execution_count": 21,
   "metadata": {},
   "outputs": [
    {
     "name": "stdout",
     "output_type": "stream",
     "text": [
      "Sat\n",
      "hat\n",
      "mat\n",
      "pat\n"
     ]
    }
   ],
   "source": [
    "allstring = re.findall('[Shmp]at', string3)\n",
    "\n",
    "for i in allstring:\n",
    "    print(i)\n",
    "\n",
    "#regs searches are case sensitive"
   ]
  },
  {
   "cell_type": "code",
   "execution_count": 22,
   "metadata": {},
   "outputs": [
    {
     "name": "stdout",
     "output_type": "stream",
     "text": [
      "Sat\n",
      "hat\n",
      "mat\n",
      "pat\n"
     ]
    }
   ],
   "source": [
    "#method2\n",
    "allstring2 = re.findall('[A-Za-z]at', string3)\n",
    "\n",
    "for i in allstring2:\n",
    "    print(i)"
   ]
  },
  {
   "cell_type": "markdown",
   "metadata": {},
   "source": [
    "# Match series of range of characters"
   ]
  },
  {
   "cell_type": "code",
   "execution_count": 32,
   "metadata": {},
   "outputs": [],
   "source": [
    "#need to find all letters which starts with letters between h to m and ends with 'at'\n",
    "string3 = 'Sat, hat, mat, pat, word, love, Hat'"
   ]
  },
  {
   "cell_type": "code",
   "execution_count": 40,
   "metadata": {},
   "outputs": [
    {
     "name": "stdout",
     "output_type": "stream",
     "text": [
      "hat\n",
      "mat\n",
      "Hat\n"
     ]
    }
   ],
   "source": [
    "sel_string = re.findall('[H-Mh-m]at', string3)\n",
    "for i in sel_string:\n",
    "    print(i)"
   ]
  },
  {
   "cell_type": "code",
   "execution_count": 41,
   "metadata": {},
   "outputs": [
    {
     "data": {
      "text/plain": [
       "['hat', 'mat', 'Hat']"
      ]
     },
     "execution_count": 41,
     "metadata": {},
     "output_type": "execute_result"
    }
   ],
   "source": [
    "sel_string"
   ]
  },
  {
   "cell_type": "code",
   "execution_count": 70,
   "metadata": {},
   "outputs": [
    {
     "name": "stdout",
     "output_type": "stream",
     "text": [
      "hat\n",
      "mat\n",
      "love\n",
      "Hat\n",
      "['hat', 'mat', 'love', 'Hat']\n"
     ]
    }
   ],
   "source": [
    "#to print words starts with H-M or h-m and ends with anything\n",
    "sel_string2 = re.findall('[H-Mh-m]\\w+', string3)\n",
    "for i in sel_string2:\n",
    "    print(i)\n",
    "\n",
    "print(sel_string2)"
   ]
  },
  {
   "cell_type": "code",
   "execution_count": 1,
   "metadata": {},
   "outputs": [],
   "source": [
    "# to print words except starts with H-M or h-m and ends with anything\n",
    "# sel_string2 = re.findall('[^H-Mh-m]\\w+', string3)\n",
    "# for i in sel_string2:\n",
    "#     print(i)\n",
    "\n",
    "# print(sel_string2)"
   ]
  },
  {
   "cell_type": "code",
   "execution_count": null,
   "metadata": {},
   "outputs": [],
   "source": []
  },
  {
   "cell_type": "markdown",
   "metadata": {},
   "source": [
    "# To replace a string"
   ]
  },
  {
   "cell_type": "code",
   "execution_count": 2,
   "metadata": {},
   "outputs": [],
   "source": [
    "string4 = 'hat rat mat pat'\n",
    "#replace rat with food"
   ]
  },
  {
   "cell_type": "code",
   "execution_count": 4,
   "metadata": {},
   "outputs": [
    {
     "name": "stdout",
     "output_type": "stream",
     "text": [
      "hat food mat pat\n"
     ]
    }
   ],
   "source": [
    "import re\n",
    "repl_str = re.compile('rat')\n",
    "string4 = repl_str.sub('food', string4)\n",
    "print(string4)"
   ]
  },
  {
   "cell_type": "code",
   "execution_count": 81,
   "metadata": {},
   "outputs": [],
   "source": [
    "string5 = 'giri do not want to go to school. because he does not know anyone in the school'\n",
    "#remplace school with play-school"
   ]
  },
  {
   "cell_type": "code",
   "execution_count": 83,
   "metadata": {},
   "outputs": [
    {
     "name": "stdout",
     "output_type": "stream",
     "text": [
      "giri do not want to go to play-school. because he does not know anyone in the play-school\n"
     ]
    }
   ],
   "source": [
    "repl_str2 = re.compile('school')\n",
    "string5 = repl_str2.sub('play-school', string5)\n",
    "print(string5)"
   ]
  },
  {
   "cell_type": "markdown",
   "metadata": {},
   "source": [
    "# Deling with backslash problem"
   ]
  },
  {
   "cell_type": "code",
   "execution_count": 84,
   "metadata": {},
   "outputs": [
    {
     "name": "stdout",
     "output_type": "stream",
     "text": [
      "here is \\drogba\n"
     ]
    }
   ],
   "source": [
    "rand_str = 'here is \\\\drogba'\n",
    "print(rand_str)\n",
    "#even though we have two \\ characters it is printing only 1"
   ]
  },
  {
   "cell_type": "code",
   "execution_count": 85,
   "metadata": {},
   "outputs": [
    {
     "name": "stdout",
     "output_type": "stream",
     "text": [
      "<_sre.SRE_Match object; span=(8, 15), match='\\\\drogba'>\n"
     ]
    }
   ],
   "source": [
    "print(re.search(r'\\\\drogba', rand_str))\n",
    "#search method can find it"
   ]
  },
  {
   "cell_type": "markdown",
   "metadata": {},
   "source": [
    "# To deal with blank spaces"
   ]
  },
  {
   "cell_type": "code",
   "execution_count": 86,
   "metadata": {},
   "outputs": [
    {
     "name": "stdout",
     "output_type": "stream",
     "text": [
      "\n",
      "Keep the blue flag\n",
      "flying high\n",
      "Chelsea\n"
     ]
    }
   ],
   "source": [
    "rand_str = '''\n",
    "Keep the blue flag\n",
    "flying high\n",
    "Chelsea'''\n",
    "print(rand_str)  # its a multi line string"
   ]
  },
  {
   "cell_type": "code",
   "execution_count": 87,
   "metadata": {},
   "outputs": [
    {
     "name": "stdout",
     "output_type": "stream",
     "text": [
      " Keep the blue flag flying high Chelsea\n"
     ]
    }
   ],
   "source": [
    "repl_str = re.compile('\\n')\n",
    "rand_str = repl_str.sub(' ', rand_str)  # next lines replaced with spaces\n",
    "print(rand_str)"
   ]
  },
  {
   "cell_type": "markdown",
   "metadata": {},
   "source": [
    "# Deal with numbers"
   ]
  },
  {
   "cell_type": "code",
   "execution_count": 5,
   "metadata": {},
   "outputs": [
    {
     "name": "stdout",
     "output_type": "stream",
     "text": [
      "Matches: 5\n",
      "Matches: 1\n"
     ]
    }
   ],
   "source": [
    "# to deal with backslash (\\b), formfeed(\\f), carriage return(\\r), tab(\\t), vertical tab(\\v)\n",
    "rand_str2 = '12345a'\n",
    "print('Matches:', len(re.findall('\\d', rand_str2))) # \\d to match any number\n",
    "print('Matches:', len(re.findall('\\D', rand_str2))) # \\D will match anything except number"
   ]
  },
  {
   "cell_type": "code",
   "execution_count": 92,
   "metadata": {},
   "outputs": [
    {
     "name": "stdout",
     "output_type": "stream",
     "text": [
      "Matches: 1\n"
     ]
    }
   ],
   "source": [
    "print('Matches:', len(re.findall('\\d{5}', rand_str2)))  # matches 1 digit '5'"
   ]
  },
  {
   "cell_type": "code",
   "execution_count": 93,
   "metadata": {},
   "outputs": [],
   "source": [
    "num = '123 1234 12345 123456 1234567'\n",
    "# to find occurance in range 5 to 7"
   ]
  },
  {
   "cell_type": "code",
   "execution_count": 98,
   "metadata": {},
   "outputs": [
    {
     "name": "stdout",
     "output_type": "stream",
     "text": [
      "Marches :  ['12345', '123456', '1234567']\n",
      "Marches :  3\n"
     ]
    }
   ],
   "source": [
    "print('Marches : ', re.findall('\\d{5,7}', num))\n",
    "print('Marches : ', len(re.findall('\\d{5,7}', num)))  # \\d{5,7} dearches digits 5 or 56 or 567"
   ]
  },
  {
   "cell_type": "markdown",
   "metadata": {},
   "source": [
    "# Phone number verification"
   ]
  },
  {
   "cell_type": "code",
   "execution_count": 99,
   "metadata": {},
   "outputs": [],
   "source": [
    "# sample 444-122-1234\n",
    "# format is 3 digits, - sign, 3 gits, - sign, 4 digits"
   ]
  },
  {
   "cell_type": "code",
   "execution_count": 100,
   "metadata": {},
   "outputs": [],
   "source": [
    "# Note:-\n",
    "#  \\w refers to [a-zA-Z0-9_]\n",
    "#  \\W refers to [^a-zA-Z0-9]"
   ]
  },
  {
   "cell_type": "code",
   "execution_count": 101,
   "metadata": {},
   "outputs": [
    {
     "name": "stdout",
     "output_type": "stream",
     "text": [
      "it is a valid phone number\n"
     ]
    }
   ],
   "source": [
    "phone = '412-555-1212'\n",
    "if re.search('\\d{3}-\\d{3}-\\d{4}', phone):\n",
    "    print('it is a valid phone number')\n",
    "else:\n",
    "    print('it is not a valid phone number')"
   ]
  },
  {
   "cell_type": "code",
   "execution_count": 102,
   "metadata": {},
   "outputs": [
    {
     "name": "stdout",
     "output_type": "stream",
     "text": [
      "it is not a valid phone number\n"
     ]
    }
   ],
   "source": [
    "phone = '412-5551-1212'\n",
    "if re.search('\\d{3}-\\d{3}-\\d{4}', phone):\n",
    "    print('it is a valid phone number')\n",
    "else:\n",
    "    print('it is not a valid phone number')"
   ]
  },
  {
   "cell_type": "markdown",
   "metadata": {},
   "source": [
    "# To check if names is a valid name"
   ]
  },
  {
   "cell_type": "code",
   "execution_count": 103,
   "metadata": {},
   "outputs": [],
   "source": [
    "#Note:-\n",
    "#  \\s represennts all spaces [\\f\\n\\r\\t\\v]\n",
    "#  \\S represents all except spaces [^\\f\\n\\r\\t\\v]"
   ]
  },
  {
   "cell_type": "code",
   "execution_count": 108,
   "metadata": {},
   "outputs": [
    {
     "name": "stdout",
     "output_type": "stream",
     "text": [
      "Mark Samuel is a valid name\n"
     ]
    }
   ],
   "source": [
    "name1 = 'Mark Samuel'\n",
    "if re.search('\\w{2,20}\\s\\w{2,20}', name1):\n",
    "    print(\"%s is a valid name\"%name1)\n",
    "else:\n",
    "    print(\"%s is not a valid name\"%name1)"
   ]
  },
  {
   "cell_type": "code",
   "execution_count": 109,
   "metadata": {},
   "outputs": [
    {
     "name": "stdout",
     "output_type": "stream",
     "text": [
      "sreerajva5@gmail.com is not a valid name\n"
     ]
    }
   ],
   "source": [
    "name1 = 'sreerajva5@gmail.com'\n",
    "if re.search('\\w{2,20}\\s\\w{2,20}', name1):\n",
    "    print(\"%s is a valid name\"%name1)\n",
    "else:\n",
    "    print(\"%s is not a valid name\"%name1)"
   ]
  },
  {
   "cell_type": "markdown",
   "metadata": {},
   "source": [
    "# To check if e-mail id is valid"
   ]
  },
  {
   "cell_type": "code",
   "execution_count": 110,
   "metadata": {},
   "outputs": [],
   "source": [
    "# Note:- to check if e-mail id is valid\n",
    "# 1. one to 20 lower or uppercase letters, numbers plus ._%+-\n",
    "# 2. an @ symbol\n",
    "# 3. 2 to 20 lower or uppercase letters, numbers plus .-\n",
    "# 4. A period\n",
    "# 5. 2 to 3 lowercase and uppercase letters"
   ]
  },
  {
   "cell_type": "code",
   "execution_count": 115,
   "metadata": {},
   "outputs": [
    {
     "name": "stdout",
     "output_type": "stream",
     "text": [
      "1 email are valid and shown below\n",
      "['sk@aol.com']\n"
     ]
    }
   ],
   "source": [
    "email = 'sk@aol.com  md@.com @seo.com dc@.com'\n",
    "valid = re.findall('[\\w._%+-]{1,20}@[\\w.-]{2,20}.[A-Za-z]{2,3}', email)\n",
    "count = len(valid)\n",
    "print(\"%d email are valid and shown below\" %count)\n",
    "print(valid)"
   ]
  },
  {
   "cell_type": "markdown",
   "metadata": {},
   "source": [
    "# Web scrapping"
   ]
  },
  {
   "cell_type": "code",
   "execution_count": 116,
   "metadata": {},
   "outputs": [],
   "source": [
    "import urllib.request\n",
    "import re"
   ]
  },
  {
   "cell_type": "code",
   "execution_count": 121,
   "metadata": {},
   "outputs": [],
   "source": [
    "url = 'http://www.summet.com/dmsi/html/codesamples/addresses.html'\n",
    "response = urllib.request.urlopen(url)\n",
    "html = response.read()\n",
    "# print(html)\n",
    "htmlstr = html.decode()\n",
    "# print(htmlstr)"
   ]
  },
  {
   "cell_type": "code",
   "execution_count": 135,
   "metadata": {},
   "outputs": [
    {
     "name": "stdout",
     "output_type": "stream",
     "text": [
      "100\n"
     ]
    }
   ],
   "source": [
    "phone_numbers = re.findall('\\(\\d{3}\\) \\d{3}-\\d{4}', htmlstr)\n",
    "#print(phone_numbers)\n",
    "# names = re.findall('\\w{2,20}\\s\\w{2,20}', htmlstr)\n",
    "print(len(phone_numbers))\n",
    "# print(len(names))"
   ]
  },
  {
   "cell_type": "code",
   "execution_count": 136,
   "metadata": {},
   "outputs": [
    {
     "name": "stdout",
     "output_type": "stream",
     "text": [
      "100\n"
     ]
    }
   ],
   "source": [
    "post_box = re.findall('\\d{5}', htmlstr)\n",
    "print(len(post_box))"
   ]
  },
  {
   "cell_type": "code",
   "execution_count": 142,
   "metadata": {},
   "outputs": [],
   "source": [
    "import pandas as pd"
   ]
  },
  {
   "cell_type": "code",
   "execution_count": 165,
   "metadata": {},
   "outputs": [
    {
     "name": "stdout",
     "output_type": "stream",
     "text": [
      "<class 'pandas.core.frame.DataFrame'>\n",
      "Index: 100 entries, 96522 to 48580\n",
      "Data columns (total 1 columns):\n",
      "nikj    100 non-null object\n",
      "dtypes: object(1)\n",
      "memory usage: 1.6+ KB\n"
     ]
    }
   ],
   "source": [
    "dict1 = {post_box[n]:phone_numbers[n] for n in range(len(post_box))}\n",
    "#print(dict1)\n",
    "df1 = pd.DataFrame(dict1, index = ['nikj'])\n",
    "df2 = df1.T\n",
    "df2.info()"
   ]
  },
  {
   "cell_type": "code",
   "execution_count": 156,
   "metadata": {},
   "outputs": [
    {
     "data": {
      "text/html": [
       "<div>\n",
       "<style scoped>\n",
       "    .dataframe tbody tr th:only-of-type {\n",
       "        vertical-align: middle;\n",
       "    }\n",
       "\n",
       "    .dataframe tbody tr th {\n",
       "        vertical-align: top;\n",
       "    }\n",
       "\n",
       "    .dataframe thead th {\n",
       "        text-align: right;\n",
       "    }\n",
       "</style>\n",
       "<table border=\"1\" class=\"dataframe\">\n",
       "  <thead>\n",
       "    <tr style=\"text-align: right;\">\n",
       "      <th></th>\n",
       "      <th>pin</th>\n",
       "      <th>phone</th>\n",
       "    </tr>\n",
       "  </thead>\n",
       "  <tbody>\n",
       "    <tr>\n",
       "      <th>0</th>\n",
       "      <td>96522</td>\n",
       "      <td>(257) 563-7401</td>\n",
       "    </tr>\n",
       "    <tr>\n",
       "      <th>1</th>\n",
       "      <td>20620</td>\n",
       "      <td>(372) 587-2335</td>\n",
       "    </tr>\n",
       "    <tr>\n",
       "      <th>2</th>\n",
       "      <td>11523</td>\n",
       "      <td>(786) 713-8616</td>\n",
       "    </tr>\n",
       "    <tr>\n",
       "      <th>3</th>\n",
       "      <td>39531</td>\n",
       "      <td>(793) 151-6230</td>\n",
       "    </tr>\n",
       "    <tr>\n",
       "      <th>4</th>\n",
       "      <td>47096</td>\n",
       "      <td>(492) 709-6392</td>\n",
       "    </tr>\n",
       "  </tbody>\n",
       "</table>\n",
       "</div>"
      ],
      "text/plain": [
       "     pin           phone\n",
       "0  96522  (257) 563-7401\n",
       "1  20620  (372) 587-2335\n",
       "2  11523  (786) 713-8616\n",
       "3  39531  (793) 151-6230\n",
       "4  47096  (492) 709-6392"
      ]
     },
     "execution_count": 156,
     "metadata": {},
     "output_type": "execute_result"
    }
   ],
   "source": [
    "#to get the list of phone number with PO number\n",
    "datafr = pd.DataFrame(list(dict1.items()), columns=['pin', 'phone'])\n",
    "datafr.head()"
   ]
  },
  {
   "cell_type": "code",
   "execution_count": 166,
   "metadata": {},
   "outputs": [
    {
     "data": {
      "text/plain": [
       "{'96522': '(257) 563-7401',\n",
       " '20620': '(372) 587-2335',\n",
       " '11523': '(786) 713-8616',\n",
       " '39531': '(793) 151-6230',\n",
       " '47096': '(492) 709-6392',\n",
       " '10855': '(654) 393-5734',\n",
       " '08219': '(404) 960-3807',\n",
       " '12482': '(314) 244-6306',\n",
       " '67708': '(947) 278-5929',\n",
       " '98804': '(684) 579-1879',\n",
       " '69409': '(389) 737-2852',\n",
       " '24975': '(660) 663-4518',\n",
       " '38100': '(608) 265-2215',\n",
       " '45149': '(959) 119-8364',\n",
       " '49854': '(468) 353-2641',\n",
       " '19253': '(248) 675-4007',\n",
       " '02913': '(939) 353-1107',\n",
       " '09289': '(570) 873-7090',\n",
       " '93373': '(302) 259-2375',\n",
       " '20783': '(717) 450-4729',\n",
       " '90255': '(453) 391-4650',\n",
       " '37547': '(559) 104-5475',\n",
       " '48432': '(387) 142-9434',\n",
       " '58563': '(516) 745-4496',\n",
       " '93479': '(326) 677-3419',\n",
       " '30309': '(746) 679-2470',\n",
       " '51324': '(455) 430-0989',\n",
       " '92358': '(490) 936-4694',\n",
       " '19759': '(985) 834-8285',\n",
       " '55797': '(662) 661-1446',\n",
       " '37232': '(802) 668-8240',\n",
       " '50654': '(477) 768-9247',\n",
       " '31626': '(791) 239-9057',\n",
       " '43526': '(832) 109-0213',\n",
       " '95302': '(837) 196-3274',\n",
       " '29738': '(268) 442-2428',\n",
       " '54886': '(850) 676-5117',\n",
       " '77373': '(861) 546-5032',\n",
       " '11292': '(176) 805-4108',\n",
       " '73585': '(715) 912-6931',\n",
       " '87535': '(993) 554-0563',\n",
       " '77382': '(357) 616-5411',\n",
       " '35282': '(121) 347-0086',\n",
       " '82776': '(304) 506-6314',\n",
       " '92508': '(425) 288-2332',\n",
       " '85794': '(145) 987-4962',\n",
       " '19408': '(187) 582-9707',\n",
       " '08609': '(750) 558-3965',\n",
       " '31522': '(492) 467-3131',\n",
       " '58521': '(774) 914-2510',\n",
       " '81202': '(888) 106-8550',\n",
       " '10626': '(539) 567-3573',\n",
       " '58520': '(693) 337-2849',\n",
       " '57692': '(545) 604-9386',\n",
       " '04645': '(221) 156-5026',\n",
       " '26278': '(414) 876-0865',\n",
       " '69679': '(932) 726-8645',\n",
       " '03869': '(726) 710-9826',\n",
       " '55246': '(622) 594-1662',\n",
       " '87323': '(948) 600-8503',\n",
       " '84872': '(605) 900-7508',\n",
       " '41329': '(716) 977-5775',\n",
       " '30135': '(368) 239-8275',\n",
       " '99602': '(725) 342-0650',\n",
       " '91750': '(711) 993-5187',\n",
       " '76865': '(882) 399-5084',\n",
       " '73490': '(287) 755-9948',\n",
       " '63725': '(659) 551-3389',\n",
       " '96892': '(275) 730-6868',\n",
       " '22767': '(725) 757-4047',\n",
       " '77987': '(314) 882-1496',\n",
       " '43841': '(639) 360-7590',\n",
       " '40684': '(168) 222-1592',\n",
       " '03828': '(896) 303-1164',\n",
       " '50710': '(203) 982-6130',\n",
       " '66309': '(906) 217-1470',\n",
       " '67973': '(614) 514-1269',\n",
       " '71983': '(763) 409-5446',\n",
       " '79637': '(836) 292-5324',\n",
       " '06963': '(926) 709-3295',\n",
       " '07367': '(963) 356-9268',\n",
       " '68999': '(736) 522-8584',\n",
       " '73510': '(410) 483-0352',\n",
       " '53700': '(252) 204-1434',\n",
       " '48247': '(874) 886-4174',\n",
       " '12657': '(581) 379-7573',\n",
       " '56618': '(983) 632-8597',\n",
       " '28423': '(295) 983-3476',\n",
       " '97020': '(873) 392-8802',\n",
       " '93490': '(360) 669-3923',\n",
       " '62401': '(840) 987-9449',\n",
       " '05182': '(422) 517-6053',\n",
       " '87065': '(126) 940-2753',\n",
       " '92611': '(427) 930-5255',\n",
       " '88317': '(689) 721-5145',\n",
       " '36734': '(676) 334-2174',\n",
       " '70863': '(437) 994-5270',\n",
       " '19587': '(564) 908-6970',\n",
       " '07528': '(577) 333-6244',\n",
       " '48580': '(655) 840-6139'}"
      ]
     },
     "execution_count": 166,
     "metadata": {},
     "output_type": "execute_result"
    }
   ],
   "source": [
    "dict1"
   ]
  },
  {
   "cell_type": "code",
   "execution_count": null,
   "metadata": {},
   "outputs": [],
   "source": []
  }
 ],
 "metadata": {
  "kernelspec": {
   "display_name": "Python 3",
   "language": "python",
   "name": "python3"
  },
  "language_info": {
   "codemirror_mode": {
    "name": "ipython",
    "version": 3
   },
   "file_extension": ".py",
   "mimetype": "text/x-python",
   "name": "python",
   "nbconvert_exporter": "python",
   "pygments_lexer": "ipython3",
   "version": "3.6.5"
  }
 },
 "nbformat": 4,
 "nbformat_minor": 2
}
