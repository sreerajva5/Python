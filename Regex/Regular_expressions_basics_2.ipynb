{
 "cells": [
  {
   "cell_type": "code",
   "execution_count": 2,
   "metadata": {},
   "outputs": [],
   "source": [
    "import re"
   ]
  },
  {
   "cell_type": "code",
   "execution_count": 63,
   "metadata": {},
   "outputs": [],
   "source": [
    "text_to_search = '''\n",
    "abcdefghijklmnopqrstuvwxyz\n",
    "ABCDEFGHIJKLMNOPQRSTUVWXYZ\n",
    "0123456789\n",
    "\n",
    "Ha HaHa\n",
    "\n",
    "Metacharacters need tobe escaped):\n",
    ".^$*+?{}[]\\|()\n",
    "\n",
    "coreyms.com\n",
    "\n",
    "321-555-4321\n",
    "123.555.1234\n",
    "123*155*1238\n",
    "\n",
    "800-555-4321\n",
    "900-455-4321\n",
    "\n",
    "Mr. Sajeesh\n",
    "Mr Makbul\n",
    "Ms Davis\n",
    "Mrs. Robinson\n",
    "Mr. T\n",
    "\n",
    "sree@gmail.com\n",
    "mak@yahoo.in\n",
    "saj@microsoft.org\n",
    "abc.axz@mycomp\n",
    "'''\n",
    "\n",
    "sentence = 'Start a sentence and bring it to an end'"
   ]
  },
  {
   "cell_type": "code",
   "execution_count": 5,
   "metadata": {},
   "outputs": [
    {
     "name": "stdout",
     "output_type": "stream",
     "text": [
      "\tabc\n",
      "abc\n",
      "xyz\n",
      "\n",
      "xyz\n"
     ]
    }
   ],
   "source": [
    "# examples of some exceptions tobe taken care\n",
    "print('\\tabc')  # \\t is used to print a tab\n",
    "print('abc')\n",
    "\n",
    "print('xyz')\n",
    "print('\\nxyz')    # \\n is used to print next line"
   ]
  },
  {
   "cell_type": "code",
   "execution_count": 6,
   "metadata": {},
   "outputs": [
    {
     "name": "stdout",
     "output_type": "stream",
     "text": [
      "<_sre.SRE_Match object; span=(1, 4), match='abc'>\n"
     ]
    }
   ],
   "source": [
    "# re.compile method : The compile method allow to sepearte out our patterns into a variable and also make it easier to re-use the \n",
    "                    # patterns in multiple searches\n",
    "\n",
    "#eg:  if we need to search for a string 'abc'\n",
    "\n",
    "pattern = re.compile(r'abc')  #defining a variable using compile method with the string need tobe searched\n",
    "matches = pattern.finditer(text_to_search) #matching the patterns in the string using finditer method\n",
    "\n",
    "for i in matches:\n",
    "    print(i)    # all matches will be printed with start and end index with the matching string\n",
    "\n",
    "\n",
    "#indexes can be used later using string slicing functionality if required"
   ]
  },
  {
   "cell_type": "code",
   "execution_count": 7,
   "metadata": {},
   "outputs": [
    {
     "name": "stdout",
     "output_type": "stream",
     "text": [
      "<_sre.SRE_Match object; span=(1, 2), match='a'>\n",
      "<_sre.SRE_Match object; span=(2, 3), match='b'>\n",
      "<_sre.SRE_Match object; span=(3, 4), match='c'>\n",
      "<_sre.SRE_Match object; span=(4, 5), match='d'>\n",
      "<_sre.SRE_Match object; span=(5, 6), match='e'>\n",
      "<_sre.SRE_Match object; span=(6, 7), match='f'>\n",
      "<_sre.SRE_Match object; span=(7, 8), match='g'>\n",
      "<_sre.SRE_Match object; span=(8, 9), match='h'>\n",
      "<_sre.SRE_Match object; span=(9, 10), match='i'>\n",
      "<_sre.SRE_Match object; span=(10, 11), match='j'>\n",
      "<_sre.SRE_Match object; span=(11, 12), match='k'>\n",
      "<_sre.SRE_Match object; span=(12, 13), match='l'>\n",
      "<_sre.SRE_Match object; span=(13, 14), match='m'>\n",
      "<_sre.SRE_Match object; span=(14, 15), match='n'>\n",
      "<_sre.SRE_Match object; span=(15, 16), match='o'>\n",
      "<_sre.SRE_Match object; span=(16, 17), match='p'>\n",
      "<_sre.SRE_Match object; span=(17, 18), match='q'>\n",
      "<_sre.SRE_Match object; span=(18, 19), match='r'>\n",
      "<_sre.SRE_Match object; span=(19, 20), match='s'>\n",
      "<_sre.SRE_Match object; span=(20, 21), match='t'>\n",
      "<_sre.SRE_Match object; span=(21, 22), match='u'>\n",
      "<_sre.SRE_Match object; span=(22, 23), match='v'>\n",
      "<_sre.SRE_Match object; span=(23, 24), match='w'>\n",
      "<_sre.SRE_Match object; span=(24, 25), match='x'>\n",
      "<_sre.SRE_Match object; span=(25, 26), match='y'>\n",
      "<_sre.SRE_Match object; span=(26, 27), match='z'>\n",
      "<_sre.SRE_Match object; span=(28, 29), match='A'>\n",
      "<_sre.SRE_Match object; span=(29, 30), match='B'>\n",
      "<_sre.SRE_Match object; span=(30, 31), match='C'>\n",
      "<_sre.SRE_Match object; span=(31, 32), match='D'>\n",
      "<_sre.SRE_Match object; span=(32, 33), match='E'>\n",
      "<_sre.SRE_Match object; span=(33, 34), match='F'>\n",
      "<_sre.SRE_Match object; span=(34, 35), match='G'>\n",
      "<_sre.SRE_Match object; span=(35, 36), match='H'>\n",
      "<_sre.SRE_Match object; span=(36, 37), match='I'>\n",
      "<_sre.SRE_Match object; span=(37, 38), match='J'>\n",
      "<_sre.SRE_Match object; span=(38, 39), match='K'>\n",
      "<_sre.SRE_Match object; span=(39, 40), match='L'>\n",
      "<_sre.SRE_Match object; span=(40, 41), match='M'>\n",
      "<_sre.SRE_Match object; span=(41, 42), match='N'>\n",
      "<_sre.SRE_Match object; span=(42, 43), match='O'>\n",
      "<_sre.SRE_Match object; span=(43, 44), match='P'>\n",
      "<_sre.SRE_Match object; span=(44, 45), match='Q'>\n",
      "<_sre.SRE_Match object; span=(45, 46), match='R'>\n",
      "<_sre.SRE_Match object; span=(46, 47), match='S'>\n",
      "<_sre.SRE_Match object; span=(47, 48), match='T'>\n",
      "<_sre.SRE_Match object; span=(48, 49), match='U'>\n",
      "<_sre.SRE_Match object; span=(49, 50), match='V'>\n",
      "<_sre.SRE_Match object; span=(50, 51), match='W'>\n",
      "<_sre.SRE_Match object; span=(51, 52), match='X'>\n",
      "<_sre.SRE_Match object; span=(52, 53), match='Y'>\n",
      "<_sre.SRE_Match object; span=(53, 54), match='Z'>\n",
      "<_sre.SRE_Match object; span=(55, 56), match='0'>\n",
      "<_sre.SRE_Match object; span=(56, 57), match='1'>\n",
      "<_sre.SRE_Match object; span=(57, 58), match='2'>\n",
      "<_sre.SRE_Match object; span=(58, 59), match='3'>\n",
      "<_sre.SRE_Match object; span=(59, 60), match='4'>\n",
      "<_sre.SRE_Match object; span=(60, 61), match='5'>\n",
      "<_sre.SRE_Match object; span=(61, 62), match='6'>\n",
      "<_sre.SRE_Match object; span=(62, 63), match='7'>\n",
      "<_sre.SRE_Match object; span=(63, 64), match='8'>\n",
      "<_sre.SRE_Match object; span=(64, 65), match='9'>\n",
      "<_sre.SRE_Match object; span=(67, 68), match='H'>\n",
      "<_sre.SRE_Match object; span=(68, 69), match='a'>\n",
      "<_sre.SRE_Match object; span=(69, 70), match=' '>\n",
      "<_sre.SRE_Match object; span=(70, 71), match='H'>\n",
      "<_sre.SRE_Match object; span=(71, 72), match='a'>\n",
      "<_sre.SRE_Match object; span=(72, 73), match='H'>\n",
      "<_sre.SRE_Match object; span=(73, 74), match='a'>\n",
      "<_sre.SRE_Match object; span=(76, 77), match='M'>\n",
      "<_sre.SRE_Match object; span=(77, 78), match='e'>\n",
      "<_sre.SRE_Match object; span=(78, 79), match='t'>\n",
      "<_sre.SRE_Match object; span=(79, 80), match='a'>\n",
      "<_sre.SRE_Match object; span=(80, 81), match='c'>\n",
      "<_sre.SRE_Match object; span=(81, 82), match='h'>\n",
      "<_sre.SRE_Match object; span=(82, 83), match='a'>\n",
      "<_sre.SRE_Match object; span=(83, 84), match='r'>\n",
      "<_sre.SRE_Match object; span=(84, 85), match='a'>\n",
      "<_sre.SRE_Match object; span=(85, 86), match='c'>\n",
      "<_sre.SRE_Match object; span=(86, 87), match='t'>\n",
      "<_sre.SRE_Match object; span=(87, 88), match='e'>\n",
      "<_sre.SRE_Match object; span=(88, 89), match='r'>\n",
      "<_sre.SRE_Match object; span=(89, 90), match='s'>\n",
      "<_sre.SRE_Match object; span=(90, 91), match=' '>\n",
      "<_sre.SRE_Match object; span=(91, 92), match='n'>\n",
      "<_sre.SRE_Match object; span=(92, 93), match='e'>\n",
      "<_sre.SRE_Match object; span=(93, 94), match='e'>\n",
      "<_sre.SRE_Match object; span=(94, 95), match='d'>\n",
      "<_sre.SRE_Match object; span=(95, 96), match=' '>\n",
      "<_sre.SRE_Match object; span=(96, 97), match='t'>\n",
      "<_sre.SRE_Match object; span=(97, 98), match='o'>\n",
      "<_sre.SRE_Match object; span=(98, 99), match='b'>\n",
      "<_sre.SRE_Match object; span=(99, 100), match='e'>\n",
      "<_sre.SRE_Match object; span=(100, 101), match=' '>\n",
      "<_sre.SRE_Match object; span=(101, 102), match='e'>\n",
      "<_sre.SRE_Match object; span=(102, 103), match='s'>\n",
      "<_sre.SRE_Match object; span=(103, 104), match='c'>\n",
      "<_sre.SRE_Match object; span=(104, 105), match='a'>\n",
      "<_sre.SRE_Match object; span=(105, 106), match='p'>\n",
      "<_sre.SRE_Match object; span=(106, 107), match='e'>\n",
      "<_sre.SRE_Match object; span=(107, 108), match='d'>\n",
      "<_sre.SRE_Match object; span=(108, 109), match=')'>\n",
      "<_sre.SRE_Match object; span=(109, 110), match=':'>\n",
      "<_sre.SRE_Match object; span=(111, 112), match='.'>\n",
      "<_sre.SRE_Match object; span=(112, 113), match='^'>\n",
      "<_sre.SRE_Match object; span=(113, 114), match='$'>\n",
      "<_sre.SRE_Match object; span=(114, 115), match='*'>\n",
      "<_sre.SRE_Match object; span=(115, 116), match='+'>\n",
      "<_sre.SRE_Match object; span=(116, 117), match='?'>\n",
      "<_sre.SRE_Match object; span=(117, 118), match='{'>\n",
      "<_sre.SRE_Match object; span=(118, 119), match='}'>\n",
      "<_sre.SRE_Match object; span=(119, 120), match='['>\n",
      "<_sre.SRE_Match object; span=(120, 121), match=']'>\n",
      "<_sre.SRE_Match object; span=(121, 122), match='\\\\'>\n",
      "<_sre.SRE_Match object; span=(122, 123), match='|'>\n",
      "<_sre.SRE_Match object; span=(123, 124), match='('>\n",
      "<_sre.SRE_Match object; span=(124, 125), match=')'>\n",
      "<_sre.SRE_Match object; span=(127, 128), match='c'>\n",
      "<_sre.SRE_Match object; span=(128, 129), match='o'>\n",
      "<_sre.SRE_Match object; span=(129, 130), match='r'>\n",
      "<_sre.SRE_Match object; span=(130, 131), match='e'>\n",
      "<_sre.SRE_Match object; span=(131, 132), match='y'>\n",
      "<_sre.SRE_Match object; span=(132, 133), match='m'>\n",
      "<_sre.SRE_Match object; span=(133, 134), match='s'>\n",
      "<_sre.SRE_Match object; span=(134, 135), match='.'>\n",
      "<_sre.SRE_Match object; span=(135, 136), match='c'>\n",
      "<_sre.SRE_Match object; span=(136, 137), match='o'>\n",
      "<_sre.SRE_Match object; span=(137, 138), match='m'>\n",
      "<_sre.SRE_Match object; span=(140, 141), match='3'>\n",
      "<_sre.SRE_Match object; span=(141, 142), match='2'>\n",
      "<_sre.SRE_Match object; span=(142, 143), match='1'>\n",
      "<_sre.SRE_Match object; span=(143, 144), match='-'>\n",
      "<_sre.SRE_Match object; span=(144, 145), match='5'>\n",
      "<_sre.SRE_Match object; span=(145, 146), match='5'>\n",
      "<_sre.SRE_Match object; span=(146, 147), match='5'>\n",
      "<_sre.SRE_Match object; span=(147, 148), match='-'>\n",
      "<_sre.SRE_Match object; span=(148, 149), match='4'>\n",
      "<_sre.SRE_Match object; span=(149, 150), match='3'>\n",
      "<_sre.SRE_Match object; span=(150, 151), match='2'>\n",
      "<_sre.SRE_Match object; span=(151, 152), match='1'>\n",
      "<_sre.SRE_Match object; span=(153, 154), match='1'>\n",
      "<_sre.SRE_Match object; span=(154, 155), match='2'>\n",
      "<_sre.SRE_Match object; span=(155, 156), match='3'>\n",
      "<_sre.SRE_Match object; span=(156, 157), match='.'>\n",
      "<_sre.SRE_Match object; span=(157, 158), match='5'>\n",
      "<_sre.SRE_Match object; span=(158, 159), match='5'>\n",
      "<_sre.SRE_Match object; span=(159, 160), match='5'>\n",
      "<_sre.SRE_Match object; span=(160, 161), match='.'>\n",
      "<_sre.SRE_Match object; span=(161, 162), match='1'>\n",
      "<_sre.SRE_Match object; span=(162, 163), match='2'>\n",
      "<_sre.SRE_Match object; span=(163, 164), match='3'>\n",
      "<_sre.SRE_Match object; span=(164, 165), match='4'>\n",
      "<_sre.SRE_Match object; span=(167, 168), match='M'>\n",
      "<_sre.SRE_Match object; span=(168, 169), match='r'>\n",
      "<_sre.SRE_Match object; span=(169, 170), match='.'>\n",
      "<_sre.SRE_Match object; span=(170, 171), match=' '>\n",
      "<_sre.SRE_Match object; span=(171, 172), match='S'>\n",
      "<_sre.SRE_Match object; span=(172, 173), match='a'>\n",
      "<_sre.SRE_Match object; span=(173, 174), match='j'>\n",
      "<_sre.SRE_Match object; span=(174, 175), match='e'>\n",
      "<_sre.SRE_Match object; span=(175, 176), match='e'>\n",
      "<_sre.SRE_Match object; span=(176, 177), match='s'>\n",
      "<_sre.SRE_Match object; span=(177, 178), match='h'>\n",
      "<_sre.SRE_Match object; span=(179, 180), match='M'>\n",
      "<_sre.SRE_Match object; span=(180, 181), match='r'>\n",
      "<_sre.SRE_Match object; span=(181, 182), match=' '>\n",
      "<_sre.SRE_Match object; span=(182, 183), match='M'>\n",
      "<_sre.SRE_Match object; span=(183, 184), match='a'>\n",
      "<_sre.SRE_Match object; span=(184, 185), match='k'>\n",
      "<_sre.SRE_Match object; span=(185, 186), match='b'>\n",
      "<_sre.SRE_Match object; span=(186, 187), match='u'>\n",
      "<_sre.SRE_Match object; span=(187, 188), match='l'>\n",
      "<_sre.SRE_Match object; span=(189, 190), match='M'>\n",
      "<_sre.SRE_Match object; span=(190, 191), match='s'>\n",
      "<_sre.SRE_Match object; span=(191, 192), match=' '>\n",
      "<_sre.SRE_Match object; span=(192, 193), match='D'>\n",
      "<_sre.SRE_Match object; span=(193, 194), match='a'>\n",
      "<_sre.SRE_Match object; span=(194, 195), match='v'>\n",
      "<_sre.SRE_Match object; span=(195, 196), match='i'>\n",
      "<_sre.SRE_Match object; span=(196, 197), match='s'>\n",
      "<_sre.SRE_Match object; span=(198, 199), match='M'>\n",
      "<_sre.SRE_Match object; span=(199, 200), match='r'>\n",
      "<_sre.SRE_Match object; span=(200, 201), match='s'>\n",
      "<_sre.SRE_Match object; span=(201, 202), match='.'>\n",
      "<_sre.SRE_Match object; span=(202, 203), match=' '>\n",
      "<_sre.SRE_Match object; span=(203, 204), match='R'>\n",
      "<_sre.SRE_Match object; span=(204, 205), match='o'>\n",
      "<_sre.SRE_Match object; span=(205, 206), match='b'>\n",
      "<_sre.SRE_Match object; span=(206, 207), match='i'>\n",
      "<_sre.SRE_Match object; span=(207, 208), match='n'>\n",
      "<_sre.SRE_Match object; span=(208, 209), match='s'>\n",
      "<_sre.SRE_Match object; span=(209, 210), match='o'>\n",
      "<_sre.SRE_Match object; span=(210, 211), match='n'>\n",
      "<_sre.SRE_Match object; span=(212, 213), match='M'>\n",
      "<_sre.SRE_Match object; span=(213, 214), match='r'>\n",
      "<_sre.SRE_Match object; span=(214, 215), match='.'>\n",
      "<_sre.SRE_Match object; span=(215, 216), match=' '>\n",
      "<_sre.SRE_Match object; span=(216, 217), match='T'>\n"
     ]
    }
   ],
   "source": [
    "pattern2 = re.compile(r'.')\n",
    "matches2 = pattern2.finditer(text_to_search)\n",
    "\n",
    "for i in matches2:\n",
    "    print(i)\n",
    "\n",
    "# dot is using to fins all characters except new line.\n",
    "# to search for dot need to escape with '\\'"
   ]
  },
  {
   "cell_type": "code",
   "execution_count": 8,
   "metadata": {},
   "outputs": [
    {
     "name": "stdout",
     "output_type": "stream",
     "text": [
      "['.', '.', '.', '.', '.', '.', '.']\n",
      "7\n"
     ]
    }
   ],
   "source": [
    "pattern3 = re.compile(r'\\.')\n",
    "matches3 = pattern3.findall(text_to_search)   # findall method to get the output as list (without indexes)\n",
    "\n",
    "print(matches3)\n",
    "print(len(matches3))"
   ]
  },
  {
   "cell_type": "code",
   "execution_count": 9,
   "metadata": {},
   "outputs": [],
   "source": [
    "# exception searches:\n",
    "#  .   -  Any character except new line\n",
    "#  \\d  -  Digit (0-9)\n",
    "#  \\D  -  Not a Digit (0-9)\n",
    "#  \\w  -  Word character (a-z, A-Z, 0-9, _)\n",
    "#  \\W  -  Not a Word character\n",
    "#  \\s  -  Whitespace (space, tab, newline)\n",
    "#  \\S  -  Not a Whitespace (space, tab, newline)\n",
    "#  \\b  -  word boundary  (indicated by white space or a alphanumeric character)\n",
    "#  \\B  -  Not a word boundary\n",
    "#  ^   -  Beginning of a string\n",
    "#  $   -  Beginning of a string\n",
    "#  []  -  Matches characters in bracket\n",
    "#  [^] -  Matches characters not in bracket"
   ]
  },
  {
   "cell_type": "code",
   "execution_count": 10,
   "metadata": {},
   "outputs": [],
   "source": [
    "string1 = '''He is a good guy.\n",
    "            He has 2 kids'''"
   ]
  },
  {
   "cell_type": "code",
   "execution_count": 11,
   "metadata": {},
   "outputs": [],
   "source": [
    "search1 = re.findall(r'\\d', string1)\n",
    "# print(search1)\n",
    "search2 = re.findall(r'\\D', string1)\n",
    "# print(search2)\n",
    "search3 = re.findall(r'\\w', string1)\n",
    "# print(search3)\n",
    "search4 = re.findall(r'\\W', string1)\n",
    "# print(search4)\n",
    "search5 = re.findall(r'\\s', string1)\n",
    "#print(search5)"
   ]
  },
  {
   "cell_type": "code",
   "execution_count": 12,
   "metadata": {},
   "outputs": [
    {
     "name": "stdout",
     "output_type": "stream",
     "text": [
      "[<_sre.SRE_Match object; span=(0, 2), match='He'>]\n"
     ]
    }
   ],
   "source": [
    "print(list(re.finditer(r'^He', string1))) # matches only word in beginning"
   ]
  },
  {
   "cell_type": "code",
   "execution_count": 13,
   "metadata": {},
   "outputs": [
    {
     "name": "stdout",
     "output_type": "stream",
     "text": [
      "[]\n"
     ]
    }
   ],
   "source": [
    "print(list(re.finditer(r'^is', string1))) # matches only word in beginning"
   ]
  },
  {
   "cell_type": "code",
   "execution_count": 14,
   "metadata": {},
   "outputs": [
    {
     "name": "stdout",
     "output_type": "stream",
     "text": [
      "[<_sre.SRE_Match object; span=(39, 43), match='kids'>]\n"
     ]
    }
   ],
   "source": [
    "print(list(re.finditer(r'kids$', string1)))  # matches only word in the end, kids is in the end of the string"
   ]
  },
  {
   "cell_type": "code",
   "execution_count": 15,
   "metadata": {},
   "outputs": [
    {
     "name": "stdout",
     "output_type": "stream",
     "text": [
      "[]\n"
     ]
    }
   ],
   "source": [
    "print(list(re.finditer(r'He$', string1)))  # matches only word in the end, he is not in the end of the string"
   ]
  },
  {
   "cell_type": "code",
   "execution_count": 16,
   "metadata": {},
   "outputs": [
    {
     "name": "stdout",
     "output_type": "stream",
     "text": [
      "[<_sre.SRE_Match object; span=(67, 69), match='Ha'>, <_sre.SRE_Match object; span=(70, 72), match='Ha'>]\n"
     ]
    }
   ],
   "source": [
    "print(list(re.finditer(r'\\bHa', text_to_search)))  # Ha is 3 times but only 2 starts after space"
   ]
  },
  {
   "cell_type": "code",
   "execution_count": 17,
   "metadata": {},
   "outputs": [
    {
     "name": "stdout",
     "output_type": "stream",
     "text": [
      "[<_sre.SRE_Match object; span=(72, 74), match='Ha'>]\n"
     ]
    }
   ],
   "source": [
    "print(list(re.finditer(r'\\BHa', text_to_search)))  # only 1 Ha displayed as only that one exists without a word boundary"
   ]
  },
  {
   "cell_type": "code",
   "execution_count": 19,
   "metadata": {},
   "outputs": [
    {
     "name": "stdout",
     "output_type": "stream",
     "text": [
      "[<_sre.SRE_Match object; span=(140, 152), match='321-555-4321'>]\n"
     ]
    }
   ],
   "source": [
    "# phone number matching in string 'text_to_search'\n",
    "print(list(re.finditer(r'\\d\\d\\d-\\d\\d\\d-\\d\\d\\d\\d', text_to_search)))  # gives only phone numbers seperated by '-'"
   ]
  },
  {
   "cell_type": "code",
   "execution_count": 21,
   "metadata": {},
   "outputs": [
    {
     "name": "stdout",
     "output_type": "stream",
     "text": [
      "[<_sre.SRE_Match object; span=(140, 152), match='321-555-4321'>, <_sre.SRE_Match object; span=(153, 165), match='123.555.1234'>, <_sre.SRE_Match object; span=(166, 178), match='123*155*1238'>]\n"
     ]
    }
   ],
   "source": [
    "print(list(re.finditer(r'\\d\\d\\d.\\d\\d\\d.\\d\\d\\d\\d', text_to_search)))  # dot gives numbers seperted by any character"
   ]
  },
  {
   "cell_type": "code",
   "execution_count": 22,
   "metadata": {},
   "outputs": [
    {
     "name": "stdout",
     "output_type": "stream",
     "text": [
      "[<_sre.SRE_Match object; span=(140, 152), match='321-555-4321'>, <_sre.SRE_Match object; span=(153, 165), match='123.555.1234'>, <_sre.SRE_Match object; span=(166, 178), match='123*155*1238'>]\n"
     ]
    }
   ],
   "source": [
    "print(list(re.finditer(r'\\d{3}.\\d{3}.\\d{4}', text_to_search)))  # can use number of digits need to search inside {}"
   ]
  },
  {
   "cell_type": "code",
   "execution_count": 23,
   "metadata": {},
   "outputs": [
    {
     "name": "stdout",
     "output_type": "stream",
     "text": [
      "[<_sre.SRE_Match object; span=(153, 165), match='123.555.1234'>]\n"
     ]
    }
   ],
   "source": [
    "print(list(re.finditer(r'\\d{3}\\.\\d{3}\\.\\d{4}', text_to_search)))  # \\. to use to search actual dot"
   ]
  },
  {
   "cell_type": "code",
   "execution_count": 24,
   "metadata": {},
   "outputs": [
    {
     "name": "stdout",
     "output_type": "stream",
     "text": [
      "[<_sre.SRE_Match object; span=(140, 152), match='321-555-4321'>, <_sre.SRE_Match object; span=(153, 165), match='123.555.1234'>]\n"
     ]
    }
   ],
   "source": [
    "print(list(re.finditer(r'\\d{3}[-.]\\d{3}[-.]\\d{4}', text_to_search)))  #searched - or . inside []"
   ]
  },
  {
   "cell_type": "code",
   "execution_count": 27,
   "metadata": {},
   "outputs": [
    {
     "name": "stdout",
     "output_type": "stream",
     "text": [
      "[<_sre.SRE_Match object; span=(180, 192), match='800-555-4321'>, <_sre.SRE_Match object; span=(193, 205), match='900-455-4321'>]\n"
     ]
    }
   ],
   "source": [
    "# to get phone numbers only start with 800 or 900 and seperated by - or .\n",
    "print(list(re.finditer(r'[89]00[-.]\\d{3}[-.]\\d{4}', text_to_search)))   # [89] represents 8 or 9"
   ]
  },
  {
   "cell_type": "code",
   "execution_count": 28,
   "metadata": {},
   "outputs": [
    {
     "name": "stdout",
     "output_type": "stream",
     "text": [
      "[<_sre.SRE_Match object; span=(140, 152), match='321-555-4321'>, <_sre.SRE_Match object; span=(180, 192), match='800-555-4321'>, <_sre.SRE_Match object; span=(193, 205), match='900-455-4321'>]\n"
     ]
    }
   ],
   "source": [
    "print(list(re.finditer(r'[3-9]\\d{2}[-.]\\d{3}[-.]\\d{4}', text_to_search)))  # [3-9] represents anything from 3 to 9"
   ]
  },
  {
   "cell_type": "code",
   "execution_count": 29,
   "metadata": {},
   "outputs": [],
   "source": [
    "# a-z matches anything from lower ase a to z. A-Z also works same."
   ]
  },
  {
   "cell_type": "code",
   "execution_count": 31,
   "metadata": {},
   "outputs": [
    {
     "name": "stdout",
     "output_type": "stream",
     "text": [
      "[<_sre.SRE_Match object; span=(153, 165), match='123.555.1234'>]\n"
     ]
    }
   ],
   "source": [
    "print(list(re.finditer(r'[^3-9]\\d{2}[-.]\\d{3}[-.]\\d{4}', text_to_search)))  # [^3-9] means anything except 3 to 9"
   ]
  },
  {
   "cell_type": "code",
   "execution_count": 34,
   "metadata": {},
   "outputs": [],
   "source": [
    "string3 = 'rat mat pat cat bat'"
   ]
  },
  {
   "cell_type": "code",
   "execution_count": 35,
   "metadata": {},
   "outputs": [
    {
     "name": "stdout",
     "output_type": "stream",
     "text": [
      "[<_sre.SRE_Match object; span=(0, 3), match='rat'>, <_sre.SRE_Match object; span=(4, 7), match='mat'>, <_sre.SRE_Match object; span=(8, 11), match='pat'>, <_sre.SRE_Match object; span=(12, 15), match='cat'>]\n"
     ]
    }
   ],
   "source": [
    "print(list(re.finditer(r'[^b]at', string3)))"
   ]
  },
  {
   "cell_type": "code",
   "execution_count": 36,
   "metadata": {},
   "outputs": [],
   "source": [
    "# Quantifiers:   * for zero or more, + for 1 or more, ? for zero or one, {3} for exact number, \n",
    "               #   {3,4}  for range of numbers {minimum, maximum}"
   ]
  },
  {
   "cell_type": "code",
   "execution_count": 38,
   "metadata": {},
   "outputs": [
    {
     "name": "stdout",
     "output_type": "stream",
     "text": [
      "[<_sre.SRE_Match object; span=(140, 152), match='321-555-4321'>, <_sre.SRE_Match object; span=(153, 165), match='123.555.1234'>, <_sre.SRE_Match object; span=(180, 192), match='800-555-4321'>, <_sre.SRE_Match object; span=(193, 205), match='900-455-4321'>]\n"
     ]
    }
   ],
   "source": [
    "print(list(re.finditer(r'\\d+[.-]\\d+[.-]\\d+', text_to_search)))   # using + for 1 or more digit"
   ]
  },
  {
   "cell_type": "code",
   "execution_count": 54,
   "metadata": {},
   "outputs": [
    {
     "name": "stdout",
     "output_type": "stream",
     "text": [
      "[<_sre.SRE_Match object; span=(207, 218), match='Mr. Sajeesh'>, <_sre.SRE_Match object; span=(219, 228), match='Mr Makbul'>, <_sre.SRE_Match object; span=(252, 257), match='Mr. T'>]\n"
     ]
    }
   ],
   "source": [
    "print(list(re.finditer(r'Mr\\.?\\s[A-Z]\\w*', text_to_search)))  #  \\w* for word character for zero or more after 1 upper case letter"
   ]
  },
  {
   "cell_type": "code",
   "execution_count": 57,
   "metadata": {},
   "outputs": [
    {
     "name": "stdout",
     "output_type": "stream",
     "text": [
      "[<_sre.SRE_Match object; span=(207, 218), match='Mr. Sajeesh'>, <_sre.SRE_Match object; span=(219, 228), match='Mr Makbul'>]\n"
     ]
    }
   ],
   "source": [
    "print(list(re.finditer(r'Mr\\.?\\s[A-Z]\\w+', text_to_search))) # \\w+ for word character 1 or more after an upper case letter"
   ]
  },
  {
   "cell_type": "code",
   "execution_count": 59,
   "metadata": {},
   "outputs": [
    {
     "name": "stdout",
     "output_type": "stream",
     "text": [
      "[<_sre.SRE_Match object; span=(207, 218), match='Mr. Sajeesh'>, <_sre.SRE_Match object; span=(219, 228), match='Mr Makbul'>, <_sre.SRE_Match object; span=(229, 237), match='Ms Davis'>, <_sre.SRE_Match object; span=(252, 257), match='Mr. T'>]\n"
     ]
    }
   ],
   "source": [
    "#groups\n",
    "print(list(re.finditer(r'M(r|s)\\.?\\s[A-Z]\\w*', text_to_search)))  #  () use to create groups and | represents or"
   ]
  },
  {
   "cell_type": "code",
   "execution_count": 61,
   "metadata": {},
   "outputs": [
    {
     "name": "stdout",
     "output_type": "stream",
     "text": [
      "[<_sre.SRE_Match object; span=(207, 218), match='Mr. Sajeesh'>, <_sre.SRE_Match object; span=(219, 228), match='Mr Makbul'>, <_sre.SRE_Match object; span=(229, 237), match='Ms Davis'>, <_sre.SRE_Match object; span=(238, 251), match='Mrs. Robinson'>, <_sre.SRE_Match object; span=(252, 257), match='Mr. T'>]\n"
     ]
    }
   ],
   "source": [
    "print(list(re.finditer(r'M(r|s|rs)\\.?\\s[A-Z]\\w*', text_to_search)))   #  () use to create groups and | represents or"
   ]
  },
  {
   "cell_type": "code",
   "execution_count": 65,
   "metadata": {},
   "outputs": [
    {
     "name": "stdout",
     "output_type": "stream",
     "text": [
      "[<_sre.SRE_Match object; span=(259, 273), match='sree@gmail.com'>]\n"
     ]
    }
   ],
   "source": [
    "#e-mail checking\n",
    "print(list(re.finditer(r'[A-Za-z]+@[A-Za-z]+\\.com', text_to_search)))  #find only e-mail ending with .com"
   ]
  },
  {
   "cell_type": "code",
   "execution_count": 69,
   "metadata": {},
   "outputs": [
    {
     "name": "stdout",
     "output_type": "stream",
     "text": [
      "[<_sre.SRE_Match object; span=(259, 273), match='sree@gmail.com'>, <_sre.SRE_Match object; span=(274, 286), match='mak@yahoo.in'>, <_sre.SRE_Match object; span=(287, 304), match='saj@microsoft.org'>]\n"
     ]
    }
   ],
   "source": [
    "print(list(re.finditer(r'\\w+@\\w+\\.(com|in|net|org)', text_to_search)))  #\\w will include A-Za-z0-9_"
   ]
  },
  {
   "cell_type": "code",
   "execution_count": 68,
   "metadata": {},
   "outputs": [
    {
     "name": "stdout",
     "output_type": "stream",
     "text": [
      "[<_sre.SRE_Match object; span=(259, 271), match='sree@gmail.c'>, <_sre.SRE_Match object; span=(274, 285), match='mak@yahoo.i'>, <_sre.SRE_Match object; span=(287, 302), match='saj@microsoft.o'>]\n"
     ]
    }
   ],
   "source": [
    "#general e-mail search\n",
    "print(list(re.finditer(r'[A-Za-z0-9_.+-]+@[A-Za-z0-9_.+-]+\\.[a-zA-Z0-9-.]', text_to_search)))"
   ]
  },
  {
   "cell_type": "code",
   "execution_count": 70,
   "metadata": {},
   "outputs": [],
   "source": [
    "urls = '''\n",
    "https://google.com\n",
    "http://coreyms.com\n",
    "https://youtube.com\n",
    "https://www.nasa.gov\n",
    "'''"
   ]
  },
  {
   "cell_type": "code",
   "execution_count": 71,
   "metadata": {},
   "outputs": [
    {
     "name": "stdout",
     "output_type": "stream",
     "text": [
      "[<_sre.SRE_Match object; span=(1, 6), match='https'>, <_sre.SRE_Match object; span=(20, 24), match='http'>, <_sre.SRE_Match object; span=(39, 44), match='https'>, <_sre.SRE_Match object; span=(59, 64), match='https'>]\n"
     ]
    }
   ],
   "source": [
    "print(list(re.finditer(r'https?', urls)))   # ? makes 's' optional (zero or 1)"
   ]
  },
  {
   "cell_type": "code",
   "execution_count": 72,
   "metadata": {},
   "outputs": [
    {
     "name": "stdout",
     "output_type": "stream",
     "text": [
      "[<_sre.SRE_Match object; span=(1, 19), match='https://google.com'>, <_sre.SRE_Match object; span=(20, 38), match='http://coreyms.com'>, <_sre.SRE_Match object; span=(39, 58), match='https://youtube.com'>, <_sre.SRE_Match object; span=(59, 79), match='https://www.nasa.gov'>]\n"
     ]
    }
   ],
   "source": [
    "print(list(re.finditer(r'https?://(www\\.)?\\w+\\.\\w+', urls)))"
   ]
  },
  {
   "cell_type": "code",
   "execution_count": 90,
   "metadata": {},
   "outputs": [
    {
     "name": "stdout",
     "output_type": "stream",
     "text": [
      "[<_sre.SRE_Match object; span=(1, 19), match='https://google.com'>, <_sre.SRE_Match object; span=(20, 38), match='http://coreyms.com'>, <_sre.SRE_Match object; span=(39, 58), match='https://youtube.com'>, <_sre.SRE_Match object; span=(59, 79), match='https://www.nasa.gov'>]\n"
     ]
    }
   ],
   "source": [
    "print(list(re.finditer(r'https?://(www\\.)?(\\w+)(\\.\\w+)', urls)))   # adding groups with ()\n",
    "\n",
    "#group zero will the complete urls. group 1, 2, 3 will be in the order of ()"
   ]
  },
  {
   "cell_type": "code",
   "execution_count": 100,
   "metadata": {},
   "outputs": [],
   "source": [
    "pattern = re.compile(r'https?://(www\\.)?(\\w+)(\\.\\w+)')\n",
    "matches = pattern.finditer(urls)"
   ]
  },
  {
   "cell_type": "code",
   "execution_count": 92,
   "metadata": {},
   "outputs": [
    {
     "name": "stdout",
     "output_type": "stream",
     "text": [
      "https://google.com\n",
      "http://coreyms.com\n",
      "https://youtube.com\n",
      "https://www.nasa.gov\n"
     ]
    }
   ],
   "source": [
    "for i in matches:\n",
    "    print(i.group(0))  # group 0 prints complete text identified by regex"
   ]
  },
  {
   "cell_type": "code",
   "execution_count": 97,
   "metadata": {},
   "outputs": [
    {
     "name": "stdout",
     "output_type": "stream",
     "text": [
      "None\n",
      "None\n",
      "None\n",
      "www.\n"
     ]
    }
   ],
   "source": [
    "for i in matches:\n",
    "    print(i.group(1))"
   ]
  },
  {
   "cell_type": "code",
   "execution_count": 99,
   "metadata": {},
   "outputs": [
    {
     "name": "stdout",
     "output_type": "stream",
     "text": [
      "google\n",
      "coreyms\n",
      "youtube\n",
      "nasa\n"
     ]
    }
   ],
   "source": [
    "for i in matches:\n",
    "    print(i.group(2))"
   ]
  },
  {
   "cell_type": "code",
   "execution_count": 101,
   "metadata": {},
   "outputs": [
    {
     "name": "stdout",
     "output_type": "stream",
     "text": [
      ".com\n",
      ".com\n",
      ".com\n",
      ".gov\n"
     ]
    }
   ],
   "source": [
    "for i in matches:\n",
    "    print(i.group(3))"
   ]
  },
  {
   "cell_type": "code",
   "execution_count": 102,
   "metadata": {},
   "outputs": [
    {
     "name": "stdout",
     "output_type": "stream",
     "text": [
      "\n",
      "google.com\n",
      "coreyms.com\n",
      "youtube.com\n",
      "nasa.gov\n",
      "\n"
     ]
    }
   ],
   "source": [
    "pattern = re.compile(r'https?://(www\\.)?(\\w+)(\\.\\w+)')\n",
    "subbed_urls = pattern.sub(r'\\2\\3', urls)   # group 2 and group3 from pattern used and reated subbed_url.\n",
    "print(subbed_urls)"
   ]
  },
  {
   "cell_type": "code",
   "execution_count": 106,
   "metadata": {},
   "outputs": [
    {
     "name": "stdout",
     "output_type": "stream",
     "text": [
      "['Mr.', 'Mr ', 'Mrs', 'Mr.']\n",
      "['Mr.', 'Mr.']\n"
     ]
    }
   ],
   "source": [
    "print(re.findall(r'Mr.', text_to_search))  #filell method\n",
    "print(re.findall(r'Mr\\.', text_to_search))"
   ]
  },
  {
   "cell_type": "code",
   "execution_count": 107,
   "metadata": {},
   "outputs": [
    {
     "data": {
      "text/plain": [
       "'Start a sentence and bring it to an end'"
      ]
     },
     "execution_count": 107,
     "metadata": {},
     "output_type": "execute_result"
    }
   ],
   "source": [
    "sentence"
   ]
  },
  {
   "cell_type": "code",
   "execution_count": 108,
   "metadata": {},
   "outputs": [],
   "source": [
    "#match method: \n",
    "re.match(r'a', sentence)"
   ]
  },
  {
   "cell_type": "code",
   "execution_count": 109,
   "metadata": {},
   "outputs": [
    {
     "data": {
      "text/plain": [
       "<_sre.SRE_Match object; span=(0, 5), match='Start'>"
      ]
     },
     "execution_count": 109,
     "metadata": {},
     "output_type": "execute_result"
    }
   ],
   "source": [
    "re.match(r'Start', sentence)  # matches only the word in beginning of the string"
   ]
  },
  {
   "cell_type": "code",
   "execution_count": 115,
   "metadata": {},
   "outputs": [
    {
     "name": "stdout",
     "output_type": "stream",
     "text": [
      "['Start']\n"
     ]
    }
   ],
   "source": [
    "# flag\n",
    "pattern = re.compile(r'stArT', re.IGNORECASE)   # re.IGNORECASE for ignoring case sensitive search (short form is re.I)\n",
    "match = pattern.findall(sentence)\n",
    "print(list(match))"
   ]
  },
  {
   "cell_type": "code",
   "execution_count": 116,
   "metadata": {},
   "outputs": [
    {
     "name": "stdout",
     "output_type": "stream",
     "text": [
      "['Start']\n"
     ]
    }
   ],
   "source": [
    "pattern = re.compile(r'stArT', re.I)   # re.I for ignoring case sensitive search\n",
    "match = pattern.findall(sentence)\n",
    "print(list(match))"
   ]
  },
  {
   "cell_type": "code",
   "execution_count": null,
   "metadata": {},
   "outputs": [],
   "source": [
    "# # re.  options\n",
    "# match     Match a regular expression pattern to the beginning of a string.\n",
    "#     fullmatch Match a regular expression pattern to all of a string.\n",
    "#     search    Search a string for the presence of a pattern.\n",
    "#     sub       Substitute occurrences of a pattern found in a string.\n",
    "#     subn      Same as sub, but also return the number of substitutions made.\n",
    "#     split     Split a string by the occurrences of a pattern.\n",
    "#     findall   Find all occurrences of a pattern in a string.\n",
    "#     finditer  Return an iterator yielding a match object for each match.\n",
    "#     compile   Compile a pattern into a RegexObject.\n",
    "#     purge     Clear the regular expression cache.\n",
    "#     escape    Backslash all non-alphanumerics in a string.\n",
    "\n",
    "# Some of the functions in this module takes flags as optional parameters:\n",
    "#     A  ASCII       For string patterns, make \\w, \\W, \\b, \\B, \\d, \\D\n",
    "#                    match the corresponding ASCII character categories\n",
    "#                    (rather than the whole Unicode categories, which is the\n",
    "#                    default).\n",
    "#                    For bytes patterns, this flag is the only available\n",
    "#                    behaviour and needn't be specified.\n",
    "#     I  IGNORECASE  Perform case-insensitive matching.\n",
    "#     L  LOCALE      Make \\w, \\W, \\b, \\B, dependent on the current locale.\n",
    "#     M  MULTILINE   \"^\" matches the beginning of lines (after a newline)\n",
    "#                    as well as the string.\n",
    "#                    \"$\" matches the end of lines (before a newline) as well\n",
    "#                    as the end of the string.\n",
    "#     S  DOTALL      \".\" matches any character at all, including the newline.\n",
    "#     X  VERBOSE     Ignore whitespace and comments for nicer looking RE's.\n",
    "#     U  UNICODE     For compatibility only. Ignored for string patterns (it\n",
    "#                    is the default), and forbidden for bytes patterns."
   ]
  }
 ],
 "metadata": {
  "kernelspec": {
   "display_name": "Python 3",
   "language": "python",
   "name": "python3"
  },
  "language_info": {
   "codemirror_mode": {
    "name": "ipython",
    "version": 3
   },
   "file_extension": ".py",
   "mimetype": "text/x-python",
   "name": "python",
   "nbconvert_exporter": "python",
   "pygments_lexer": "ipython3",
   "version": "3.6.5"
  }
 },
 "nbformat": 4,
 "nbformat_minor": 2
}
