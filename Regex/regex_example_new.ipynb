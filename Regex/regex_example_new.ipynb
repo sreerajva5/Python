{
 "cells": [
  {
   "cell_type": "code",
   "execution_count": 1,
   "metadata": {},
   "outputs": [],
   "source": [
    "import re"
   ]
  },
  {
   "cell_type": "code",
   "execution_count": 2,
   "metadata": {},
   "outputs": [],
   "source": [
    "s = '''TCP_80,,UDP_89-90,FTP_66\n",
    "TCP_80,UDP_89-90,FTP\n",
    "UDP_80,TCP_89-90,FTP\n",
    "UDP_80-90,TCP_89-90,FTP'''\n",
    "s1 = 'TCP_80,UDP_89-90,FTP_66'"
   ]
  },
  {
   "cell_type": "code",
   "execution_count": 3,
   "metadata": {},
   "outputs": [
    {
     "data": {
      "text/plain": [
       "<callable_iterator at 0x271dce97748>"
      ]
     },
     "execution_count": 3,
     "metadata": {},
     "output_type": "execute_result"
    }
   ],
   "source": [
    "re.finditer(r'\\b(TCP|UDP)_(\\d+[-\\d+]),(TCP|UDP)_(\\d+[-\\d+]),(\\w+)(\\d+)?\\b', s1)"
   ]
  },
  {
   "cell_type": "code",
   "execution_count": 5,
   "metadata": {},
   "outputs": [
    {
     "name": "stdout",
     "output_type": "stream",
     "text": [
      "True\n"
     ]
    }
   ],
   "source": [
    "if re.finditer(r'\\b(TCP|UDP)_(\\d+[-\\d+]),(TCP|UDP)_(\\d+[-\\d+]),(\\w+)(\\d+)?\\b', s1):\n",
    "    print('True')\n",
    "else:\n",
    "    print('False')"
   ]
  },
  {
   "cell_type": "code",
   "execution_count": 6,
   "metadata": {},
   "outputs": [
    {
     "name": "stdout",
     "output_type": "stream",
     "text": [
      "True\n"
     ]
    }
   ],
   "source": [
    "if re.findall(r'(TCP|UDP)_(\\d+[-\\d+]),(TCP|UDP)_(\\d+\\-\\d+),FTP(_\\d+)?', s1):\n",
    "    print('True')\n",
    "else:\n",
    "    print('False')"
   ]
  },
  {
   "cell_type": "code",
   "execution_count": 7,
   "metadata": {},
   "outputs": [
    {
     "name": "stdout",
     "output_type": "stream",
     "text": [
      "True\n"
     ]
    }
   ],
   "source": [
    "if re.findall(r'(TCP|UDP)_(\\d+[-\\d+]),(TCP|UDP)_(\\d+\\-\\d+),FTP(_\\d+)?', s):\n",
    "    print(True)"
   ]
  },
  {
   "cell_type": "code",
   "execution_count": 8,
   "metadata": {},
   "outputs": [],
   "source": [
    "s2 = 'FTP,UDP_90-98'"
   ]
  },
  {
   "cell_type": "code",
   "execution_count": 9,
   "metadata": {},
   "outputs": [
    {
     "name": "stdout",
     "output_type": "stream",
     "text": [
      "True\n"
     ]
    }
   ],
   "source": [
    "if re.search(r'(TCP|UDP|FTP)_?(\\d+[-\\d+])?,(TCP|UDP)_(\\d+\\-\\d+),?(FTP)?(_\\d+)?', s2):\n",
    "    print(True)"
   ]
  },
  {
   "cell_type": "code",
   "execution_count": null,
   "metadata": {},
   "outputs": [],
   "source": []
  }
 ],
 "metadata": {
  "kernelspec": {
   "display_name": "Python 3",
   "language": "python",
   "name": "python3"
  },
  "language_info": {
   "codemirror_mode": {
    "name": "ipython",
    "version": 3
   },
   "file_extension": ".py",
   "mimetype": "text/x-python",
   "name": "python",
   "nbconvert_exporter": "python",
   "pygments_lexer": "ipython3",
   "version": "3.6.5"
  }
 },
 "nbformat": 4,
 "nbformat_minor": 2
}
