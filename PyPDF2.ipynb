{
 "cells": [
  {
   "cell_type": "code",
   "execution_count": 1,
   "metadata": {},
   "outputs": [],
   "source": [
    "import PyPDF2"
   ]
  },
  {
   "cell_type": "code",
   "execution_count": 2,
   "metadata": {},
   "outputs": [],
   "source": [
    "file = open(r'C:\\Users\\sreer\\OneDrive\\Documents\\dummy_pdf_file.pdf', 'rb')"
   ]
  },
  {
   "cell_type": "code",
   "execution_count": 3,
   "metadata": {},
   "outputs": [],
   "source": [
    "pdf_reader = PyPDF2.PdfFileReader(file)"
   ]
  },
  {
   "cell_type": "code",
   "execution_count": 4,
   "metadata": {},
   "outputs": [
    {
     "data": {
      "text/plain": [
       "3"
      ]
     },
     "execution_count": 4,
     "metadata": {},
     "output_type": "execute_result"
    }
   ],
   "source": [
    "# number of pages\n",
    "\n",
    "pdf_reader.numPages"
   ]
  },
  {
   "cell_type": "code",
   "execution_count": 5,
   "metadata": {},
   "outputs": [],
   "source": [
    "text_page1 = pdf_reader.getPage(0)"
   ]
  },
  {
   "cell_type": "code",
   "execution_count": 6,
   "metadata": {},
   "outputs": [
    {
     "data": {
      "text/plain": [
       "'The standard Lorem Ipsum passage, used since the 1500s\\n \\n\"Lorem ipsum dolor sit amet, consectetur adipiscing elit, sed do eiusmod tempor incididunt ut \\nlabore et dolore magna aliqua. Ut enim ad minim veniam, quis nostrud exercitation ullamco laboris \\nnisi ut aliquip ex ea commodo consequat. Duis aute irure dolor i\\nn reprehenderit in voluptate velit \\nesse cillum dolore eu fugiat nulla pariatur. Excepteur sint occaecat cupidatat non proident, sunt in \\nculpa qui officia deserunt mollit anim id est laborum.\"\\n \\n \\nSection 1.10.32 of \"de Finibus Bonorum et Malorum\", written by \\nCicero in 45 BC\\n \\n\"Sed ut perspiciatis unde omnis iste natus error sit voluptatem accusantium doloremque \\nlaudantium, totam rem aperiam, eaque ipsa quae ab illo inventore veritatis et quasi architecto \\nbeatae vitae dicta sunt explicabo. Nemo enim ipsam volupta\\ntem quia voluptas sit aspernatur aut \\nodit aut fugit, sed quia consequuntur magni dolores eos qui ratione voluptatem sequi nesciunt. \\nNeque porro quisquam est, qui dolorem ipsum quia dolor sit amet, consectetur, adipisci velit, sed \\nquia non numquam eius modi\\n \\ntempora incidunt ut labore et dolore magnam aliquam quaerat \\nvoluptatem. Ut enim ad minima veniam, quis nostrum exercitationem ullam corporis suscipit \\nlaboriosam, nisi ut aliquid ex ea commodi consequatur? Quis autem vel eum iure reprehenderit qui \\nin ea vo\\nluptate velit esse quam nihil molestiae consequatur, vel illum qui dolorem eum fugiat quo \\nvoluptas nulla pariatur?\"\\n \\n \\n1914 translation by H. Rackham\\n \\n\"But I must explain to you how all this mistaken idea of denouncing pleasure and praising pain was \\nborn and \\nI will give you a complete account of the system, and expound the actual teachings of the \\ngreat explorer of the truth, the master\\n-\\nbuilder of human happiness. No one rejects, dislikes, or \\navoids pleasure itself, because it is pleasure, but because those who\\n \\ndo not know how to pursue \\npleasure rationally encounter consequences that are extremely painful. Nor again is there anyone \\nwho loves or pursues or desires to obtain pain of itself, because it is pain, but because occasionally \\ncircumstances occur in which \\ntoil and pain can procure him some great pleasure. To take a trivial \\nexample, which of us ever undertakes laborious physical exercise, except to obtain some advantage \\nfrom it? But who has any right to find fault with a man who chooses to enjoy a pleasure t\\nhat has no \\nannoying consequences, or one who avoids a pain that produces no resultant pleasure?\"\\n \\n \\nSection 1.10.33 of \"de Finibus Bonorum et Malorum\", written by Cicero in 45 BC\\n \\n\"At vero eos et accusamus et iusto odio dignissimos ducimus qui blanditiis prae\\nsentium voluptatum \\ndeleniti atque corrupti quos dolores et quas molestias excepturi sint occaecati cupiditate non \\nprovident, similique sunt in culpa qui officia deserunt mollitia animi, id est laborum et dolorum fuga. \\nEt harum quidem rerum facilis est et e\\nxpedita distinctio. Nam libero tempore, cum soluta nobis est \\neligendi optio cumque nihil impedit quo minus id quod maxime placeat facere possimus, omnis \\nvoluptas assumenda est, omnis dolor repellendus. Temporibus autem quibusdam et aut officiis \\ndebitis aut\\n \\nrerum necessitatibus saepe eveniet ut et voluptates repudiandae sint et molestiae non \\nrecusandae. Itaque earum rerum hic tenetur a sapiente delectus, ut aut reiciendis voluptatibus \\nmaiores alias consequatur aut perferendis doloribus asperiores repellat.\"\\n \\n \\n'"
      ]
     },
     "execution_count": 6,
     "metadata": {},
     "output_type": "execute_result"
    }
   ],
   "source": [
    "text_page1.extractText()  # texr of page1 in pdf file"
   ]
  },
  {
   "cell_type": "code",
   "execution_count": 7,
   "metadata": {},
   "outputs": [],
   "source": [
    "file.close()"
   ]
  },
  {
   "cell_type": "code",
   "execution_count": 8,
   "metadata": {},
   "outputs": [],
   "source": [
    "file = open(r'C:\\Users\\sreer\\OneDrive\\Documents\\dummy_pdf_file.pdf', 'rb')"
   ]
  },
  {
   "cell_type": "code",
   "execution_count": 9,
   "metadata": {},
   "outputs": [],
   "source": [
    "content = PyPDF2.PdfFileReader(file)"
   ]
  },
  {
   "cell_type": "code",
   "execution_count": 10,
   "metadata": {},
   "outputs": [],
   "source": [
    "page1 = content.getPage(0)  # extracting page1 from the pdf file"
   ]
  },
  {
   "cell_type": "code",
   "execution_count": 12,
   "metadata": {},
   "outputs": [],
   "source": [
    "pdf_writer = PyPDF2.PdfFileWriter() # writer object"
   ]
  },
  {
   "cell_type": "code",
   "execution_count": 13,
   "metadata": {},
   "outputs": [],
   "source": [
    "pdf_writer.addPage(page1)"
   ]
  },
  {
   "cell_type": "code",
   "execution_count": 14,
   "metadata": {},
   "outputs": [],
   "source": [
    "out_pdf = open(r'C:\\Users\\sreer\\OneDrive\\Documents\\new_pdf_write.pdf', 'wb')\n",
    "pdf_writer.write(out_pdf)"
   ]
  },
  {
   "cell_type": "code",
   "execution_count": 15,
   "metadata": {},
   "outputs": [],
   "source": [
    "file.close()"
   ]
  },
  {
   "cell_type": "code",
   "execution_count": 18,
   "metadata": {},
   "outputs": [],
   "source": [
    "out_pdf.close()"
   ]
  },
  {
   "cell_type": "code",
   "execution_count": 19,
   "metadata": {},
   "outputs": [],
   "source": [
    "# creating new psd and writing content\n",
    "\n",
    "file = open(r'C:\\Users\\sreer\\OneDrive\\Documents\\dummy_pdf_file.pdf', 'rb')\n",
    "content = PyPDF2.PdfFileReader(file)\n",
    "page1 = content.getPage(0)\n",
    "out_pdf = open(r'C:\\Users\\sreer\\OneDrive\\Documents\\new_pdf_write.pdf', 'wb')\n",
    "pdf_writer.write(out_pdf)\n",
    "file.close()\n",
    "out_pdf.close()"
   ]
  },
  {
   "cell_type": "code",
   "execution_count": 21,
   "metadata": {},
   "outputs": [
    {
     "name": "stdout",
     "output_type": "stream",
     "text": [
      "['The standard Lorem Ipsum passage, used since the 1500s\\n \\n\"Lorem ipsum dolor sit amet, consectetur adipiscing elit, sed do eiusmod tempor incididunt ut \\nlabore et dolore magna aliqua. Ut enim ad minim veniam, quis nostrud exercitation ullamco laboris \\nnisi ut aliquip ex ea commodo consequat. Duis aute irure dolor i\\nn reprehenderit in voluptate velit \\nesse cillum dolore eu fugiat nulla pariatur. Excepteur sint occaecat cupidatat non proident, sunt in \\nculpa qui officia deserunt mollit anim id est laborum.\"\\n \\n \\nSection 1.10.32 of \"de Finibus Bonorum et Malorum\", written by \\nCicero in 45 BC\\n \\n\"Sed ut perspiciatis unde omnis iste natus error sit voluptatem accusantium doloremque \\nlaudantium, totam rem aperiam, eaque ipsa quae ab illo inventore veritatis et quasi architecto \\nbeatae vitae dicta sunt explicabo. Nemo enim ipsam volupta\\ntem quia voluptas sit aspernatur aut \\nodit aut fugit, sed quia consequuntur magni dolores eos qui ratione voluptatem sequi nesciunt. \\nNeque porro quisquam est, qui dolorem ipsum quia dolor sit amet, consectetur, adipisci velit, sed \\nquia non numquam eius modi\\n \\ntempora incidunt ut labore et dolore magnam aliquam quaerat \\nvoluptatem. Ut enim ad minima veniam, quis nostrum exercitationem ullam corporis suscipit \\nlaboriosam, nisi ut aliquid ex ea commodi consequatur? Quis autem vel eum iure reprehenderit qui \\nin ea vo\\nluptate velit esse quam nihil molestiae consequatur, vel illum qui dolorem eum fugiat quo \\nvoluptas nulla pariatur?\"\\n \\n \\n1914 translation by H. Rackham\\n \\n\"But I must explain to you how all this mistaken idea of denouncing pleasure and praising pain was \\nborn and \\nI will give you a complete account of the system, and expound the actual teachings of the \\ngreat explorer of the truth, the master\\n-\\nbuilder of human happiness. No one rejects, dislikes, or \\navoids pleasure itself, because it is pleasure, but because those who\\n \\ndo not know how to pursue \\npleasure rationally encounter consequences that are extremely painful. Nor again is there anyone \\nwho loves or pursues or desires to obtain pain of itself, because it is pain, but because occasionally \\ncircumstances occur in which \\ntoil and pain can procure him some great pleasure. To take a trivial \\nexample, which of us ever undertakes laborious physical exercise, except to obtain some advantage \\nfrom it? But who has any right to find fault with a man who chooses to enjoy a pleasure t\\nhat has no \\nannoying consequences, or one who avoids a pain that produces no resultant pleasure?\"\\n \\n \\nSection 1.10.33 of \"de Finibus Bonorum et Malorum\", written by Cicero in 45 BC\\n \\n\"At vero eos et accusamus et iusto odio dignissimos ducimus qui blanditiis prae\\nsentium voluptatum \\ndeleniti atque corrupti quos dolores et quas molestias excepturi sint occaecati cupiditate non \\nprovident, similique sunt in culpa qui officia deserunt mollitia animi, id est laborum et dolorum fuga. \\nEt harum quidem rerum facilis est et e\\nxpedita distinctio. Nam libero tempore, cum soluta nobis est \\neligendi optio cumque nihil impedit quo minus id quod maxime placeat facere possimus, omnis \\nvoluptas assumenda est, omnis dolor repellendus. Temporibus autem quibusdam et aut officiis \\ndebitis aut\\n \\nrerum necessitatibus saepe eveniet ut et voluptates repudiandae sint et molestiae non \\nrecusandae. Itaque earum rerum hic tenetur a sapiente delectus, ut aut reiciendis voluptatibus \\nmaiores alias consequatur aut perferendis doloribus asperiores repellat.\"\\n \\n \\n', '1914 translation by H. Rackham\\n \\n\"On the other hand, we denounce with righteous indignation and dislike men who are so beguiled \\nand demoralized by the charms of pleasure of the moment, so blinded by desire, that they cannot \\nforesee the pain and trouble that\\n \\nare bound to ensue; and equal blame belongs to those who fail in \\ntheir duty through weakness of will, which is the same as saying through shrinking from toil and \\npain. These cases are perfectly simple and easy to distinguish. In a free hour, when our powe\\nr of \\nchoice is untrammelled and when nothing prevents our being able to do what we like best, every \\npleasure is to be welcomed and every pain avoided. But in certain circumstances and owing to the \\nclaims of duty or the obligations of business it will frequ\\nently occur that pleasures have to be \\nrepudiated and annoyances accepted. The wise man therefore always holds in these matters to this \\nprinciple of selection: he rejects pleasures to secure other greater pleasures, or else he endures \\npains to avoid worse p\\nains.\"\\n \\n \\nDummy text\\n \\nA wonderful serenity has taken possession of my entire soul, like these sweet mornings of spring \\nwhich I enjoy with my whole heart. I am alone, and feel the charm of existence in this spot, which \\nwas created for the bliss of souls like m\\nine. I am so happy, my dear friend, so absorbed in the \\nexquisite sense of mere tranquil existence, that I neglect my talents. I should be incapable of \\ndrawing a single stroke at the present moment; and yet I feel that I never was a greater artist than \\nnow.\\n \\nWhen, while the lovely valley teems with vapour around me, and the meridian sun strikes the \\nupper surface of the impenetrable foliage of my trees, and but a few stray gleams steal into the \\ninner sanctuary, I throw myself down among the tall grass by the t\\nrickling stream; and, as I lie close \\nto the earth, a thousand unknown plants are noticed by me: when I hear the buzz of the little world \\namong the stalks, and grow familiar with the countless indescribable forms of the insects and flies, \\nthen I feel the pr\\nesence of the Almighty, who formed us in his own image, and the breath\\n \\nThundercats are on the move, Thundercats are loose. Feel the magic, hear the roar, Thundercats are \\nloose. Thunder, thunder, thunder, Thundercats! Thunder, thunder, thunder, Thundercats! \\nThunder, \\nthunder, thunder, Thundercats! Thunder, thunder, thunder, Thundercats! Thundercats!\\n \\n \\n\\n\\nquel Welch. But when I end up in the hay \\n\\nunknown stuntman that makes Eastwood look so fine.\\n \\n \\nKnight Rider, a shadowy flight into the dangerous world of a man who\\n \\ndoes not exist. Michael \\nKnight, a young loner on a crusade to champion the cause of the innocent, the helpless in a world of \\ncriminals who operate above the law.\\n \\n\\ne \\nmedals you wear on your moth\\n-\\neaten chest should be there for bungling at which you are best. So, \\nstop that pigeon, stop that pigeon, stop that pigeon, stop that pigeon, stop that pigeon, stop that \\npigeon, stop that pigeon. Howwww! Nab him, jab him, tab h\\nim, grab him, stop that pigeon now.\\n \\n \\n', 'This is my boss, Jonathan Hart, a self\\n-\\n\\n\\ncare of both of them, w\\n\\n \\n \\n\\n\\n \\n\\nn\\n\\naround the world. Round, all around the world. Round, all around the world.\\n \\n \\n\\n \\nmy body out for pay, hey \\n\\n\\nunknown stuntman that makes Eastwood\\n \\nlook so fine.\\n \\n \\n\\n\\nwith a Hong Kong Phooey chop (Hi\\n-\\nYa!). Hong \\nKong Phooey, number one super guy. Hong Kong \\n\\n-\\nriffic!\\n \\n']\n"
     ]
    }
   ],
   "source": [
    "# page by page content as list items\n",
    "\n",
    "file = open(r'C:\\Users\\sreer\\OneDrive\\Documents\\dummy_pdf_file.pdf', 'rb')\n",
    "pdf_reader = PyPDF2.PdfFileReader(file)\n",
    "\n",
    "content_list = []\n",
    "for i in range(pdf_reader.numPages):\n",
    "    page = pdf_reader.getPage(i)\n",
    "    content_list.append(page.extractText())\n",
    "\n",
    "file.close()\n",
    "print(content_list)"
   ]
  },
  {
   "cell_type": "code",
   "execution_count": null,
   "metadata": {},
   "outputs": [],
   "source": []
  }
 ],
 "metadata": {
  "kernelspec": {
   "display_name": "Python 3",
   "language": "python",
   "name": "python3"
  },
  "language_info": {
   "codemirror_mode": {
    "name": "ipython",
    "version": 3
   },
   "file_extension": ".py",
   "mimetype": "text/x-python",
   "name": "python",
   "nbconvert_exporter": "python",
   "pygments_lexer": "ipython3",
   "version": "3.8.5"
  }
 },
 "nbformat": 4,
 "nbformat_minor": 4
}
