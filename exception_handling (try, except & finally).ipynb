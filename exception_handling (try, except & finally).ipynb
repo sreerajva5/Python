{
 "cells": [
  {
   "cell_type": "markdown",
   "metadata": {},
   "source": [
    "## exception handling"
   ]
  },
  {
   "cell_type": "code",
   "execution_count": 1,
   "metadata": {},
   "outputs": [],
   "source": [
    "# helps to run the script, even if exception is there\n",
    "\n",
    "# we are doing the same with help of 3 different keywords (try, except, finally)"
   ]
  },
  {
   "cell_type": "code",
   "execution_count": 2,
   "metadata": {},
   "outputs": [],
   "source": [
    "# sample error case\n",
    "\n",
    "def divide(a,b):\n",
    "    return a/b\n",
    "\n",
    "# this function gives an error if b = 0, and it will not run any of the line after this function even if they are correct"
   ]
  },
  {
   "cell_type": "code",
   "execution_count": 3,
   "metadata": {},
   "outputs": [
    {
     "ename": "ZeroDivisionError",
     "evalue": "division by zero",
     "output_type": "error",
     "traceback": [
      "\u001b[1;31m---------------------------------------------------------------------------\u001b[0m",
      "\u001b[1;31mZeroDivisionError\u001b[0m                         Traceback (most recent call last)",
      "\u001b[1;32m<ipython-input-3-7bb1b938b3b6>\u001b[0m in \u001b[0;36m<module>\u001b[1;34m\u001b[0m\n\u001b[0;32m      1\u001b[0m \u001b[1;31m# example of error\u001b[0m\u001b[1;33m\u001b[0m\u001b[1;33m\u001b[0m\u001b[1;33m\u001b[0m\u001b[0m\n\u001b[0;32m      2\u001b[0m \u001b[1;33m\u001b[0m\u001b[0m\n\u001b[1;32m----> 3\u001b[1;33m \u001b[0mdivide\u001b[0m\u001b[1;33m(\u001b[0m\u001b[1;36m2\u001b[0m\u001b[1;33m,\u001b[0m\u001b[1;36m0\u001b[0m\u001b[1;33m)\u001b[0m\u001b[1;33m\u001b[0m\u001b[1;33m\u001b[0m\u001b[0m\n\u001b[0m\u001b[0;32m      4\u001b[0m \u001b[0mprint\u001b[0m\u001b[1;33m(\u001b[0m\u001b[1;34m'hello'\u001b[0m\u001b[1;33m)\u001b[0m\u001b[1;33m\u001b[0m\u001b[1;33m\u001b[0m\u001b[0m\n",
      "\u001b[1;32m<ipython-input-2-945d3c886031>\u001b[0m in \u001b[0;36mdivide\u001b[1;34m(a, b)\u001b[0m\n\u001b[0;32m      2\u001b[0m \u001b[1;33m\u001b[0m\u001b[0m\n\u001b[0;32m      3\u001b[0m \u001b[1;32mdef\u001b[0m \u001b[0mdivide\u001b[0m\u001b[1;33m(\u001b[0m\u001b[0ma\u001b[0m\u001b[1;33m,\u001b[0m\u001b[0mb\u001b[0m\u001b[1;33m)\u001b[0m\u001b[1;33m:\u001b[0m\u001b[1;33m\u001b[0m\u001b[1;33m\u001b[0m\u001b[0m\n\u001b[1;32m----> 4\u001b[1;33m     \u001b[1;32mreturn\u001b[0m \u001b[0ma\u001b[0m\u001b[1;33m/\u001b[0m\u001b[0mb\u001b[0m\u001b[1;33m\u001b[0m\u001b[1;33m\u001b[0m\u001b[0m\n\u001b[0m\u001b[0;32m      5\u001b[0m \u001b[1;33m\u001b[0m\u001b[0m\n\u001b[0;32m      6\u001b[0m \u001b[1;31m# this function gives an error if b = 0, and it will not run any of the line after this function even if they are correct\u001b[0m\u001b[1;33m\u001b[0m\u001b[1;33m\u001b[0m\u001b[1;33m\u001b[0m\u001b[0m\n",
      "\u001b[1;31mZeroDivisionError\u001b[0m: division by zero"
     ]
    }
   ],
   "source": [
    "# example of error\n",
    "\n",
    "divide(2,0)\n",
    "print('hello')\n",
    "\n",
    "# hello is not printing because of the error"
   ]
  },
  {
   "cell_type": "markdown",
   "metadata": {},
   "source": [
    "#### try except"
   ]
  },
  {
   "cell_type": "code",
   "execution_count": 5,
   "metadata": {},
   "outputs": [
    {
     "name": "stdout",
     "output_type": "stream",
     "text": [
      "this is an exception error message\n"
     ]
    }
   ],
   "source": [
    "# here is the importance of try, except. format is\n",
    "\n",
    "try:\n",
    "    # want to attempt this code\n",
    "    # may have an error\n",
    "    print(10+'10')\n",
    "except:\n",
    "    print('this is an exception error message')  # excepted the error and printed the message"
   ]
  },
  {
   "cell_type": "markdown",
   "metadata": {},
   "source": [
    "### try except else"
   ]
  },
  {
   "cell_type": "code",
   "execution_count": 6,
   "metadata": {},
   "outputs": [
    {
     "name": "stdout",
     "output_type": "stream",
     "text": [
      "add executed without error\n",
      "value of x is 20\n"
     ]
    }
   ],
   "source": [
    "# we can use try, except, else also... if code under try went well, it will not execute except, will execute else\n",
    "\n",
    "try:\n",
    "    # want to attempt this code\n",
    "    # may have an error\n",
    "    x = 10 + 10\n",
    "except:\n",
    "    print('this is an exception error message')\n",
    "else:\n",
    "    print('add executed without error')\n",
    "    print(f'value of x is {x}')           # else is executing as code under try executed without error"
   ]
  },
  {
   "cell_type": "markdown",
   "metadata": {},
   "source": [
    "### excepting particular errors & finally"
   ]
  },
  {
   "cell_type": "code",
   "execution_count": 8,
   "metadata": {},
   "outputs": [
    {
     "name": "stdout",
     "output_type": "stream",
     "text": [
      "Its an OSError\n",
      "finally runs anyway\n"
     ]
    }
   ],
   "source": [
    "try:\n",
    "    f = open(r'C:\\Users\\sreeraj.va\\Documents\\com.txt', 'r')\n",
    "    f.write('write a test line')\n",
    "except TypeError:\n",
    "    print('its a TypeError')   # there is no type error. so this is not executed\n",
    "except OSError:\n",
    "    print('Its an OSError')  # this runs, as its actually a OS error\n",
    "finally:\n",
    "    print('finally runs anyway')  # finally runs even if except runs or not"
   ]
  },
  {
   "cell_type": "code",
   "execution_count": 11,
   "metadata": {},
   "outputs": [
    {
     "name": "stdout",
     "output_type": "stream",
     "text": [
      "print for any other exceptions\n",
      "finally runs anyway\n"
     ]
    }
   ],
   "source": [
    "# particular error and all other exceptions\n",
    "\n",
    "try:\n",
    "    f = open(r'C:\\Users\\sreeraj.va\\Documents\\com.txt', 'r')\n",
    "    f.write('write a test line')\n",
    "except TypeError:\n",
    "    print('its a TypeError')   # there is no type error. so this is not executed\n",
    "except:\n",
    "    print('print for any other exceptions')  # all other exceptions\n",
    "finally:\n",
    "    print('finally runs anyway')  # finally runs even if except runs or not"
   ]
  },
  {
   "cell_type": "markdown",
   "metadata": {},
   "source": [
    "### try, except, finally inside function"
   ]
  },
  {
   "cell_type": "code",
   "execution_count": 17,
   "metadata": {},
   "outputs": [],
   "source": [
    "def ask_for_int():\n",
    "    try:\n",
    "        n = int(input(\"Please provide number : \"))\n",
    "    except:\n",
    "        print('Woops! its not a number')\n",
    "    finally:\n",
    "        print('end of try, except, finally')"
   ]
  },
  {
   "cell_type": "code",
   "execution_count": 14,
   "metadata": {},
   "outputs": [
    {
     "name": "stdout",
     "output_type": "stream",
     "text": [
      "Please provide number : 20\n",
      "end of try, except, finally\n"
     ]
    }
   ],
   "source": [
    "ask_for_int()"
   ]
  },
  {
   "cell_type": "code",
   "execution_count": 15,
   "metadata": {},
   "outputs": [
    {
     "name": "stdout",
     "output_type": "stream",
     "text": [
      "Please provide number : s\n",
      "Woops! its not a number\n",
      "end of try, except, finally\n"
     ]
    }
   ],
   "source": [
    "ask_for_int()"
   ]
  },
  {
   "cell_type": "code",
   "execution_count": 18,
   "metadata": {},
   "outputs": [],
   "source": [
    "## fine tune the function\n",
    "\n",
    "def ask_for_int2():\n",
    "    while True:\n",
    "        try:\n",
    "            n = int(input(\"Please provide number : \"))\n",
    "        except:\n",
    "            print('Woops! its not a number')\n",
    "            continue\n",
    "        else:\n",
    "            print('thanks for the input')\n",
    "            break\n",
    "        finally:\n",
    "            print('finally anyway runs at the end')"
   ]
  },
  {
   "cell_type": "code",
   "execution_count": 19,
   "metadata": {},
   "outputs": [
    {
     "name": "stdout",
     "output_type": "stream",
     "text": [
      "Please provide number : 1\n",
      "thanks for the input\n",
      "finally anyway runs at the end\n"
     ]
    }
   ],
   "source": [
    "ask_for_int2()"
   ]
  },
  {
   "cell_type": "code",
   "execution_count": 20,
   "metadata": {},
   "outputs": [
    {
     "name": "stdout",
     "output_type": "stream",
     "text": [
      "Please provide number : a\n",
      "Woops! its not a number\n",
      "finally anyway runs at the end\n",
      "Please provide number : b\n",
      "Woops! its not a number\n",
      "finally anyway runs at the end\n",
      "Please provide number : 2\n",
      "thanks for the input\n",
      "finally anyway runs at the end\n"
     ]
    }
   ],
   "source": [
    "ask_for_int2()"
   ]
  },
  {
   "cell_type": "code",
   "execution_count": null,
   "metadata": {},
   "outputs": [],
   "source": []
  }
 ],
 "metadata": {
  "kernelspec": {
   "display_name": "Python 3",
   "language": "python",
   "name": "python3"
  },
  "language_info": {
   "codemirror_mode": {
    "name": "ipython",
    "version": 3
   },
   "file_extension": ".py",
   "mimetype": "text/x-python",
   "name": "python",
   "nbconvert_exporter": "python",
   "pygments_lexer": "ipython3",
   "version": "3.6.9"
  }
 },
 "nbformat": 4,
 "nbformat_minor": 2
}
