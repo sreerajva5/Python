{
 "cells": [
  {
   "cell_type": "code",
   "execution_count": 1,
   "metadata": {},
   "outputs": [],
   "source": [
    "# create a Employee class. class variables - company name, instance variables- name, emp code, dept, designation, salary, age\n",
    "# performance_validation, promotion, transfer"
   ]
  },
  {
   "cell_type": "code",
   "execution_count": 14,
   "metadata": {},
   "outputs": [],
   "source": [
    "designations = ['Asso', 'Exe', 'Sr Exe', 'Assist. manager', 'Deputy Manager', 'Manager', 'Sr Manager']\n",
    "office_branches = ['a', 'b', 'c', 'd', 'e']\n",
    "import random\n",
    "class Employee:\n",
    "    \n",
    "    company_name = 'X'\n",
    "    \n",
    "    \n",
    "    \n",
    "    def __init__(self, name, emp_code, dept, designation):\n",
    "        self.name = name\n",
    "        self.emp_code = emp_code\n",
    "        self.dept = dept\n",
    "        self.designation = designation\n",
    "        self.office_branch = 'a'\n",
    "        \n",
    "    def performance_validation(self, score):\n",
    "        '''score is a integer with min value zero and max value 5\n",
    "        5 : very good, 4: good, 3: ok, below 3 : to be improved'''\n",
    "        if score == 5:\n",
    "            print('Very Good Performance')\n",
    "        elif score == 4:\n",
    "            print('Good Performance')\n",
    "        elif score == 3:\n",
    "            print('OK. Do hard wrok and improve.')\n",
    "        elif score < 3:\n",
    "            print('Sorry! You have improve a lot.')\n",
    "            \n",
    "    def promotion(self, score):\n",
    "        if score == 5:\n",
    "            i = designations.index(self.designation)\n",
    "            self.designation = designations[i+1]\n",
    "            print(f'Congrats! You have a bonus and been promoted to {self.designation}')\n",
    "    \n",
    "    def transfer(self, option): # option is a boolean\n",
    "        if option == True:\n",
    "            while True:\n",
    "                new = random.choice(office_branches)\n",
    "                if new != self.office_branch:\n",
    "                    self.office_branch = new\n",
    "                    break\n",
    "                else:\n",
    "                    continue\n",
    "            print(f'Congrats! You have been transferred to {self.office_branch}')"
   ]
  },
  {
   "cell_type": "code",
   "execution_count": 15,
   "metadata": {},
   "outputs": [],
   "source": [
    "e1 = Employee('John', 900, 'HR', 'Asso')"
   ]
  },
  {
   "cell_type": "code",
   "execution_count": 16,
   "metadata": {},
   "outputs": [
    {
     "data": {
      "text/plain": [
       "'a'"
      ]
     },
     "execution_count": 16,
     "metadata": {},
     "output_type": "execute_result"
    }
   ],
   "source": [
    "e1.office_branch"
   ]
  },
  {
   "cell_type": "code",
   "execution_count": 17,
   "metadata": {},
   "outputs": [
    {
     "name": "stdout",
     "output_type": "stream",
     "text": [
      "Good Performance\n"
     ]
    }
   ],
   "source": [
    "e1.performance_validation(4)"
   ]
  },
  {
   "cell_type": "code",
   "execution_count": 18,
   "metadata": {},
   "outputs": [
    {
     "name": "stdout",
     "output_type": "stream",
     "text": [
      "Congrats! You have a bonus and been promoted to Exe\n"
     ]
    }
   ],
   "source": [
    "e1.promotion(5)"
   ]
  },
  {
   "cell_type": "code",
   "execution_count": 19,
   "metadata": {},
   "outputs": [
    {
     "name": "stdout",
     "output_type": "stream",
     "text": [
      "Congrats! You have a bonus and been promoted to Sr Exe\n"
     ]
    }
   ],
   "source": [
    "e1.promotion(5)"
   ]
  },
  {
   "cell_type": "markdown",
   "metadata": {},
   "source": [
    "#### file handling"
   ]
  },
  {
   "cell_type": "code",
   "execution_count": 20,
   "metadata": {},
   "outputs": [],
   "source": [
    "# read mode\n",
    "\n",
    "\n",
    "file = open(r'C:\\E\\files\\new\\text1.txt', 'r')"
   ]
  },
  {
   "cell_type": "code",
   "execution_count": 21,
   "metadata": {},
   "outputs": [
    {
     "data": {
      "text/plain": [
       "'line1\\nline2\\nline3'"
      ]
     },
     "execution_count": 21,
     "metadata": {},
     "output_type": "execute_result"
    }
   ],
   "source": [
    "file.read() # to get entire content of the file as a string"
   ]
  },
  {
   "cell_type": "code",
   "execution_count": 22,
   "metadata": {},
   "outputs": [],
   "source": [
    "file.close()"
   ]
  },
  {
   "cell_type": "code",
   "execution_count": 23,
   "metadata": {},
   "outputs": [
    {
     "data": {
      "text/plain": [
       "'lin'"
      ]
     },
     "execution_count": 23,
     "metadata": {},
     "output_type": "execute_result"
    }
   ],
   "source": [
    "file = open(r'C:\\E\\files\\new\\text1.txt', 'r')\n",
    "file.read(3)  # first 3 characters"
   ]
  },
  {
   "cell_type": "code",
   "execution_count": 24,
   "metadata": {},
   "outputs": [
    {
     "data": {
      "text/plain": [
       "'e1\\nli'"
      ]
     },
     "execution_count": 24,
     "metadata": {},
     "output_type": "execute_result"
    }
   ],
   "source": [
    "file.read(5) # next 5 characters after first 3 characters"
   ]
  },
  {
   "cell_type": "code",
   "execution_count": 25,
   "metadata": {},
   "outputs": [],
   "source": [
    "file.close()"
   ]
  },
  {
   "cell_type": "code",
   "execution_count": 26,
   "metadata": {},
   "outputs": [
    {
     "data": {
      "text/plain": [
       "'line1\\n'"
      ]
     },
     "execution_count": 26,
     "metadata": {},
     "output_type": "execute_result"
    }
   ],
   "source": [
    "file = open(r'C:\\E\\files\\new\\text1.txt', 'r')\n",
    "file.readline() # first line"
   ]
  },
  {
   "cell_type": "code",
   "execution_count": 27,
   "metadata": {},
   "outputs": [],
   "source": [
    "file.close()"
   ]
  },
  {
   "cell_type": "code",
   "execution_count": 28,
   "metadata": {},
   "outputs": [
    {
     "data": {
      "text/plain": [
       "['line1\\n', 'line2\\n', 'line3']"
      ]
     },
     "execution_count": 28,
     "metadata": {},
     "output_type": "execute_result"
    }
   ],
   "source": [
    "file = open(r'C:\\E\\files\\new\\text1.txt', 'r')\n",
    "file.readlines() # list - line by line"
   ]
  },
  {
   "cell_type": "code",
   "execution_count": 29,
   "metadata": {},
   "outputs": [],
   "source": [
    "file.close()"
   ]
  },
  {
   "cell_type": "code",
   "execution_count": 30,
   "metadata": {},
   "outputs": [
    {
     "name": "stdout",
     "output_type": "stream",
     "text": [
      "line1\n",
      "\n",
      "line2\n",
      "\n",
      "line3\n"
     ]
    }
   ],
   "source": [
    "file = open(r'C:\\E\\files\\new\\text1.txt', 'r')\n",
    "\n",
    "for i in file:\n",
    "    print(i)"
   ]
  },
  {
   "cell_type": "code",
   "execution_count": 31,
   "metadata": {},
   "outputs": [],
   "source": [
    "# write mode\n",
    "\n",
    "file = open(r'C:\\E\\files\\new\\text2.txt', 'w') # creates the file"
   ]
  },
  {
   "cell_type": "code",
   "execution_count": 32,
   "metadata": {},
   "outputs": [],
   "source": [
    "file.write('writing some text')\n",
    "file.close()"
   ]
  },
  {
   "cell_type": "code",
   "execution_count": 33,
   "metadata": {},
   "outputs": [],
   "source": [
    "# try to open existing file in write mode (repalce with new file and content will be lost if any)\n",
    "\n",
    "file = open(r'C:\\E\\files\\new\\text2.txt', 'w')"
   ]
  },
  {
   "cell_type": "code",
   "execution_count": 34,
   "metadata": {},
   "outputs": [],
   "source": [
    "file.writelines(['line1\\n', 'line2'])\n",
    "file.close()"
   ]
  },
  {
   "cell_type": "code",
   "execution_count": 35,
   "metadata": {},
   "outputs": [],
   "source": [
    "# append mode\n",
    "\n",
    "file = open(r'C:\\E\\files\\new\\text2.txt', 'a')\n",
    "file.write('\\nappend some text')\n",
    "file.close()"
   ]
  },
  {
   "cell_type": "code",
   "execution_count": 36,
   "metadata": {},
   "outputs": [],
   "source": [
    "# x mode to create file\n",
    "\n",
    "file = open(r'C:\\E\\files\\new\\text3.txt', 'x')\n",
    "# created text3.txt"
   ]
  },
  {
   "cell_type": "code",
   "execution_count": 37,
   "metadata": {},
   "outputs": [
    {
     "ename": "FileExistsError",
     "evalue": "[Errno 17] File exists: 'C:\\\\E\\\\files\\\\new\\\\text3.txt'",
     "output_type": "error",
     "traceback": [
      "\u001b[1;31m---------------------------------------------------------------------------\u001b[0m",
      "\u001b[1;31mFileExistsError\u001b[0m                           Traceback (most recent call last)",
      "\u001b[1;32m<ipython-input-37-3e717721633c>\u001b[0m in \u001b[0;36m<module>\u001b[1;34m\u001b[0m\n\u001b[1;32m----> 1\u001b[1;33m \u001b[0mfile\u001b[0m \u001b[1;33m=\u001b[0m \u001b[0mopen\u001b[0m\u001b[1;33m(\u001b[0m\u001b[1;34mr'C:\\E\\files\\new\\text3.txt'\u001b[0m\u001b[1;33m,\u001b[0m \u001b[1;34m'x'\u001b[0m\u001b[1;33m)\u001b[0m\u001b[1;33m\u001b[0m\u001b[1;33m\u001b[0m\u001b[0m\n\u001b[0m",
      "\u001b[1;31mFileExistsError\u001b[0m: [Errno 17] File exists: 'C:\\\\E\\\\files\\\\new\\\\text3.txt'"
     ]
    }
   ],
   "source": [
    "file = open(r'C:\\E\\files\\new\\text3.txt', 'x') # error as text3.txt already exists"
   ]
  },
  {
   "cell_type": "code",
   "execution_count": 39,
   "metadata": {},
   "outputs": [],
   "source": [
    "import os\n",
    "os.chdir(r'C:\\E\\files\\new')"
   ]
  },
  {
   "cell_type": "code",
   "execution_count": 40,
   "metadata": {},
   "outputs": [
    {
     "data": {
      "text/plain": [
       "'line1\\nline2\\nappend some text'"
      ]
     },
     "execution_count": 40,
     "metadata": {},
     "output_type": "execute_result"
    }
   ],
   "source": [
    "file = open(r'text2.txt', 'r')\n",
    "file.read()"
   ]
  },
  {
   "cell_type": "code",
   "execution_count": 41,
   "metadata": {},
   "outputs": [],
   "source": [
    "file.close()"
   ]
  },
  {
   "cell_type": "markdown",
   "metadata": {},
   "source": [
    "##### pandas module to open csv/excel files"
   ]
  },
  {
   "cell_type": "code",
   "execution_count": 38,
   "metadata": {},
   "outputs": [],
   "source": [
    "import pandas as pd"
   ]
  },
  {
   "cell_type": "code",
   "execution_count": 42,
   "metadata": {},
   "outputs": [],
   "source": [
    "df = pd.read_csv(r'C:\\E\\E_drive_copy\\sample_data\\age_sal.csv')"
   ]
  },
  {
   "cell_type": "code",
   "execution_count": 43,
   "metadata": {},
   "outputs": [
    {
     "data": {
      "text/html": [
       "<div>\n",
       "<style scoped>\n",
       "    .dataframe tbody tr th:only-of-type {\n",
       "        vertical-align: middle;\n",
       "    }\n",
       "\n",
       "    .dataframe tbody tr th {\n",
       "        vertical-align: top;\n",
       "    }\n",
       "\n",
       "    .dataframe thead th {\n",
       "        text-align: right;\n",
       "    }\n",
       "</style>\n",
       "<table border=\"1\" class=\"dataframe\">\n",
       "  <thead>\n",
       "    <tr style=\"text-align: right;\">\n",
       "      <th></th>\n",
       "      <th>age</th>\n",
       "      <th>salary</th>\n",
       "    </tr>\n",
       "  </thead>\n",
       "  <tbody>\n",
       "    <tr>\n",
       "      <th>0</th>\n",
       "      <td>21</td>\n",
       "      <td>12642</td>\n",
       "    </tr>\n",
       "    <tr>\n",
       "      <th>1</th>\n",
       "      <td>21</td>\n",
       "      <td>12925</td>\n",
       "    </tr>\n",
       "    <tr>\n",
       "      <th>2</th>\n",
       "      <td>22</td>\n",
       "      <td>13167</td>\n",
       "    </tr>\n",
       "    <tr>\n",
       "      <th>3</th>\n",
       "      <td>24</td>\n",
       "      <td>14929</td>\n",
       "    </tr>\n",
       "    <tr>\n",
       "      <th>4</th>\n",
       "      <td>26</td>\n",
       "      <td>15232</td>\n",
       "    </tr>\n",
       "    <tr>\n",
       "      <th>5</th>\n",
       "      <td>27</td>\n",
       "      <td>17450</td>\n",
       "    </tr>\n",
       "    <tr>\n",
       "      <th>6</th>\n",
       "      <td>27</td>\n",
       "      <td>19261</td>\n",
       "    </tr>\n",
       "    <tr>\n",
       "      <th>7</th>\n",
       "      <td>28</td>\n",
       "      <td>20554</td>\n",
       "    </tr>\n",
       "    <tr>\n",
       "      <th>8</th>\n",
       "      <td>29</td>\n",
       "      <td>22432</td>\n",
       "    </tr>\n",
       "    <tr>\n",
       "      <th>9</th>\n",
       "      <td>30</td>\n",
       "      <td>23147</td>\n",
       "    </tr>\n",
       "    <tr>\n",
       "      <th>10</th>\n",
       "      <td>31</td>\n",
       "      <td>32081</td>\n",
       "    </tr>\n",
       "    <tr>\n",
       "      <th>11</th>\n",
       "      <td>33</td>\n",
       "      <td>33095</td>\n",
       "    </tr>\n",
       "    <tr>\n",
       "      <th>12</th>\n",
       "      <td>33</td>\n",
       "      <td>35472</td>\n",
       "    </tr>\n",
       "    <tr>\n",
       "      <th>13</th>\n",
       "      <td>36</td>\n",
       "      <td>35803</td>\n",
       "    </tr>\n",
       "    <tr>\n",
       "      <th>14</th>\n",
       "      <td>37</td>\n",
       "      <td>38951</td>\n",
       "    </tr>\n",
       "    <tr>\n",
       "      <th>15</th>\n",
       "      <td>38</td>\n",
       "      <td>40326</td>\n",
       "    </tr>\n",
       "    <tr>\n",
       "      <th>16</th>\n",
       "      <td>38</td>\n",
       "      <td>42614</td>\n",
       "    </tr>\n",
       "    <tr>\n",
       "      <th>17</th>\n",
       "      <td>40</td>\n",
       "      <td>43117</td>\n",
       "    </tr>\n",
       "    <tr>\n",
       "      <th>18</th>\n",
       "      <td>42</td>\n",
       "      <td>45577</td>\n",
       "    </tr>\n",
       "    <tr>\n",
       "      <th>19</th>\n",
       "      <td>45</td>\n",
       "      <td>46162</td>\n",
       "    </tr>\n",
       "    <tr>\n",
       "      <th>20</th>\n",
       "      <td>46</td>\n",
       "      <td>48072</td>\n",
       "    </tr>\n",
       "    <tr>\n",
       "      <th>21</th>\n",
       "      <td>46</td>\n",
       "      <td>48336</td>\n",
       "    </tr>\n",
       "    <tr>\n",
       "      <th>22</th>\n",
       "      <td>49</td>\n",
       "      <td>48373</td>\n",
       "    </tr>\n",
       "    <tr>\n",
       "      <th>23</th>\n",
       "      <td>50</td>\n",
       "      <td>48894</td>\n",
       "    </tr>\n",
       "    <tr>\n",
       "      <th>24</th>\n",
       "      <td>50</td>\n",
       "      <td>49742</td>\n",
       "    </tr>\n",
       "  </tbody>\n",
       "</table>\n",
       "</div>"
      ],
      "text/plain": [
       "    age  salary\n",
       "0    21   12642\n",
       "1    21   12925\n",
       "2    22   13167\n",
       "3    24   14929\n",
       "4    26   15232\n",
       "5    27   17450\n",
       "6    27   19261\n",
       "7    28   20554\n",
       "8    29   22432\n",
       "9    30   23147\n",
       "10   31   32081\n",
       "11   33   33095\n",
       "12   33   35472\n",
       "13   36   35803\n",
       "14   37   38951\n",
       "15   38   40326\n",
       "16   38   42614\n",
       "17   40   43117\n",
       "18   42   45577\n",
       "19   45   46162\n",
       "20   46   48072\n",
       "21   46   48336\n",
       "22   49   48373\n",
       "23   50   48894\n",
       "24   50   49742"
      ]
     },
     "execution_count": 43,
     "metadata": {},
     "output_type": "execute_result"
    }
   ],
   "source": [
    "df"
   ]
  },
  {
   "cell_type": "code",
   "execution_count": 44,
   "metadata": {},
   "outputs": [],
   "source": [
    "df2 = pd.read_excel(r'C:\\E\\E_drive_copy\\sample_data\\data_pre.xlsx')"
   ]
  },
  {
   "cell_type": "code",
   "execution_count": 45,
   "metadata": {},
   "outputs": [
    {
     "data": {
      "text/html": [
       "<div>\n",
       "<style scoped>\n",
       "    .dataframe tbody tr th:only-of-type {\n",
       "        vertical-align: middle;\n",
       "    }\n",
       "\n",
       "    .dataframe tbody tr th {\n",
       "        vertical-align: top;\n",
       "    }\n",
       "\n",
       "    .dataframe thead th {\n",
       "        text-align: right;\n",
       "    }\n",
       "</style>\n",
       "<table border=\"1\" class=\"dataframe\">\n",
       "  <thead>\n",
       "    <tr style=\"text-align: right;\">\n",
       "      <th></th>\n",
       "      <th>employee</th>\n",
       "      <th>salary</th>\n",
       "      <th>dept</th>\n",
       "      <th>State</th>\n",
       "      <th>Age</th>\n",
       "    </tr>\n",
       "  </thead>\n",
       "  <tbody>\n",
       "    <tr>\n",
       "      <th>0</th>\n",
       "      <td>A</td>\n",
       "      <td>14947.0</td>\n",
       "      <td>HR</td>\n",
       "      <td>TN</td>\n",
       "      <td>35.0</td>\n",
       "    </tr>\n",
       "    <tr>\n",
       "      <th>1</th>\n",
       "      <td>B</td>\n",
       "      <td>26173.0</td>\n",
       "      <td>Sales</td>\n",
       "      <td>WB</td>\n",
       "      <td>26.0</td>\n",
       "    </tr>\n",
       "    <tr>\n",
       "      <th>2</th>\n",
       "      <td>C</td>\n",
       "      <td>14778.0</td>\n",
       "      <td>CSD</td>\n",
       "      <td>DL</td>\n",
       "      <td>35.0</td>\n",
       "    </tr>\n",
       "    <tr>\n",
       "      <th>3</th>\n",
       "      <td>D</td>\n",
       "      <td>35395.0</td>\n",
       "      <td>CSD</td>\n",
       "      <td>KL</td>\n",
       "      <td>25.0</td>\n",
       "    </tr>\n",
       "    <tr>\n",
       "      <th>4</th>\n",
       "      <td>E</td>\n",
       "      <td>19816.0</td>\n",
       "      <td>CSD</td>\n",
       "      <td>MP</td>\n",
       "      <td>NaN</td>\n",
       "    </tr>\n",
       "    <tr>\n",
       "      <th>5</th>\n",
       "      <td>F</td>\n",
       "      <td>12590.0</td>\n",
       "      <td>NaN</td>\n",
       "      <td>RJ</td>\n",
       "      <td>28.0</td>\n",
       "    </tr>\n",
       "    <tr>\n",
       "      <th>6</th>\n",
       "      <td>G</td>\n",
       "      <td>11782.0</td>\n",
       "      <td>CSD</td>\n",
       "      <td>GJ</td>\n",
       "      <td>24.0</td>\n",
       "    </tr>\n",
       "    <tr>\n",
       "      <th>7</th>\n",
       "      <td>H</td>\n",
       "      <td>39376.0</td>\n",
       "      <td>Sales</td>\n",
       "      <td>MH</td>\n",
       "      <td>35.0</td>\n",
       "    </tr>\n",
       "    <tr>\n",
       "      <th>8</th>\n",
       "      <td>I</td>\n",
       "      <td>23072.0</td>\n",
       "      <td>NaN</td>\n",
       "      <td>MH</td>\n",
       "      <td>35.0</td>\n",
       "    </tr>\n",
       "    <tr>\n",
       "      <th>9</th>\n",
       "      <td>J</td>\n",
       "      <td>12569.0</td>\n",
       "      <td>Sales</td>\n",
       "      <td>NaN</td>\n",
       "      <td>29.0</td>\n",
       "    </tr>\n",
       "    <tr>\n",
       "      <th>10</th>\n",
       "      <td>K</td>\n",
       "      <td>NaN</td>\n",
       "      <td>Sales</td>\n",
       "      <td>TN</td>\n",
       "      <td>35.0</td>\n",
       "    </tr>\n",
       "    <tr>\n",
       "      <th>11</th>\n",
       "      <td>L</td>\n",
       "      <td>NaN</td>\n",
       "      <td>Sales</td>\n",
       "      <td>TN</td>\n",
       "      <td>30.0</td>\n",
       "    </tr>\n",
       "    <tr>\n",
       "      <th>12</th>\n",
       "      <td>M</td>\n",
       "      <td>39196.0</td>\n",
       "      <td>Sales</td>\n",
       "      <td>MP</td>\n",
       "      <td>33.0</td>\n",
       "    </tr>\n",
       "    <tr>\n",
       "      <th>13</th>\n",
       "      <td>N</td>\n",
       "      <td>22706.0</td>\n",
       "      <td>HR</td>\n",
       "      <td>WB</td>\n",
       "      <td>34.0</td>\n",
       "    </tr>\n",
       "    <tr>\n",
       "      <th>14</th>\n",
       "      <td>O</td>\n",
       "      <td>36896.0</td>\n",
       "      <td>HR</td>\n",
       "      <td>WB</td>\n",
       "      <td>22.0</td>\n",
       "    </tr>\n",
       "    <tr>\n",
       "      <th>15</th>\n",
       "      <td>P</td>\n",
       "      <td>18851.0</td>\n",
       "      <td>Marketing</td>\n",
       "      <td>MP</td>\n",
       "      <td>26.0</td>\n",
       "    </tr>\n",
       "    <tr>\n",
       "      <th>16</th>\n",
       "      <td>Q</td>\n",
       "      <td>NaN</td>\n",
       "      <td>Marketing</td>\n",
       "      <td>MP</td>\n",
       "      <td>25.0</td>\n",
       "    </tr>\n",
       "    <tr>\n",
       "      <th>17</th>\n",
       "      <td>R</td>\n",
       "      <td>NaN</td>\n",
       "      <td>Admin</td>\n",
       "      <td>MP</td>\n",
       "      <td>27.0</td>\n",
       "    </tr>\n",
       "    <tr>\n",
       "      <th>18</th>\n",
       "      <td>S</td>\n",
       "      <td>12342.0</td>\n",
       "      <td>CSD</td>\n",
       "      <td>KL</td>\n",
       "      <td>32.0</td>\n",
       "    </tr>\n",
       "    <tr>\n",
       "      <th>19</th>\n",
       "      <td>T</td>\n",
       "      <td>16640.0</td>\n",
       "      <td>CSD</td>\n",
       "      <td>GJ</td>\n",
       "      <td>32.0</td>\n",
       "    </tr>\n",
       "    <tr>\n",
       "      <th>20</th>\n",
       "      <td>U</td>\n",
       "      <td>34752.0</td>\n",
       "      <td>CSD</td>\n",
       "      <td>MP</td>\n",
       "      <td>35.0</td>\n",
       "    </tr>\n",
       "    <tr>\n",
       "      <th>21</th>\n",
       "      <td>V</td>\n",
       "      <td>36456.0</td>\n",
       "      <td>CSD</td>\n",
       "      <td>GJ</td>\n",
       "      <td>34.0</td>\n",
       "    </tr>\n",
       "    <tr>\n",
       "      <th>22</th>\n",
       "      <td>W</td>\n",
       "      <td>13479.0</td>\n",
       "      <td>Sales</td>\n",
       "      <td>MH</td>\n",
       "      <td>55.0</td>\n",
       "    </tr>\n",
       "  </tbody>\n",
       "</table>\n",
       "</div>"
      ],
      "text/plain": [
       "   employee   salary       dept State   Age\n",
       "0         A  14947.0         HR    TN  35.0\n",
       "1         B  26173.0      Sales    WB  26.0\n",
       "2         C  14778.0        CSD    DL  35.0\n",
       "3         D  35395.0        CSD    KL  25.0\n",
       "4         E  19816.0        CSD    MP   NaN\n",
       "5         F  12590.0        NaN    RJ  28.0\n",
       "6         G  11782.0        CSD    GJ  24.0\n",
       "7         H  39376.0      Sales    MH  35.0\n",
       "8         I  23072.0        NaN    MH  35.0\n",
       "9         J  12569.0      Sales   NaN  29.0\n",
       "10        K      NaN      Sales    TN  35.0\n",
       "11        L      NaN      Sales    TN  30.0\n",
       "12        M  39196.0      Sales    MP  33.0\n",
       "13        N  22706.0         HR    WB  34.0\n",
       "14        O  36896.0         HR    WB  22.0\n",
       "15        P  18851.0  Marketing    MP  26.0\n",
       "16        Q      NaN  Marketing    MP  25.0\n",
       "17        R      NaN      Admin    MP  27.0\n",
       "18        S  12342.0        CSD    KL  32.0\n",
       "19        T  16640.0        CSD    GJ  32.0\n",
       "20        U  34752.0        CSD    MP  35.0\n",
       "21        V  36456.0        CSD    GJ  34.0\n",
       "22        W  13479.0      Sales    MH  55.0"
      ]
     },
     "execution_count": 45,
     "metadata": {},
     "output_type": "execute_result"
    }
   ],
   "source": [
    "df2"
   ]
  },
  {
   "cell_type": "code",
   "execution_count": 46,
   "metadata": {},
   "outputs": [
    {
     "name": "stdout",
     "output_type": "stream",
     "text": [
      "<class 'pandas.core.frame.DataFrame'>\n"
     ]
    }
   ],
   "source": [
    "print(type(df))"
   ]
  },
  {
   "cell_type": "code",
   "execution_count": 47,
   "metadata": {},
   "outputs": [
    {
     "data": {
      "text/html": [
       "<div>\n",
       "<style scoped>\n",
       "    .dataframe tbody tr th:only-of-type {\n",
       "        vertical-align: middle;\n",
       "    }\n",
       "\n",
       "    .dataframe tbody tr th {\n",
       "        vertical-align: top;\n",
       "    }\n",
       "\n",
       "    .dataframe thead th {\n",
       "        text-align: right;\n",
       "    }\n",
       "</style>\n",
       "<table border=\"1\" class=\"dataframe\">\n",
       "  <thead>\n",
       "    <tr style=\"text-align: right;\">\n",
       "      <th></th>\n",
       "      <th>age</th>\n",
       "      <th>salary</th>\n",
       "    </tr>\n",
       "  </thead>\n",
       "  <tbody>\n",
       "    <tr>\n",
       "      <th>0</th>\n",
       "      <td>21</td>\n",
       "      <td>12642</td>\n",
       "    </tr>\n",
       "    <tr>\n",
       "      <th>1</th>\n",
       "      <td>21</td>\n",
       "      <td>12925</td>\n",
       "    </tr>\n",
       "    <tr>\n",
       "      <th>2</th>\n",
       "      <td>22</td>\n",
       "      <td>13167</td>\n",
       "    </tr>\n",
       "    <tr>\n",
       "      <th>3</th>\n",
       "      <td>24</td>\n",
       "      <td>14929</td>\n",
       "    </tr>\n",
       "    <tr>\n",
       "      <th>4</th>\n",
       "      <td>26</td>\n",
       "      <td>15232</td>\n",
       "    </tr>\n",
       "  </tbody>\n",
       "</table>\n",
       "</div>"
      ],
      "text/plain": [
       "   age  salary\n",
       "0   21   12642\n",
       "1   21   12925\n",
       "2   22   13167\n",
       "3   24   14929\n",
       "4   26   15232"
      ]
     },
     "execution_count": 47,
     "metadata": {},
     "output_type": "execute_result"
    }
   ],
   "source": [
    "# to view first 5 line\n",
    "\n",
    "df.head()"
   ]
  },
  {
   "cell_type": "code",
   "execution_count": 48,
   "metadata": {},
   "outputs": [
    {
     "data": {
      "text/html": [
       "<div>\n",
       "<style scoped>\n",
       "    .dataframe tbody tr th:only-of-type {\n",
       "        vertical-align: middle;\n",
       "    }\n",
       "\n",
       "    .dataframe tbody tr th {\n",
       "        vertical-align: top;\n",
       "    }\n",
       "\n",
       "    .dataframe thead th {\n",
       "        text-align: right;\n",
       "    }\n",
       "</style>\n",
       "<table border=\"1\" class=\"dataframe\">\n",
       "  <thead>\n",
       "    <tr style=\"text-align: right;\">\n",
       "      <th></th>\n",
       "      <th>age</th>\n",
       "      <th>salary</th>\n",
       "    </tr>\n",
       "  </thead>\n",
       "  <tbody>\n",
       "    <tr>\n",
       "      <th>20</th>\n",
       "      <td>46</td>\n",
       "      <td>48072</td>\n",
       "    </tr>\n",
       "    <tr>\n",
       "      <th>21</th>\n",
       "      <td>46</td>\n",
       "      <td>48336</td>\n",
       "    </tr>\n",
       "    <tr>\n",
       "      <th>22</th>\n",
       "      <td>49</td>\n",
       "      <td>48373</td>\n",
       "    </tr>\n",
       "    <tr>\n",
       "      <th>23</th>\n",
       "      <td>50</td>\n",
       "      <td>48894</td>\n",
       "    </tr>\n",
       "    <tr>\n",
       "      <th>24</th>\n",
       "      <td>50</td>\n",
       "      <td>49742</td>\n",
       "    </tr>\n",
       "  </tbody>\n",
       "</table>\n",
       "</div>"
      ],
      "text/plain": [
       "    age  salary\n",
       "20   46   48072\n",
       "21   46   48336\n",
       "22   49   48373\n",
       "23   50   48894\n",
       "24   50   49742"
      ]
     },
     "execution_count": 48,
     "metadata": {},
     "output_type": "execute_result"
    }
   ],
   "source": [
    "# last 5 line\n",
    "\n",
    "df.tail()"
   ]
  },
  {
   "cell_type": "markdown",
   "metadata": {},
   "source": [
    "### tic tac toe game"
   ]
  },
  {
   "cell_type": "code",
   "execution_count": 62,
   "metadata": {},
   "outputs": [
    {
     "name": "stdout",
     "output_type": "stream",
     "text": [
      "Welcome to tic tac toe\n",
      "Player 1 will be usinf X and Player 2 will be using O\n",
      "| | | |\n",
      "| | | |\n",
      "| | | |\n",
      "Start playing Player-1\n",
      "Its your turn Player-1\n",
      "Enter the selected cell number:\n",
      "1\n",
      "|X| | |\n",
      "| | | |\n",
      "| | | |\n",
      "Its your turn Player-2\n",
      "Enter the selected cell number:\n",
      "2\n",
      "|X|O| |\n",
      "| | | |\n",
      "| | | |\n",
      "Its your turn Player-1\n",
      "Enter the selected cell number:\n",
      "3\n",
      "|X|O|X|\n",
      "| | | |\n",
      "| | | |\n",
      "Its your turn Player-2\n",
      "Enter the selected cell number:\n",
      "4\n",
      "|X|O|X|\n",
      "|O| | |\n",
      "| | | |\n",
      "Its your turn Player-1\n",
      "Enter the selected cell number:\n",
      "6\n",
      "|X|O|X|\n",
      "|O| |X|\n",
      "| | | |\n",
      "Its your turn Player-2\n",
      "Enter the selected cell number:\n",
      "9\n",
      "|X|O|X|\n",
      "|O| |X|\n",
      "| | |O|\n",
      "Its your turn Player-1\n",
      "Enter the selected cell number:\n",
      "5\n",
      "|X|O|X|\n",
      "|O|X|X|\n",
      "| | |O|\n",
      "Its your turn Player-2\n",
      "Enter the selected cell number:\n",
      "7\n",
      "|X|O|X|\n",
      "|O|X|X|\n",
      "|O| |O|\n",
      "Its your turn Player-1\n",
      "Enter the selected cell number:\n",
      "8\n",
      "|X|O|X|\n",
      "|O|X|X|\n",
      "|O|X|O|\n",
      "Its a draw\n"
     ]
    }
   ],
   "source": [
    "import random\n",
    "\n",
    "board = [' ' for i in range(9)]\n",
    "players = ['Player-1', 'Player-2']\n",
    "\n",
    "def print_board():\n",
    "    print('|' + board[0] + '|' + board[1] + '|' + board[2] + '|')\n",
    "    print('|' + board[3] + '|' + board[4] + '|' + board[5] + '|')\n",
    "    print('|' + board[6] + '|' + board[7] + '|' + board[8] + '|')\n",
    "    \n",
    "def select_player():\n",
    "    f_player = random.choice(players)\n",
    "    print(f'Start playing {f_player}')\n",
    "    \n",
    "    global s_player\n",
    "    if f_player == 'Player-1':\n",
    "        s_player = 'Player-2'\n",
    "    else:\n",
    "        s_player = 'Player-1'\n",
    "    return f_player\n",
    "\n",
    "def play(p):\n",
    "    print(f'Its your turn {p}')\n",
    "    n = int(input('Enter the selected cell number:\\n'))\n",
    "    if p == 'Player-1':\n",
    "        if board[n-1] == ' ':\n",
    "            board[n-1] = 'X'\n",
    "        else:\n",
    "            print('Sorry! space occupied.')\n",
    "            \n",
    "    if p == 'Player-2':\n",
    "        if board[n-1] == ' ':\n",
    "            board[n-1] = 'O'\n",
    "        else:\n",
    "            print('Sorry! space occupied.')\n",
    "    print_board()\n",
    "    \n",
    "\n",
    "def p1_win(b1):\n",
    "    if (b1[0]==b1[1]==b1[2]=='X') or (b1[3]==b1[4]==b1[5]=='X') or (b1[6]==b1[7]==b1[8]=='X') or (b1[0]==b1[3]==b1[6]=='X') or (b1[1]==b1[4]==b1[7]=='X') or (b1[2]==b1[5]==b1[8]=='X') or (b1[0]==b1[4]==b1[8]=='X') or (b1[2]==b1[4]==b1[6]=='X'):\n",
    "        return True\n",
    "    return False\n",
    "\n",
    "def p2_win(b1):\n",
    "    if (b1[0]==b1[1]==b1[2]=='O') or (b1[3]==b1[4]==b1[5]=='O') or (b1[6]==b1[7]==b1[8]=='O') or (b1[0]==b1[3]==b1[6]=='O') or (b1[1]==b1[4]==b1[7]=='O') or (b1[2]==b1[5]==b1[8]=='O') or (b1[0]==b1[4]==b1[8]=='O') or (b1[2]==b1[4]==b1[6]=='O'):\n",
    "        return True\n",
    "    return False\n",
    "\n",
    "def draw(b1):\n",
    "    if b1[0]!= ' ' and b1[1]!= ' ' and b1[2]!= ' ' and b1[3]!= ' ' and b1[4]!= ' ' and b1[5]!= ' ' and b1[6]!= ' ' and b1[7]!= ' ' and b1[8]!= ' ':\n",
    "        return True\n",
    "    return False\n",
    "\n",
    "print('Welcome to tic tac toe')\n",
    "print('Player 1 will be usinf X and Player 2 will be using O')\n",
    "\n",
    "print_board()\n",
    "c = select_player()\n",
    "\n",
    "while True:\n",
    "    \n",
    "    play(c)\n",
    "    \n",
    "    if p1_win(board):\n",
    "        print('Congrats! Player-1 (X) wins')\n",
    "        break\n",
    "    elif p2_win(board):\n",
    "        print('Congrats! Player-2 (O) wins')\n",
    "        break\n",
    "    elif draw(board):\n",
    "        print('Its a draw')\n",
    "        break\n",
    "        \n",
    "    play(s_player)"
   ]
  },
  {
   "cell_type": "code",
   "execution_count": null,
   "metadata": {},
   "outputs": [],
   "source": [
    "()"
   ]
  }
 ],
 "metadata": {
  "kernelspec": {
   "display_name": "Python 3",
   "language": "python",
   "name": "python3"
  },
  "language_info": {
   "codemirror_mode": {
    "name": "ipython",
    "version": 3
   },
   "file_extension": ".py",
   "mimetype": "text/x-python",
   "name": "python",
   "nbconvert_exporter": "python",
   "pygments_lexer": "ipython3",
   "version": "3.8.5"
  }
 },
 "nbformat": 4,
 "nbformat_minor": 4
}
