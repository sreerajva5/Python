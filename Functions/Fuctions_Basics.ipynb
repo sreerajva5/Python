{
 "cells": [
  {
   "cell_type": "markdown",
   "metadata": {},
   "source": [
    "# Functions Basics"
   ]
  },
  {
   "cell_type": "markdown",
   "metadata": {},
   "source": [
    "### Function to add to numbers"
   ]
  },
  {
   "cell_type": "code",
   "execution_count": 1,
   "metadata": {},
   "outputs": [],
   "source": [
    "def add(a,b):\n",
    "    return(a+b)  # function to add 2 numbers"
   ]
  },
  {
   "cell_type": "code",
   "execution_count": 2,
   "metadata": {},
   "outputs": [
    {
     "data": {
      "text/plain": [
       "15"
      ]
     },
     "execution_count": 2,
     "metadata": {},
     "output_type": "execute_result"
    }
   ],
   "source": [
    "add(10,5)  # calling add function to add 10 & 5"
   ]
  },
  {
   "cell_type": "markdown",
   "metadata": {},
   "source": [
    "### Function to do addition, substraction, multiplication, division of 2 numbers"
   ]
  },
  {
   "cell_type": "code",
   "execution_count": 7,
   "metadata": {},
   "outputs": [],
   "source": [
    "def math_ops(a,b):\n",
    "    sum = a+b\n",
    "    dif = a-b\n",
    "    prod = a*b\n",
    "    div = a/b\n",
    "    return (\"Sum of given numbers is {}, difference is {}, product is {} and quotient is {}\").format(sum, dif, prod, div)\n",
    "#a funstion to perform basic math operations"
   ]
  },
  {
   "cell_type": "code",
   "execution_count": 8,
   "metadata": {},
   "outputs": [
    {
     "data": {
      "text/plain": [
       "'Sum of given numbers is 15, difference is 5, product is 50 and quotient is 2.0'"
      ]
     },
     "execution_count": 8,
     "metadata": {},
     "output_type": "execute_result"
    }
   ],
   "source": [
    "math_ops(10,5)"
   ]
  },
  {
   "cell_type": "markdown",
   "metadata": {},
   "source": [
    "#### Function to split any sentence in to words"
   ]
  },
  {
   "cell_type": "code",
   "execution_count": 9,
   "metadata": {},
   "outputs": [],
   "source": [
    "def split(x):\n",
    "    return(s.split(' '))  # a function to split a sentence into words"
   ]
  },
  {
   "cell_type": "code",
   "execution_count": 10,
   "metadata": {},
   "outputs": [
    {
     "data": {
      "text/plain": [
       "['I', 'want', 'to', 'split', 'a', 'sentence', 'into', 'words']"
      ]
     },
     "execution_count": 10,
     "metadata": {},
     "output_type": "execute_result"
    }
   ],
   "source": [
    "s = 'I want to split a sentence into words'\n",
    "split(s)\n",
    "# using split function splitting string 's' into words"
   ]
  },
  {
   "cell_type": "markdown",
   "metadata": {},
   "source": [
    "### Function to print till 'n'th multiple of a number"
   ]
  },
  {
   "cell_type": "code",
   "execution_count": 90,
   "metadata": {},
   "outputs": [],
   "source": [
    "def multiple(x,n):\n",
    "    for i in range(1, n+1):\n",
    "        print(x*i)\n",
    "#function to print till 'n'th multiple of x"
   ]
  },
  {
   "cell_type": "code",
   "execution_count": 91,
   "metadata": {},
   "outputs": [
    {
     "name": "stdout",
     "output_type": "stream",
     "text": [
      "5\n",
      "10\n",
      "15\n",
      "20\n",
      "25\n",
      "30\n",
      "35\n",
      "40\n",
      "45\n",
      "50\n"
     ]
    }
   ],
   "source": [
    "multiple(5,10)  #calling function 'multiple' to print till 10th multiple of 5"
   ]
  },
  {
   "cell_type": "markdown",
   "metadata": {},
   "source": [
    "### A game asking sum of 2 number 5 times and giving a score using finction"
   ]
  },
  {
   "cell_type": "code",
   "execution_count": 1,
   "metadata": {},
   "outputs": [],
   "source": [
    "import random\n",
    "\n",
    "def game():\n",
    "    score = 0\n",
    "    for i in range(5):\n",
    "        x = random.randint(1,10)\n",
    "        y = random.randint(1,10)\n",
    "        z = int(input(\"Enter the sum of {} and {} \\n\".format(x,y)))\n",
    "        if z == x + y:\n",
    "            score=score + 10\n",
    "            print (score)\n",
    "        else:\n",
    "            score = score\n",
    "    return(\"Your score is {}\".format(score))"
   ]
  },
  {
   "cell_type": "code",
   "execution_count": 3,
   "metadata": {},
   "outputs": [
    {
     "name": "stdout",
     "output_type": "stream",
     "text": [
      "Enter the sum of 1 and 7 \n",
      "8\n",
      "10\n",
      "Enter the sum of 6 and 9 \n",
      "15\n",
      "20\n",
      "Enter the sum of 8 and 7 \n",
      "15\n",
      "30\n",
      "Enter the sum of 8 and 6 \n",
      "14\n",
      "40\n",
      "Enter the sum of 6 and 3 \n",
      "9\n",
      "50\n"
     ]
    },
    {
     "data": {
      "text/plain": [
       "'Your score is 50'"
      ]
     },
     "execution_count": 3,
     "metadata": {},
     "output_type": "execute_result"
    }
   ],
   "source": [
    "game()  #calling game function"
   ]
  },
  {
   "cell_type": "markdown",
   "metadata": {},
   "source": [
    "### Same game with multiple math operations"
   ]
  },
  {
   "cell_type": "code",
   "execution_count": 11,
   "metadata": {},
   "outputs": [],
   "source": [
    "import random\n",
    "\n",
    "def game2():\n",
    "    l = ['*', '+', '-']\n",
    "    score = 0\n",
    "    \n",
    "    for _ in range(5):\n",
    "        choice = random.choice(l)\n",
    "        x = random.randint(1,10)\n",
    "        y = random.randint(1,10)\n",
    "        z = int(input(\"Enter the val of {} {} {} \\n\".format(x,choice,y)))\n",
    "        if choice == '*':\n",
    "            o = x*y\n",
    "        elif choice == '+':\n",
    "            o=x+y\n",
    "        elif choice == '-':\n",
    "            o=x-y\n",
    "        if z == o:\n",
    "            score=score + 10\n",
    "            print (score)\n",
    "        else:\n",
    "            score = score\n",
    "    return(\"Your score is {}\".format(score))"
   ]
  },
  {
   "cell_type": "code",
   "execution_count": 12,
   "metadata": {},
   "outputs": [
    {
     "name": "stdout",
     "output_type": "stream",
     "text": [
      "Enter the val of 1 - 9 \n",
      "-8\n",
      "10\n",
      "Enter the val of 5 - 5 \n",
      "0\n",
      "20\n",
      "Enter the val of 9 - 7 \n",
      "2\n",
      "30\n",
      "Enter the val of 3 * 10 \n",
      "30\n",
      "40\n",
      "Enter the val of 3 + 2 \n",
      "5\n",
      "50\n"
     ]
    },
    {
     "data": {
      "text/plain": [
       "'Your score is 50'"
      ]
     },
     "execution_count": 12,
     "metadata": {},
     "output_type": "execute_result"
    }
   ],
   "source": [
    "game2()  #calling the game function"
   ]
  },
  {
   "cell_type": "markdown",
   "metadata": {},
   "source": [
    "### Number of vowels check through function"
   ]
  },
  {
   "cell_type": "code",
   "execution_count": 17,
   "metadata": {},
   "outputs": [],
   "source": [
    "def vowel(x):\n",
    "    vowel_count = 0\n",
    "    v = 'aeiou'\n",
    "    for i in x:\n",
    "        if i in v:\n",
    "            vowel_count+=1\n",
    "        else:\n",
    "            vowel_count=vowel_count\n",
    "    return(\"Number of vowels in given string is {}\".format(vowel_count))"
   ]
  },
  {
   "cell_type": "code",
   "execution_count": 19,
   "metadata": {},
   "outputs": [
    {
     "data": {
      "text/plain": [
       "'Number of vowels in given string is 3'"
      ]
     },
     "execution_count": 19,
     "metadata": {},
     "output_type": "execute_result"
    }
   ],
   "source": [
    "vowel('elephant')"
   ]
  },
  {
   "cell_type": "markdown",
   "metadata": {},
   "source": [
    "### A function to check if the given word is a palindrome"
   ]
  },
  {
   "cell_type": "code",
   "execution_count": 95,
   "metadata": {},
   "outputs": [],
   "source": [
    "def palindrome(x):\n",
    "    x=x.lower()\n",
    "    for i in x:\n",
    "        if x==x[::-1]:\n",
    "            out = \"Mentioned word is a palindrome\"\n",
    "        else:\n",
    "            out = \"Mentioned word is not a palindrome\"\n",
    "    return(out)"
   ]
  },
  {
   "cell_type": "code",
   "execution_count": 96,
   "metadata": {},
   "outputs": [
    {
     "data": {
      "text/plain": [
       "'Mentioned word is a palindrome'"
      ]
     },
     "execution_count": 96,
     "metadata": {},
     "output_type": "execute_result"
    }
   ],
   "source": [
    "palindrome('malayalam')"
   ]
  },
  {
   "cell_type": "code",
   "execution_count": 97,
   "metadata": {},
   "outputs": [
    {
     "data": {
      "text/plain": [
       "'Mentioned word is not a palindrome'"
      ]
     },
     "execution_count": 97,
     "metadata": {},
     "output_type": "execute_result"
    }
   ],
   "source": [
    "palindrome('abcd')"
   ]
  },
  {
   "cell_type": "markdown",
   "metadata": {},
   "source": [
    "### To check if 1 string is the sub-string of the other"
   ]
  },
  {
   "cell_type": "code",
   "execution_count": 81,
   "metadata": {},
   "outputs": [],
   "source": [
    "def substring(x,y):\n",
    "    if y in x:\n",
    "        out = \"{} is a substring of {}\".format(y,x)\n",
    "    else:\n",
    "        out = \"{} is not a substring of {}\".format(y,x)\n",
    "    return(out)"
   ]
  },
  {
   "cell_type": "code",
   "execution_count": 82,
   "metadata": {},
   "outputs": [
    {
     "data": {
      "text/plain": [
       "'ab is a substring of abcd'"
      ]
     },
     "execution_count": 82,
     "metadata": {},
     "output_type": "execute_result"
    }
   ],
   "source": [
    "substring('abcd', 'ab')"
   ]
  },
  {
   "cell_type": "code",
   "execution_count": 83,
   "metadata": {},
   "outputs": [
    {
     "data": {
      "text/plain": [
       "'ad is not a substring of abcd'"
      ]
     },
     "execution_count": 83,
     "metadata": {},
     "output_type": "execute_result"
    }
   ],
   "source": [
    "substring('abcd', 'ad')"
   ]
  },
  {
   "cell_type": "markdown",
   "metadata": {},
   "source": [
    "### word rotation function (anti-clock wise)"
   ]
  },
  {
   "cell_type": "code",
   "execution_count": 105,
   "metadata": {},
   "outputs": [],
   "source": [
    "def word_rotate(x):\n",
    "    out = []\n",
    "    for i in range(len(x)):\n",
    "        o = x[-i:]+x[:-i]\n",
    "        out.append(o)\n",
    "    return(out)"
   ]
  },
  {
   "cell_type": "code",
   "execution_count": 106,
   "metadata": {},
   "outputs": [
    {
     "data": {
      "text/plain": [
       "['pqrst', 'tpqrs', 'stpqr', 'rstpq', 'qrstp']"
      ]
     },
     "execution_count": 106,
     "metadata": {},
     "output_type": "execute_result"
    }
   ],
   "source": [
    "word_rotate('pqrst')"
   ]
  },
  {
   "cell_type": "markdown",
   "metadata": {},
   "source": [
    "### word rotation function (clock wise)"
   ]
  },
  {
   "cell_type": "code",
   "execution_count": 1,
   "metadata": {},
   "outputs": [],
   "source": [
    "def clock_rotate(x):\n",
    "    out2 = []\n",
    "    for i in range(len(x)):\n",
    "        o = x[i:] + x[:i]\n",
    "        out2.append(o)\n",
    "    return(out2)"
   ]
  },
  {
   "cell_type": "code",
   "execution_count": 2,
   "metadata": {},
   "outputs": [
    {
     "data": {
      "text/plain": [
       "['pqrst', 'qrstp', 'rstpq', 'stpqr', 'tpqrs']"
      ]
     },
     "execution_count": 2,
     "metadata": {},
     "output_type": "execute_result"
    }
   ],
   "source": [
    "clock_rotate('pqrst')"
   ]
  },
  {
   "cell_type": "markdown",
   "metadata": {},
   "source": [
    "### Count of each wrod in a sentence"
   ]
  },
  {
   "cell_type": "code",
   "execution_count": 107,
   "metadata": {},
   "outputs": [],
   "source": [
    "def word_count(x):\n",
    "    l = x.split()\n",
    "    count = {}\n",
    "    for i in l:\n",
    "        if i in count:\n",
    "            count[i] += 1\n",
    "        else:\n",
    "            count[i] = 1\n",
    "    return(count)"
   ]
  },
  {
   "cell_type": "code",
   "execution_count": 108,
   "metadata": {},
   "outputs": [
    {
     "data": {
      "text/plain": [
       "{'I': 4, 'was': 3, 'sick': 2, 'yesterday': 1}"
      ]
     },
     "execution_count": 108,
     "metadata": {},
     "output_type": "execute_result"
    }
   ],
   "source": [
    "word_count(\"I was sick yesterday I was sick I was I\")"
   ]
  },
  {
   "cell_type": "markdown",
   "metadata": {},
   "source": [
    "### Join the letters in a word with '.*' in between the letters"
   ]
  },
  {
   "cell_type": "code",
   "execution_count": 125,
   "metadata": {},
   "outputs": [],
   "source": [
    "def join_sp(x):\n",
    "    l = []\n",
    "    for i in x:\n",
    "        l.append(i)\n",
    "    o = '.*'.join(l)\n",
    "    return(o)"
   ]
  },
  {
   "cell_type": "code",
   "execution_count": 126,
   "metadata": {},
   "outputs": [
    {
     "data": {
      "text/plain": [
       "'a.*b.*c.*d'"
      ]
     },
     "execution_count": 126,
     "metadata": {},
     "output_type": "execute_result"
    }
   ],
   "source": [
    "join_sp('abcd')"
   ]
  },
  {
   "cell_type": "markdown",
   "metadata": {},
   "source": [
    "### Sum of n numbers in single function"
   ]
  },
  {
   "cell_type": "code",
   "execution_count": 129,
   "metadata": {},
   "outputs": [],
   "source": [
    "def nsum(*x):\n",
    "    sum=0\n",
    "    for i in x:\n",
    "        sum = sum+i\n",
    "    return(\"Sum is {}\".format(sum))"
   ]
  },
  {
   "cell_type": "code",
   "execution_count": 130,
   "metadata": {},
   "outputs": [
    {
     "data": {
      "text/plain": [
       "'Sum is 55'"
      ]
     },
     "execution_count": 130,
     "metadata": {},
     "output_type": "execute_result"
    }
   ],
   "source": [
    "nsum(1,2,3,4,5,6,7,8,9,10)"
   ]
  },
  {
   "cell_type": "code",
   "execution_count": null,
   "metadata": {},
   "outputs": [],
   "source": []
  }
 ],
 "metadata": {
  "kernelspec": {
   "display_name": "Python 3",
   "language": "python",
   "name": "python3"
  },
  "language_info": {
   "codemirror_mode": {
    "name": "ipython",
    "version": 3
   },
   "file_extension": ".py",
   "mimetype": "text/x-python",
   "name": "python",
   "nbconvert_exporter": "python",
   "pygments_lexer": "ipython3",
   "version": "3.6.5"
  }
 },
 "nbformat": 4,
 "nbformat_minor": 2
}
