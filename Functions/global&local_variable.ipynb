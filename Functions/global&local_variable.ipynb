{
 "cells": [
  {
   "cell_type": "markdown",
   "metadata": {},
   "source": [
    "### local & global variable"
   ]
  },
  {
   "cell_type": "code",
   "execution_count": 6,
   "metadata": {},
   "outputs": [
    {
     "name": "stdout",
     "output_type": "stream",
     "text": [
      "not in function 10\n",
      "in function  5\n"
     ]
    }
   ],
   "source": [
    "a = 10\n",
    "print('not in function', a)  # a is global\n",
    "\n",
    "def something():\n",
    "    a = 5\n",
    "    print('in function ',a)  # a is local for function something\n",
    "\n",
    "something()"
   ]
  },
  {
   "cell_type": "markdown",
   "metadata": {},
   "source": [
    "####### inside finction preference will be given to local variable"
   ]
  },
  {
   "cell_type": "code",
   "execution_count": 7,
   "metadata": {},
   "outputs": [
    {
     "name": "stdout",
     "output_type": "stream",
     "text": [
      "in function  10\n"
     ]
    }
   ],
   "source": [
    "## if there is no local variable, function will take global variable\n",
    "a = 10\n",
    "\n",
    "\n",
    "def something():\n",
    "    \n",
    "    print('in function ',a)\n",
    "\n",
    "something()"
   ]
  },
  {
   "cell_type": "markdown",
   "metadata": {},
   "source": [
    "##### To change a global variable from inside a function"
   ]
  },
  {
   "cell_type": "code",
   "execution_count": 9,
   "metadata": {},
   "outputs": [
    {
     "name": "stdout",
     "output_type": "stream",
     "text": [
      "in function  5\n",
      "not in function 5\n"
     ]
    }
   ],
   "source": [
    "a = 10\n",
    "\n",
    "\n",
    "def something():\n",
    "    global a   # this replaces global variable value and assign as local variable also\n",
    "    a = 5\n",
    "    print('in function ',a)  # a is local for function something\n",
    "\n",
    "something()\n",
    "\n",
    "print('not in function', a)  # a is global"
   ]
  },
  {
   "cell_type": "markdown",
   "metadata": {},
   "source": [
    "#### to have a global variable 'a' and local variable 'a' in same function"
   ]
  },
  {
   "cell_type": "code",
   "execution_count": 12,
   "metadata": {},
   "outputs": [
    {
     "name": "stdout",
     "output_type": "stream",
     "text": [
      "not in function 10\n",
      "in function  5\n",
      "not in function 25\n"
     ]
    }
   ],
   "source": [
    "a = 10\n",
    "print('not in function', a)  # a is global\n",
    "\n",
    "def something():\n",
    "    a = 5\n",
    "    \n",
    "    globals()['a']  = 25  # this replaces global value without effecting local value\n",
    "    \n",
    "    print('in function ',a)  # a is local for function something\n",
    "    \n",
    "\n",
    "something()\n",
    "\n",
    "print('not in function', a)  # printing global 'a' after changing value from inside function"
   ]
  },
  {
   "cell_type": "code",
   "execution_count": null,
   "metadata": {},
   "outputs": [],
   "source": []
  }
 ],
 "metadata": {
  "kernelspec": {
   "display_name": "Python 3",
   "language": "python",
   "name": "python3"
  },
  "language_info": {
   "codemirror_mode": {
    "name": "ipython",
    "version": 3
   },
   "file_extension": ".py",
   "mimetype": "text/x-python",
   "name": "python",
   "nbconvert_exporter": "python",
   "pygments_lexer": "ipython3",
   "version": "3.6.5"
  }
 },
 "nbformat": 4,
 "nbformat_minor": 2
}
