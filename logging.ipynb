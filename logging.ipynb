{
 "cells": [
  {
   "cell_type": "code",
   "execution_count": 1,
   "metadata": {},
   "outputs": [],
   "source": [
    "import logging"
   ]
  },
  {
   "cell_type": "code",
   "execution_count": 2,
   "metadata": {},
   "outputs": [],
   "source": [
    "# helps to add content into file\n",
    "\n",
    "# info : information (things working as expected)\n",
    "# warning (indicative problem in near future)\n",
    "# error (exception in between execution)\n",
    "# debug (detailed info - while diagonosing problems)\n",
    "# critical (series error)"
   ]
  },
  {
   "cell_type": "code",
   "execution_count": 3,
   "metadata": {},
   "outputs": [
    {
     "name": "stdout",
     "output_type": "stream",
     "text": [
      "3\n"
     ]
    }
   ],
   "source": [
    "logging.basicConfig(filename='test.log', level=logging.DEBUG)\n",
    "print(1+2)\n",
    "logging.debug('date=123,time=10,warning=module depricated')"
   ]
  },
  {
   "cell_type": "code",
   "execution_count": 4,
   "metadata": {},
   "outputs": [
    {
     "name": "stdout",
     "output_type": "stream",
     "text": [
      "3\n"
     ]
    }
   ],
   "source": [
    "logging.basicConfig(filename='test.log', level=logging.INFO)\n",
    "print(1+2)\n",
    "logging.info('date=1234,time=10,warning=module depricated')"
   ]
  },
  {
   "cell_type": "code",
   "execution_count": 5,
   "metadata": {},
   "outputs": [
    {
     "name": "stdout",
     "output_type": "stream",
     "text": [
      "3\n"
     ]
    }
   ],
   "source": [
    "logging.basicConfig(filename='test.log', level=logging.WARNING)\n",
    "print(1+2)\n",
    "logging.warning('date=1234,time=10,warning=module depricated')"
   ]
  },
  {
   "cell_type": "code",
   "execution_count": 6,
   "metadata": {},
   "outputs": [
    {
     "name": "stdout",
     "output_type": "stream",
     "text": [
      "3\n"
     ]
    }
   ],
   "source": [
    "logging.basicConfig(filename='test.log', level=logging.ERROR)\n",
    "print(1+2)\n",
    "logging.error('date=1234,time=10,warning=module depricated')"
   ]
  },
  {
   "cell_type": "code",
   "execution_count": 7,
   "metadata": {},
   "outputs": [
    {
     "name": "stdout",
     "output_type": "stream",
     "text": [
      "3\n"
     ]
    }
   ],
   "source": [
    "logging.basicConfig(filename='test.log', level=logging.CRITICAL)\n",
    "print(1+2)\n",
    "logging.critical('date=1234,time=10,warning=module depricated')"
   ]
  },
  {
   "cell_type": "code",
   "execution_count": 12,
   "metadata": {},
   "outputs": [
    {
     "name": "stdout",
     "output_type": "stream",
     "text": [
      "3\n"
     ]
    }
   ],
   "source": [
    "logging.basicConfig(filename='test.log', level=logging.DEBUG, format='%(asctime)s:%(message)s')\n",
    "print(1+2)\n",
    "logging.debug('warning=module depricated')"
   ]
  },
  {
   "cell_type": "code",
   "execution_count": null,
   "metadata": {},
   "outputs": [],
   "source": []
  }
 ],
 "metadata": {
  "kernelspec": {
   "display_name": "Python 3",
   "language": "python",
   "name": "python3"
  },
  "language_info": {
   "codemirror_mode": {
    "name": "ipython",
    "version": 3
   },
   "file_extension": ".py",
   "mimetype": "text/x-python",
   "name": "python",
   "nbconvert_exporter": "python",
   "pygments_lexer": "ipython3",
   "version": "3.8.5"
  }
 },
 "nbformat": 4,
 "nbformat_minor": 4
}
